{
 "cells": [
  {
   "cell_type": "markdown",
   "id": "4bd3b38627a79766",
   "metadata": {},
   "source": [
    "# Projet UTA : Explorer la musique à travers les émotions\n",
    "\n",
    "## Introduction\n",
    "\n",
    "Pour les besoins de ce projet, nous avons utilisé des ensembles de données issus de **Kaggle**. Nous avons trouvé et combiné plusieurs ensembles de données contenant des informations brutes ventilées par **année, éléments de musique, genre, artiste et région**. La richesse des informations contenues dans ces jeux de données nous a permis de **raconter une histoire** et d'**explorer les liens entre la musique et les émotions humaines**.\n",
    "\n",
    "## Objectif du projet\n",
    "\n",
    "À première vue, des paramètres comme la **dansabilité**, l’**énergie** ou encore la **popularité** semblent être de simples données froides et abstraites. Pourtant, derrière ces chiffres se cachent des **comportements, des ressentis et des émotions profondément humains**.\n",
    "\n",
    "Notre objectif est d’**aller au-delà des apparences** et d’utiliser ces informations pour mieux comprendre la **relation entre la musique et les personnes qui l’écoutent**.\n",
    "\n",
    "## UTA : Une application qui transcende l’expérience musicale\n",
    "\n",
    "Dans le cadre de ce projet, nous avons développé **UTA**, une application dont le nom est inspiré du personnage de *One Piece*, **Uta**, qui cherche à **transcender les auditeurs à travers sa musique**.\n",
    "\n",
    "À travers **UTA**, nous voulons dépasser les simples recommandations algorithmiques et proposer une **expérience musicale réellement adaptée aux émotions des utilisateurs**.\n",
    "\n",
    "L’objectif est de faire en sorte que **chaque morceau sélectionné résonne avec ce qu’ils ressentent à l’instant présent**, en exploitant les **données de Spotify** pour créer une **immersion musicale encore plus forte**.\n",
    "\n",
    "## Comprendre l’humain derrière les données\n",
    "\n",
    "Avec **UTA**, nous cherchons à **comprendre l’humain derrière les données** et à démontrer que **la musique, bien plus qu’une simple suite de notes et de rythmes, est un véritable langage des émotions**.\n",
    "\n",
    "## Les données utilisées\n",
    "\n",
    "Les données utilisées dans ce projet proviennent de **cinq ensembles de données** qui nous permettent d’**analyser et de visualiser individuellement** les informations de Spotify en fonction des **genres, des artistes et des années**.\n",
    "\n",
    "Cette approche nous aide à mieux comprendre **les tendances des différentes caractéristiques musicales** en fonction de ces **hyperparamètres**.\n"
   ]
  },
  {
   "cell_type": "code",
   "execution_count": 44,
   "id": "initial_id",
   "metadata": {
    "ExecuteTime": {
     "end_time": "2025-02-08T19:11:53.441525300Z",
     "start_time": "2025-02-08T19:11:52.770578400Z"
    },
    "collapsed": true
   },
   "outputs": [],
   "source": [
    "import numpy as np\n",
    "import pandas as pd\n",
    "\n",
    "import plotly.express as px\n",
    "import warnings\n",
    "\n",
    "warnings.filterwarnings(\"ignore\")\n"
   ]
  },
  {
   "cell_type": "markdown",
   "id": "2a8a6d2eae45ef53",
   "metadata": {},
   "source": [
    "# Chargement des nouvelles données, source (https://www.kaggle.com/datasets/vatsalmavani/spotify-dataset)"
   ]
  },
  {
   "cell_type": "code",
   "execution_count": 45,
   "id": "419d602c884b879a",
   "metadata": {
    "ExecuteTime": {
     "end_time": "2025-02-08T19:11:53.814635900Z",
     "start_time": "2025-02-08T19:11:53.443038500Z"
    }
   },
   "outputs": [],
   "source": [
    "data = pd.read_csv('data/data.csv')\n",
    "genre_data = pd.read_csv('data/data_by_genres.csv')\n",
    "artist_data = pd.read_csv('data/data_by_artist.csv')\n",
    "year_data = pd.read_csv('data/data_by_year.csv')\n",
    "genre_data_2 = pd.read_csv('data/data_w_genres.csv')"
   ]
  },
  {
   "cell_type": "code",
   "execution_count": 46,
   "id": "a7d3883170f19a44",
   "metadata": {
    "ExecuteTime": {
     "end_time": "2025-02-08T19:11:53.889528Z",
     "start_time": "2025-02-08T19:11:53.798376900Z"
    }
   },
   "outputs": [
    {
     "name": "stdout",
     "output_type": "stream",
     "text": [
      "<class 'pandas.core.frame.DataFrame'>\n",
      "RangeIndex: 170653 entries, 0 to 170652\n",
      "Data columns (total 19 columns):\n",
      " #   Column            Non-Null Count   Dtype  \n",
      "---  ------            --------------   -----  \n",
      " 0   valence           170653 non-null  float64\n",
      " 1   year              170653 non-null  int64  \n",
      " 2   acousticness      170653 non-null  float64\n",
      " 3   artists           170653 non-null  object \n",
      " 4   danceability      170653 non-null  float64\n",
      " 5   duration_ms       170653 non-null  int64  \n",
      " 6   energy            170653 non-null  float64\n",
      " 7   explicit          170653 non-null  int64  \n",
      " 8   id                170653 non-null  object \n",
      " 9   instrumentalness  170653 non-null  float64\n",
      " 10  key               170653 non-null  int64  \n",
      " 11  liveness          170653 non-null  float64\n",
      " 12  loudness          170653 non-null  float64\n",
      " 13  mode              170653 non-null  int64  \n",
      " 14  name              170653 non-null  object \n",
      " 15  popularity        170653 non-null  int64  \n",
      " 16  release_date      170653 non-null  object \n",
      " 17  speechiness       170653 non-null  float64\n",
      " 18  tempo             170653 non-null  float64\n",
      "dtypes: float64(9), int64(6), object(4)\n",
      "memory usage: 24.7+ MB\n"
     ]
    }
   ],
   "source": [
    "data.info()"
   ]
  },
  {
   "cell_type": "code",
   "execution_count": 47,
   "id": "7b0062808a8ff642",
   "metadata": {
    "ExecuteTime": {
     "end_time": "2025-02-08T19:11:53.890037900Z",
     "start_time": "2025-02-08T19:11:53.820742500Z"
    }
   },
   "outputs": [
    {
     "name": "stdout",
     "output_type": "stream",
     "text": [
      "<class 'pandas.core.frame.DataFrame'>\n",
      "RangeIndex: 2973 entries, 0 to 2972\n",
      "Data columns (total 14 columns):\n",
      " #   Column            Non-Null Count  Dtype  \n",
      "---  ------            --------------  -----  \n",
      " 0   mode              2973 non-null   int64  \n",
      " 1   genres            2973 non-null   object \n",
      " 2   acousticness      2973 non-null   float64\n",
      " 3   danceability      2973 non-null   float64\n",
      " 4   duration_ms       2973 non-null   float64\n",
      " 5   energy            2973 non-null   float64\n",
      " 6   instrumentalness  2973 non-null   float64\n",
      " 7   liveness          2973 non-null   float64\n",
      " 8   loudness          2973 non-null   float64\n",
      " 9   speechiness       2973 non-null   float64\n",
      " 10  tempo             2973 non-null   float64\n",
      " 11  valence           2973 non-null   float64\n",
      " 12  popularity        2973 non-null   float64\n",
      " 13  key               2973 non-null   int64  \n",
      "dtypes: float64(11), int64(2), object(1)\n",
      "memory usage: 325.3+ KB\n"
     ]
    }
   ],
   "source": [
    "genre_data.info()"
   ]
  },
  {
   "cell_type": "code",
   "execution_count": 48,
   "id": "4551d5c034ba75e6",
   "metadata": {
    "ExecuteTime": {
     "end_time": "2025-02-08T19:11:53.890547800Z",
     "start_time": "2025-02-08T19:11:53.825075800Z"
    }
   },
   "outputs": [
    {
     "name": "stdout",
     "output_type": "stream",
     "text": [
      "<class 'pandas.core.frame.DataFrame'>\n",
      "RangeIndex: 28680 entries, 0 to 28679\n",
      "Data columns (total 15 columns):\n",
      " #   Column            Non-Null Count  Dtype  \n",
      "---  ------            --------------  -----  \n",
      " 0   mode              28680 non-null  int64  \n",
      " 1   count             28680 non-null  int64  \n",
      " 2   acousticness      28680 non-null  float64\n",
      " 3   artists           28680 non-null  object \n",
      " 4   danceability      28680 non-null  float64\n",
      " 5   duration_ms       28680 non-null  float64\n",
      " 6   energy            28680 non-null  float64\n",
      " 7   instrumentalness  28680 non-null  float64\n",
      " 8   liveness          28680 non-null  float64\n",
      " 9   loudness          28680 non-null  float64\n",
      " 10  speechiness       28680 non-null  float64\n",
      " 11  tempo             28680 non-null  float64\n",
      " 12  valence           28680 non-null  float64\n",
      " 13  popularity        28680 non-null  float64\n",
      " 14  key               28680 non-null  int64  \n",
      "dtypes: float64(11), int64(3), object(1)\n",
      "memory usage: 3.3+ MB\n"
     ]
    }
   ],
   "source": [
    "artist_data.info()"
   ]
  },
  {
   "cell_type": "code",
   "execution_count": 49,
   "id": "482a61560b471fe9",
   "metadata": {
    "ExecuteTime": {
     "end_time": "2025-02-08T19:11:53.890547800Z",
     "start_time": "2025-02-08T19:11:53.830269400Z"
    }
   },
   "outputs": [
    {
     "name": "stdout",
     "output_type": "stream",
     "text": [
      "<class 'pandas.core.frame.DataFrame'>\n",
      "RangeIndex: 100 entries, 0 to 99\n",
      "Data columns (total 14 columns):\n",
      " #   Column            Non-Null Count  Dtype  \n",
      "---  ------            --------------  -----  \n",
      " 0   mode              100 non-null    int64  \n",
      " 1   year              100 non-null    int64  \n",
      " 2   acousticness      100 non-null    float64\n",
      " 3   danceability      100 non-null    float64\n",
      " 4   duration_ms       100 non-null    float64\n",
      " 5   energy            100 non-null    float64\n",
      " 6   instrumentalness  100 non-null    float64\n",
      " 7   liveness          100 non-null    float64\n",
      " 8   loudness          100 non-null    float64\n",
      " 9   speechiness       100 non-null    float64\n",
      " 10  tempo             100 non-null    float64\n",
      " 11  valence           100 non-null    float64\n",
      " 12  popularity        100 non-null    float64\n",
      " 13  key               100 non-null    int64  \n",
      "dtypes: float64(11), int64(3)\n",
      "memory usage: 11.1 KB\n"
     ]
    }
   ],
   "source": [
    "year_data.info()"
   ]
  },
  {
   "cell_type": "code",
   "execution_count": 50,
   "id": "bfcd02157093ac5f",
   "metadata": {
    "ExecuteTime": {
     "end_time": "2025-02-08T19:11:53.921564400Z",
     "start_time": "2025-02-08T19:11:53.834845200Z"
    }
   },
   "outputs": [
    {
     "name": "stdout",
     "output_type": "stream",
     "text": [
      "<class 'pandas.core.frame.DataFrame'>\n",
      "RangeIndex: 28680 entries, 0 to 28679\n",
      "Data columns (total 16 columns):\n",
      " #   Column            Non-Null Count  Dtype  \n",
      "---  ------            --------------  -----  \n",
      " 0   genres            28680 non-null  object \n",
      " 1   artists           28680 non-null  object \n",
      " 2   acousticness      28680 non-null  float64\n",
      " 3   danceability      28680 non-null  float64\n",
      " 4   duration_ms       28680 non-null  float64\n",
      " 5   energy            28680 non-null  float64\n",
      " 6   instrumentalness  28680 non-null  float64\n",
      " 7   liveness          28680 non-null  float64\n",
      " 8   loudness          28680 non-null  float64\n",
      " 9   speechiness       28680 non-null  float64\n",
      " 10  tempo             28680 non-null  float64\n",
      " 11  valence           28680 non-null  float64\n",
      " 12  popularity        28680 non-null  float64\n",
      " 13  key               28680 non-null  int64  \n",
      " 14  mode              28680 non-null  int64  \n",
      " 15  count             28680 non-null  int64  \n",
      "dtypes: float64(11), int64(3), object(2)\n",
      "memory usage: 3.5+ MB\n"
     ]
    }
   ],
   "source": [
    "genre_data_2.info()"
   ]
  },
  {
   "cell_type": "code",
   "execution_count": 51,
   "id": "2ab753015fcacfcb",
   "metadata": {
    "ExecuteTime": {
     "end_time": "2025-02-08T19:11:54.159048100Z",
     "start_time": "2025-02-08T19:11:53.890037900Z"
    }
   },
   "outputs": [
    {
     "data": {
      "image/png": "[encoded data removed]",
      "text/plain": [
       "<Figure size 2000x2000 with 1 Axes>"
      ]
     },
     "metadata": {},
     "output_type": "display_data"
    },
    {
     "data": {
      "text/plain": [
       "<Axes: title={'center': 'Features correlation with dependent variable'}, xlabel='Pearson Correlation'>"
      ]
     },
     "execution_count": 51,
     "metadata": {},
     "output_type": "execute_result"
    }
   ],
   "source": [
    "from matplotlib import pyplot as plt\n",
    "from yellowbrick.target import FeatureCorrelation\n",
    "\n",
    "feature_names = ['acousticness', 'danceability', 'energy', 'instrumentalness',\n",
    "                 'liveness', 'loudness', 'speechiness', 'tempo', 'valence', 'duration_ms', 'explicit', 'key', 'mode',\n",
    "                 'year']\n",
    "\n",
    "X, y = data[feature_names], data['popularity']\n",
    "\n",
    "features = np.array(feature_names)\n",
    "\n",
    "visualizer = FeatureCorrelation(labels=features)\n",
    "\n",
    "plt.rcParams['figure.figsize'] = (20, 20)\n",
    "visualizer.fit(X, y)\n",
    "visualizer.show()"
   ]
  },
  {
   "cell_type": "markdown",
   "id": "42bf3b8bfffa7cc3",
   "metadata": {},
   "source": [
    "Nous définissons ici nos features (acousticness, danceability, etc.) afin de calculer, avec Yellowbrick, la corrélation entre chaque feature et la popularité des morceaux.\n",
    "\n",
    "\n",
    "L’axe horizontal représente la force de la corrélation (entre -1 et 1).\\\n",
    "Une corrélation positive signifie que l’augmentation de la feature est associée à une augmentation de la popularité.\\\n",
    "Une corrélation proche de ZÉRO indic que la feature à peu ou pas d’impact sur la popularité.\\\n",
    "Une corrélation négative signifie que plus la feature est présente, moins le morceau à de chances d’être populaire.\\\n",
    "L’axe horizontal représente la force de la corrélation (entre -1 et 1).\n",
    "\n",
    "Analyse des résultats\\\n",
    "L’année (year) est fortement corrélée à la popularité ➝ Les morceaux récents sont plus populaires.\\\n",
    "Les morceaux plus forts (loudness) et énergiques (energy) sont généralement plus appréciés.\\\n",
    "Les morceaux trop parlés (speechiness) (ex. podcasts, morceaux très lyriques) sont moins populaires.\\\n",
    "Les morceaux très acoustiques (acousticness) ou instrumentaux (instrumentalness) ont tendance à être moins populaires.\\\n",
    "Interprétation\\\n",
    "🔹 Les morceaux récents, énergiques et forts sont plus populaires → Ce qui correspond aux tendances des hits actuels.\\\n",
    "🔹 Les morceaux trop acoustiques ou instrumentaux sont moins populaires → Car la musique populaire d’aujourd’hui est souvent plus produite et orientée vers un son plus énergique.\\\n",
    "🔹 La danceability joue un rôle, mais ce n’est pas un facteur déterminant → La popularité dépend également d’autres éléments comme le marketing, les playlists et l’exposition médiatique."
   ]
  },
  {
   "cell_type": "code",
   "execution_count": 52,
   "id": "7090dd0cb86ebec5",
   "metadata": {
    "ExecuteTime": {
     "end_time": "2025-02-08T19:11:54.454604300Z",
     "start_time": "2025-02-08T19:11:54.086684500Z"
    }
   },
   "outputs": [
    {
     "data": {
      "application/vnd.plotly.v1+json": {
       "config": {
        "plotlyServerURL": "https://plot.ly"
       },
       "data": [
        {
         "hovertemplate": "variable=acousticness<br>year=%{x}<br>value=%{y}<extra></extra>",
         "legendgroup": "acousticness",
         "line": {
          "color": "#636efa",
          "dash": "solid"
         },
         "marker": {
          "symbol": "circle"
         },
         "mode": "lines",
         "name": "acousticness",
         "orientation": "v",
         "showlegend": true,
         "type": "scatter",
         "x": {
          "bdata": "gQeCB4MHhAeFB4YHhweIB4kHigeLB4wHjQeOB48HkAeRB5IHkweUB5UHlgeXB5gHmQeaB5sHnAedB54HnwegB6EHogejB6QHpQemB6cHqAepB6oHqwesB60HrgevB7AHsQeyB7MHtAe1B7YHtwe4B7kHuge7B7wHvQe+B78HwAfBB8IHwwfEB8UHxgfHB8gHyQfKB8sHzAfNB84HzwfQB9EH0gfTB9QH1QfWB9cH2AfZB9oH2wfcB90H3gffB+AH4QfiB+MH5Ac=",
          "dtype": "i2"
         },
         "xaxis": "x",
         "y": {
          "bdata": "w4BeuHNh7D/Y3xAl8QjuP3zC4QXEoe4/QjdkBB4W7j83NQZNrc3uP6cq8iVqJeU/30v0nS717T/2A0p6JQnuP6mOzPfiPuM/DLu1mpH57T/VQk1qQ6jqP+oDYgPV8e0/Q7Yss/bL7D/MqDtiSoTsP5vfdNWI6Og/0fu80se26D959mBjprHrPw7D07W+au0/PSKE7GEU7T9YxCxq5h/rP2F2bATiqew/WgdPBT1L6z8BpZfUWOPsP6fRsbR+C+0/S/E+T4K15j8Xs+yeL3DtPx0AIJMzP+0/uPjaM0uC7T+/NgJtggrtP2r72LR8U+s/KNtSXp7f7D+x4bLuRfrrPyYOtJZvguw/Kb/k2T2u6z9i6rU5y+XqP/5p2Zx7Vuo/q5F/DaNe6T9H9PeUlPLoP0371SXJ8Og/hKEoL8CM6D+GVpOzmA/oP9YhdBo4D+c/F1ww4WUg5z9XSPlQEjbmP3p7usNkhOM/dHtmNT3L4D/97dZZkfLgP9Okgn7umd8/9xEn2eW53D8ERq1kk3HdP4MwusRhVd0/rAXGYFdx3T/q3W8SVajaP+IbpuELn9w/3x/XjPPC2z8KH9i3VSLXP7TqEvkht9U/EkoYNNIN1T9gn9XHjfDSP/WMapC1PNI/NPrQF+5G0z/SjWq2eojSP6SeCBek3dI/bviUcdVp0j81246GBPvSP1hTBPDCPtI/QEcg103y0z/4l1Cbz5vUP5IwrWjyDdQ/h1vlw71N1T9nEzPLBkzVPx6COXshiNQ/sEKieMfH0z8TgpgDWJnTP2YdfHpaXNM/p079PgZE0z+sySPcOqHTP1yYJGrDp9I/KIs8fbth0T+gUi1cQ4TSP5ZzI4qgW9I/lh+HMIQW0j88O/xRA2rQP4oHFoOt9NE/qipg5m1e0D+ysVHgS+vRP4S6zsbcQtA/av6oA4Tlzz9MGTpBcMPQPyRznR5bEM8/6n9WItN70T8cKpMbdv7PP8C7Ek+vetA/mH5EDnrpzz+aF2f4wEDQP5BICLDbL9I/6FOJdXJP0j/4aq0f5iDRP4Gstd+kz9E/eAHfAbImzD8=",
          "dtype": "f8"
         },
         "yaxis": "y"
        },
        {
         "hovertemplate": "variable=danceability<br>year=%{x}<br>value=%{y}<extra></extra>",
         "legendgroup": "danceability",
         "line": {
          "color": "#EF553B",
          "dash": "solid"
         },
         "marker": {
          "symbol": "circle"
         },
         "mode": "lines",
         "name": "danceability",
         "orientation": "v",
         "showlegend": true,
         "type": "scatter",
         "x": {
          "bdata": "gQeCB4MHhAeFB4YHhweIB4kHigeLB4wHjQeOB48HkAeRB5IHkweUB5UHlgeXB5gHmQeaB5sHnAedB54HnwegB6EHogejB6QHpQemB6cHqAepB6oHqwesB60HrgevB7AHsQeyB7MHtAe1B7YHtwe4B7kHuge7B7wHvQe+B78HwAfBB8IHwwfEB8UHxgfHB8gHyQfKB8sHzAfNB84HzwfQB9EH0gfTB9QH1QfWB9cH2AfZB9oH2wfcB90H3gffB+AH4QfiB+MH5Ac=",
          "dtype": "i2"
         },
         "xaxis": "x",
         "y": {
          "bdata": "sgE3eEzK2j/RdIrAx9neP8LZiN6SeeI/WG2ucbuY4T+AY0GWFl3iP+x18hY4MuM/7GuDJZ2+5D+E/E3e4hjhP3GZnyC2ueQ/Lhkxl+WU4D/y3u11DgzjP71ZW1962eE/V0KQc9E/4j8dFD2ZKOvgP4m3OiSuyeE/YdgWci7b4T+id20eWlnhP1FerYz1t94/PRhnwuVn4D/xCumVV7PgP87znt00wN4/jXKjxo+83T8oawYnGyHdPwYI1+JtAeA/XShmGNKc4D+qPrReRIbaP+KViuseKt4/DA/cb9in3T985FO2/kzcPwoDrWXXIuA/dUAjIkaZ3T/6Ag78A0DdP2cwK9bJ/ts/1LTPGQfN3T8kEAqlij3fPyDvAE9aON8/sreJq4Qc4D8WVJitq7jeP6E3Hvj12t4/bkcoZhob3z86GvokfU7fP0XwekgBkN8/LYvTWuLS3j+pkwjANyLgP/kkf1tEHOA/lNk8DoM54D/qlOe9NYjfP77+kCNCCOA/mvgPjv483z9SBkfJqzPgP9pLv+kCI+A/0HzfCQes4D/Tt0/Yj37gP6mFksmpfeA/UgFp/wOs4D/ctYR80PPgP6zQNd38EOE/Tz2wiAZO4T8228tsRvzhP4drLAgAzOE/v4dcupNZ4T8cva66aQ7iP++o55PLdeE/wtWgeUr44D+rqwiS0sfhPwANyo9TT+E/3HPlxgdQ4T+tzz+WcUvhP6smJyTjguE/dPlqoioh4T9hroMqUMnhP68XPVwXw+E/OI8eGnE84j9y+m9vyLDhPyj4pumz4+E/X9FSHoLP4j+1J7RRQnXiPyUYKe8+wuI/LPvopAmh4j8RLdT2zOjiP+lt/jSKquI/EB24uedv4j+DkDUrp2ziP12u8ANwKuI/VJ9eVB9Q4j9V2esA8S7iP56IvIx9B+I/rGmha7+I4j9StZTv2A3iP5y+8xLTUeI/q7sfGBax4T+u0e8DqkTiP8FwxjnYRuI/hhxs9dng4j9LVaB2MgDjP1RoDKbbNOM/lprVJEiX4z8gbmZZZTvlP4rgMjNRouQ/HDo/tkUs5j8=",
          "dtype": "f8"
         },
         "yaxis": "y"
        },
        {
         "hovertemplate": "variable=energy<br>year=%{x}<br>value=%{y}<extra></extra>",
         "legendgroup": "energy",
         "line": {
          "color": "#00cc96",
          "dash": "solid"
         },
         "marker": {
          "symbol": "circle"
         },
         "mode": "lines",
         "name": "energy",
         "orientation": "v",
         "showlegend": true,
         "type": "scatter",
         "x": {
          "bdata": "gQeCB4MHhAeFB4YHhweIB4kHigeLB4wHjQeOB48HkAeRB5IHkweUB5UHlgeXB5gHmQeaB5sHnAedB54HnwegB6EHogejB6QHpQemB6cHqAepB6oHqwesB60HrgevB7AHsQeyB7MHtAe1B7YHtwe4B7kHuge7B7wHvQe+B78HwAfBB8IHwwfEB8UHxgfHB8gHyQfKB8sHzAfNB84HzwfQB9EH0gfTB9QH1QfWB9cH2AfZB9oH2wfcB90H3gffB+AH4QfiB+MH5Ac=",
          "dtype": "i2"
         },
         "xaxis": "x",
         "y": {
          "bdata": "zjgxSB6szT/0w+fDu3DOPzfvbZNEy9A/uKZKXcYJ1j/jluHvedTRPypzZIdaEcs/8DGo46Pq0D+UmkKKCJ7KP5FVHpVT884/WzEMtXRY1T9iNieC/QPOP2HYZeITVdM/r7j6Qt/p0T9/YypswsbQPx91+vzziM8/IkLSk6O80z8vgO0bN+jTP4rr77yY+9E/kLgANEoX0j9ZXCVQq+XTP3o+3VNMANE/3oYjJptj0D9cz6taW+vRPwykOnxiONA/LQoC/gXvzD+rWblnJHDMP2CUNNoF3tA/QB1ggRYJzz96Dj8Hr4DPPz8AyRG+GdQ/PezoLHFM0D+qW5eWaDvQP+j4nG5eCdE/dOtWSxHr0D/3CF7C2+LSP16C38g0gdM/m+c2c9rl0j+nlzdFT8PTP3Pv0BNV59M/8Yua10bV1T/pBJPe47rVP7Zu3pPivtc/qqjiQvVh1z+TpxlYfD7ZP/WYT8bcvNw/C+HB5IDc3j+fwUn8wpjcP6/ugKH9Pt0/HLKDCEA13z9sRSSvc7jfP0R/Tv9hxN8/B21iFhQl4D8yTzxnCyjhP6F7Fr6deOA/h9k+wx++4D8CiLt6FbnhP0jshwPh7eE/p5LGqjn34T/PPk5/k+niP/BlKA/+IOM/DzI1riQu4z9uMY/Hz+jiP0UNaiLgPuM/AAOiFjnq4j9uaFRknT/jP9fK8ES1reM/ZUkWrguO4j+KpwVn4r3iP4sd/wWCsOI/kmaGCXpK4j/fBGTJn+bhP0J9T9XSpuI/2bPvo30A4j9klDxLToXiPyC+Mi25g+I/YO6qrBLB4j8GYDA1iijjP9EQcyjHXeM/SbXkzJVm5D/XwqjFYQPkP26CHPFDEOQ/b3E3PEiF5D/z1L7lEiDlP0Jqb7WGw+Q/s5stiRXn5D8IdyQQec/kPws9tLHAYuU/5LM3Z5t85T8O398XxnblP+PDra4f0eU/rLDkg+G+5D+LLpsmogLlP4FN5c+6qOQ/oPibqe7C5D8EwFYX6RDkP86i4Iir+OI/TBryn7rk4j+wM/H4JEfjP5bQPPmw++I/WSPRrwwz5D8=",
          "dtype": "f8"
         },
         "yaxis": "y"
        },
        {
         "hovertemplate": "variable=instrumentalness<br>year=%{x}<br>value=%{y}<extra></extra>",
         "legendgroup": "instrumentalness",
         "line": {
          "color": "#ab63fa",
          "dash": "solid"
         },
         "marker": {
          "symbol": "circle"
         },
         "mode": "lines",
         "name": "instrumentalness",
         "orientation": "v",
         "showlegend": true,
         "type": "scatter",
         "x": {
          "bdata": "gQeCB4MHhAeFB4YHhweIB4kHigeLB4wHjQeOB48HkAeRB5IHkweUB5UHlgeXB5gHmQeaB5sHnAedB54HnwegB6EHogejB6QHpQemB6cHqAepB6oHqwesB60HrgevB7AHsQeyB7MHtAe1B7YHtwe4B7kHuge7B7wHvQe+B78HwAfBB8IHwwfEB8UHxgfHB8gHyQfKB8sHzAfNB84HzwfQB9EH0gfTB9QH1QfWB9cH2AfZB9oH2wfcB90H3gffB+AH4QfiB+MH5Ac=",
          "dtype": "i2"
         },
         "xaxis": "x",
         "y": {
          "bdata": "zS38a3sS1j/m/WFH2cnbP8cENg54ytc/afIEPEud4j+2Lp1LYsXaP+d1scRlUdU/yY/sr4YL2T88FgVvYqvfP4Xgr0HOi8s/VFe7u4qK1j/nyraTelfMP2PZXpxA+cw/CoEIjKOLxz9Wbhs/P7DRP2rPKo5q6cw/AmXFe3100D+lv3jrAO/UPyarwPUbONg/TnYysYzF0T+d0ezEP0fUP4iFyXAWetw/BtCyvvok2T9FyUBOwDvaP1BFcxYzwdw/MCfCYkCo0T+1vcnxsRzfP6pcjnb4PtY/1FSXaUPA1j9PVvxmhg7TP+CSutYvXM8/J4ClIXK90z8dTJRRWnXSPw/uTORkX9Q/k2kF0UEJ0z/17KmVsbnLPxRTbLfMj84/XBxsMg3myD/x/zKg6DLHP73bJXI9Fcg/t9IxbZ+Xxj8JaoBelu/QP5fQvp/H8sU/BAqW/z68xz+HBJRls23EPxozbQs7Tb4/XYoSBuV4vT+enccSTXO+PzX26zzz3rw/N+VpQ/JoxD9APyaVHVTAP9Ay1BCWAMA/TuhzLMxovT83sdSipIS5P0eytFrVyb0/tUxCzpl/vD/bSSO+FCO/P+aJm6spWcA/lgV0UZWyuT+ihEXF4aG9P1hrvi7qesA/f7hF+ZXLwj8NmQx2rJq5P5UsA+HPnMI/MBz2uAeVwj8q8Dlb+B29P/jx/XUVJbw/XXKLgQAbuj/R8XNSMAC+P+F3mf+H+bw/Zg45PRMbwD/hC3YLsXa9P9ayy0XTxrk/rra7wueDvT9FlN+Pi6S8P9PpvDeLjr8/BEoVj2FVuD/jomK9+cy6P4e29CjYf7w/zXh5hdkUuD8Ij2CCIea5PwHfPsFgcrs/R9YRMVaKtj/2HKeet0K1P5ZVLSN887M/HVCSR/oWtz+f/I9gPuSzP6knSdhTrbI/bDfooyhMsD8trSYrWmyzP0yFtOo2PrU/sZfi1NKQuj8E5sBsB9C1PxGPpMFzLrk/o+jl9Q+asz+ODeOEYla7P3sAAV1cD7g/UjawHu7auD/7Uee4WMKrP0MAmjE74LM/CvJi1b7EkD8=",
          "dtype": "f8"
         },
         "yaxis": "y"
        },
        {
         "hovertemplate": "variable=liveness<br>year=%{x}<br>value=%{y}<extra></extra>",
         "legendgroup": "liveness",
         "line": {
          "color": "#FFA15A",
          "dash": "solid"
         },
         "marker": {
          "symbol": "circle"
         },
         "mode": "lines",
         "name": "liveness",
         "orientation": "v",
         "showlegend": true,
         "type": "scatter",
         "x": {
          "bdata": "gQeCB4MHhAeFB4YHhweIB4kHigeLB4wHjQeOB48HkAeRB5IHkweUB5UHlgeXB5gHmQeaB5sHnAedB54HnwegB6EHogejB6QHpQemB6cHqAepB6oHqwesB60HrgevB7AHsQeyB7MHtAe1B7YHtwe4B7kHuge7B7wHvQe+B78HwAfBB8IHwwfEB8UHxgfHB8gHyQfKB8sHzAfNB84HzwfQB9EH0gfTB9QH1QfWB9cH2AfZB9oH2wfcB90H3gffB+AH4QfiB+MH5Ac=",
          "dtype": "i2"
         },
         "xaxis": "x",
         "y": {
          "bdata": "huY6jbRUyj+lU9Ja58/OPwUvyOl6Hc0/hYDKjagbzj9E+sCQ52vOPzkNlG5Jvs0/qDdIEMePxT+DmknX4W/GP5l8FEBBNc4/+Rj1EupTzD9m3GPsWxzNPxXdO5xvws0/2kama97Cyj8qVbglalLLPx/sjLWyWc0/eSK53RZYzD8DrrG5guzMP0kE8gKoWc4/R+w1mOGazj9C1WvE3erQP1Xs0MPj1ck/K8nYmpk/yz9YIcDTdJ7OPxYa8zcUkM4/vJwB5Dr8yT80STpTGPzKP4g1bQtxpsw/gi1cUOsezD+/t96A4LvKP6fWS/hKxcs/mGlnPSHgyz/0269MCdLNP1s/VQnIYcw/NIx8Azjiyz/+0jZZ/lfMP0woW8kzVMc/dREbEU5kxz/cJXcz/ljKP5DOShRPjsg/5VybWEebyj/Cpia7pb3KPy0meDG418k/11obdFMUyj9ewrYaRc7LP8CCH58UX8s/X9v9hXnqyz9HW3Nm/W/IP4yUAOsn0ss/94/xzdt9yj96B/vAnyvLP5Kf1+lRgss/gWb/8n99yj8Mvr7WpcbJP127ZHfcy8o/LGE6CJWTyz+zUVOBSeDPP6n8YCpHksw/O5Q6t7/pyz8jRwd/GlLLP7IleEudFMo/fJtq0hLQzD9UO8PUlrrJP1hYmHRKdsk/JrSbz29OyT80ffPRmH/JP1HkOKbdHss/5zzbq7rbyT+MmGkeKZbKP1/8I8J1e8k/9EgoImhxyD+V+NgX/iTIP+7o1QClock/7sRXO4rzyD90Xvex3ZjIP18j4wedxsk/POVUfI1uyT+Eg3nZwGfJPyjB3JMszMg/M4K3VU1oyj+YaKm4xk3JPxS/37508Mc/p/8pCxXSyD/HXRAChTbJPyhYFdir4ck/r2/ZPphUyD9ifUz63BnIPx9DWd2sGsk/t5kHSTNmyT+S+zINtUXKP7erSm3Kj8k/kKwnCQYGyj+OLIzTK0nIPyUzPbGAjck/UcLDLJyNyD8hQA6XcizIP1JuczmTMMc/u1562gmKyD+dtgfL1ZHGP2bKe3hLGMY/qtBJpD/axj8=",
          "dtype": "f8"
         },
         "yaxis": "y"
        },
        {
         "hovertemplate": "variable=valence<br>year=%{x}<br>value=%{y}<extra></extra>",
         "legendgroup": "valence",
         "line": {
          "color": "#19d3f3",
          "dash": "solid"
         },
         "marker": {
          "symbol": "circle"
         },
         "mode": "lines",
         "name": "valence",
         "orientation": "v",
         "showlegend": true,
         "type": "scatter",
         "x": {
          "bdata": "gQeCB4MHhAeFB4YHhweIB4kHigeLB4wHjQeOB48HkAeRB5IHkweUB5UHlgeXB5gHmQeaB5sHnAedB54HnwegB6EHogejB6QHpQemB6cHqAepB6oHqwesB60HrgevB7AHsQeyB7MHtAe1B7YHtwe4B7kHuge7B7wHvQe+B78HwAfBB8IHwwfEB8UHxgfHB8gHyQfKB8sHzAfNB84HzwfQB9EH0gfTB9QH1QfWB9cH2AfZB9oH2wfcB90H3gffB+AH4QfiB+MH5Ac=",
          "dtype": "i2"
         },
         "xaxis": "x",
         "y": {
          "bdata": "sGD1WuNG2D8o79dGOCPhP1MrprQIBOQ/RgyOGT095T/XCLIt1+bjP/7FOEdX9ts/0N6IMkQc5T94MSm2wbnfP2WMYs9zXuQ/jrFk+je44z9cPxqDdGvgP55vNtY00uI/SaqX2V0u4z+6BoBVuuHhPyJX6ZJfdeE/iPoS/s4M4j83GeGdyb7iP8gY2dwmeuA/Beq2n+fq4T9oEpl/FbzjPwr9tGRor94/sH6F4t2N3j/vvhnShrXfP2XJxppgTeE/oy0x4HZy3z/dQgWg/XzZPy2dxPRGQ+A/zLidlb2T3T8P4gM7/ovbP40ki0Udp+E/xdxaywk/3D9BA26+UlzcP6IQ5jgQd9s/79kY4Cfz3D8156c4DjzeP9kKiWoAReA/YC5W9zFa4D9+nL6er9nfP41mBqNcnt4/O7KLXAzE4D/NlR3xRmngP4b24TKDh+E/ZVz0XzFU4T8Mpi7OE9XhPwSHPdoll+I//XumTYuQ4j8naBLoFaDhPyjMD7eeHOI/Ju0VL3nA4T9gE7sRcU7iP7Mv2XiwZeI/AKxbmOAP4z9I0U2snfLiP5kQQMXMmeI/GBrjHqY44j+wZI7lXZXiPzkZC/lWuuI/pdpSB3nd4j+F90SN+ITjP3a1a6NKI+M/AJFco4qn4j/nvXuRGsTiP1GBfGTOTuI/TQtVOQan4T94eu+5XRniP4fqgNpeoeE/2eWIbJFT4T/ZGJbtznzhP1VEGnDxi+E/oegm1k7Z4D+P3B1qlY7hP3j5Nx4i5OE/qQ9ufDfH4T8e63ZRT9rgP0H7ae3H9+A/f3A+dazy4T8Gc/T4vY3hP58F/HUCNeE/7WY3MnbO4T+Jh4QUOefhP2foIP7LU+E/DTKWRFFb4T9J7kcL5PngP7YPGDmcyOA/pytXSn4K4T/GC9FnEqTgP5AngD+TieA/JkP9iJ/h4D+EkNXeuzrgPx6B7FIsq+A/F4PBWq483j9RSXFDBp3dP7swc896Gt0/jrKMV5ei3T/MGajqf6fbP/miIaQ4nts/HscWQoyn2j8TgCb+varcP6q0cJ5EXd0/6bWSaZUI4D8=",
          "dtype": "f8"
         },
         "yaxis": "y"
        }
       ],
       "layout": {
        "legend": {
         "title": {
          "text": "variable"
         },
         "tracegroupgap": 0
        },
        "margin": {
         "t": 60
        },
        "template": {
         "data": {
          "bar": [
           {
            "error_x": {
             "color": "#2a3f5f"
            },
            "error_y": {
             "color": "#2a3f5f"
            },
            "marker": {
             "line": {
              "color": "#E5ECF6",
              "width": 0.5
             },
             "pattern": {
              "fillmode": "overlay",
              "size": 10,
              "solidity": 0.2
             }
            },
            "type": "bar"
           }
          ],
          "barpolar": [
           {
            "marker": {
             "line": {
              "color": "#E5ECF6",
              "width": 0.5
             },
             "pattern": {
              "fillmode": "overlay",
              "size": 10,
              "solidity": 0.2
             }
            },
            "type": "barpolar"
           }
          ],
          "carpet": [
           {
            "aaxis": {
             "endlinecolor": "#2a3f5f",
             "gridcolor": "white",
             "linecolor": "white",
             "minorgridcolor": "white",
             "startlinecolor": "#2a3f5f"
            },
            "baxis": {
             "endlinecolor": "#2a3f5f",
             "gridcolor": "white",
             "linecolor": "white",
             "minorgridcolor": "white",
             "startlinecolor": "#2a3f5f"
            },
            "type": "carpet"
           }
          ],
          "choropleth": [
           {
            "colorbar": {
             "outlinewidth": 0,
             "ticks": ""
            },
            "type": "choropleth"
           }
          ],
          "contour": [
           {
            "colorbar": {
             "outlinewidth": 0,
             "ticks": ""
            },
            "colorscale": [
             [
              0,
              "#0d0887"
             ],
             [
              0.1111111111111111,
              "#46039f"
             ],
             [
              0.2222222222222222,
              "#7201a8"
             ],
             [
              0.3333333333333333,
              "#9c179e"
             ],
             [
              0.4444444444444444,
              "#bd3786"
             ],
             [
              0.5555555555555556,
              "#d8576b"
             ],
             [
              0.6666666666666666,
              "#ed7953"
             ],
             [
              0.7777777777777778,
              "#fb9f3a"
             ],
             [
              0.8888888888888888,
              "#fdca26"
             ],
             [
              1,
              "#f0f921"
             ]
            ],
            "type": "contour"
           }
          ],
          "contourcarpet": [
           {
            "colorbar": {
             "outlinewidth": 0,
             "ticks": ""
            },
            "type": "contourcarpet"
           }
          ],
          "heatmap": [
           {
            "colorbar": {
             "outlinewidth": 0,
             "ticks": ""
            },
            "colorscale": [
             [
              0,
              "#0d0887"
             ],
             [
              0.1111111111111111,
              "#46039f"
             ],
             [
              0.2222222222222222,
              "#7201a8"
             ],
             [
              0.3333333333333333,
              "#9c179e"
             ],
             [
              0.4444444444444444,
              "#bd3786"
             ],
             [
              0.5555555555555556,
              "#d8576b"
             ],
             [
              0.6666666666666666,
              "#ed7953"
             ],
             [
              0.7777777777777778,
              "#fb9f3a"
             ],
             [
              0.8888888888888888,
              "#fdca26"
             ],
             [
              1,
              "#f0f921"
             ]
            ],
            "type": "heatmap"
           }
          ],
          "histogram": [
           {
            "marker": {
             "pattern": {
              "fillmode": "overlay",
              "size": 10,
              "solidity": 0.2
             }
            },
            "type": "histogram"
           }
          ],
          "histogram2d": [
           {
            "colorbar": {
             "outlinewidth": 0,
             "ticks": ""
            },
            "colorscale": [
             [
              0,
              "#0d0887"
             ],
             [
              0.1111111111111111,
              "#46039f"
             ],
             [
              0.2222222222222222,
              "#7201a8"
             ],
             [
              0.3333333333333333,
              "#9c179e"
             ],
             [
              0.4444444444444444,
              "#bd3786"
             ],
             [
              0.5555555555555556,
              "#d8576b"
             ],
             [
              0.6666666666666666,
              "#ed7953"
             ],
             [
              0.7777777777777778,
              "#fb9f3a"
             ],
             [
              0.8888888888888888,
              "#fdca26"
             ],
             [
              1,
              "#f0f921"
             ]
            ],
            "type": "histogram2d"
           }
          ],
          "histogram2dcontour": [
           {
            "colorbar": {
             "outlinewidth": 0,
             "ticks": ""
            },
            "colorscale": [
             [
              0,
              "#0d0887"
             ],
             [
              0.1111111111111111,
              "#46039f"
             ],
             [
              0.2222222222222222,
              "#7201a8"
             ],
             [
              0.3333333333333333,
              "#9c179e"
             ],
             [
              0.4444444444444444,
              "#bd3786"
             ],
             [
              0.5555555555555556,
              "#d8576b"
             ],
             [
              0.6666666666666666,
              "#ed7953"
             ],
             [
              0.7777777777777778,
              "#fb9f3a"
             ],
             [
              0.8888888888888888,
              "#fdca26"
             ],
             [
              1,
              "#f0f921"
             ]
            ],
            "type": "histogram2dcontour"
           }
          ],
          "mesh3d": [
           {
            "colorbar": {
             "outlinewidth": 0,
             "ticks": ""
            },
            "type": "mesh3d"
           }
          ],
          "parcoords": [
           {
            "line": {
             "colorbar": {
              "outlinewidth": 0,
              "ticks": ""
             }
            },
            "type": "parcoords"
           }
          ],
          "pie": [
           {
            "automargin": true,
            "type": "pie"
           }
          ],
          "scatter": [
           {
            "fillpattern": {
             "fillmode": "overlay",
             "size": 10,
             "solidity": 0.2
            },
            "type": "scatter"
           }
          ],
          "scatter3d": [
           {
            "line": {
             "colorbar": {
              "outlinewidth": 0,
              "ticks": ""
             }
            },
            "marker": {
             "colorbar": {
              "outlinewidth": 0,
              "ticks": ""
             }
            },
            "type": "scatter3d"
           }
          ],
          "scattercarpet": [
           {
            "marker": {
             "colorbar": {
              "outlinewidth": 0,
              "ticks": ""
             }
            },
            "type": "scattercarpet"
           }
          ],
          "scattergeo": [
           {
            "marker": {
             "colorbar": {
              "outlinewidth": 0,
              "ticks": ""
             }
            },
            "type": "scattergeo"
           }
          ],
          "scattergl": [
           {
            "marker": {
             "colorbar": {
              "outlinewidth": 0,
              "ticks": ""
             }
            },
            "type": "scattergl"
           }
          ],
          "scattermap": [
           {
            "marker": {
             "colorbar": {
              "outlinewidth": 0,
              "ticks": ""
             }
            },
            "type": "scattermap"
           }
          ],
          "scattermapbox": [
           {
            "marker": {
             "colorbar": {
              "outlinewidth": 0,
              "ticks": ""
             }
            },
            "type": "scattermapbox"
           }
          ],
          "scatterpolar": [
           {
            "marker": {
             "colorbar": {
              "outlinewidth": 0,
              "ticks": ""
             }
            },
            "type": "scatterpolar"
           }
          ],
          "scatterpolargl": [
           {
            "marker": {
             "colorbar": {
              "outlinewidth": 0,
              "ticks": ""
             }
            },
            "type": "scatterpolargl"
           }
          ],
          "scatterternary": [
           {
            "marker": {
             "colorbar": {
              "outlinewidth": 0,
              "ticks": ""
             }
            },
            "type": "scatterternary"
           }
          ],
          "surface": [
           {
            "colorbar": {
             "outlinewidth": 0,
             "ticks": ""
            },
            "colorscale": [
             [
              0,
              "#0d0887"
             ],
             [
              0.1111111111111111,
              "#46039f"
             ],
             [
              0.2222222222222222,
              "#7201a8"
             ],
             [
              0.3333333333333333,
              "#9c179e"
             ],
             [
              0.4444444444444444,
              "#bd3786"
             ],
             [
              0.5555555555555556,
              "#d8576b"
             ],
             [
              0.6666666666666666,
              "#ed7953"
             ],
             [
              0.7777777777777778,
              "#fb9f3a"
             ],
             [
              0.8888888888888888,
              "#fdca26"
             ],
             [
              1,
              "#f0f921"
             ]
            ],
            "type": "surface"
           }
          ],
          "table": [
           {
            "cells": {
             "fill": {
              "color": "#EBF0F8"
             },
             "line": {
              "color": "white"
             }
            },
            "header": {
             "fill": {
              "color": "#C8D4E3"
             },
             "line": {
              "color": "white"
             }
            },
            "type": "table"
           }
          ]
         },
         "layout": {
          "annotationdefaults": {
           "arrowcolor": "#2a3f5f",
           "arrowhead": 0,
           "arrowwidth": 1
          },
          "autotypenumbers": "strict",
          "coloraxis": {
           "colorbar": {
            "outlinewidth": 0,
            "ticks": ""
           }
          },
          "colorscale": {
           "diverging": [
            [
             0,
             "#8e0152"
            ],
            [
             0.1,
             "#c51b7d"
            ],
            [
             0.2,
             "#de77ae"
            ],
            [
             0.3,
             "#f1b6da"
            ],
            [
             0.4,
             "#fde0ef"
            ],
            [
             0.5,
             "#f7f7f7"
            ],
            [
             0.6,
             "#e6f5d0"
            ],
            [
             0.7,
             "#b8e186"
            ],
            [
             0.8,
             "#7fbc41"
            ],
            [
             0.9,
             "#4d9221"
            ],
            [
             1,
             "#276419"
            ]
           ],
           "sequential": [
            [
             0,
             "#0d0887"
            ],
            [
             0.1111111111111111,
             "#46039f"
            ],
            [
             0.2222222222222222,
             "#7201a8"
            ],
            [
             0.3333333333333333,
             "#9c179e"
            ],
            [
             0.4444444444444444,
             "#bd3786"
            ],
            [
             0.5555555555555556,
             "#d8576b"
            ],
            [
             0.6666666666666666,
             "#ed7953"
            ],
            [
             0.7777777777777778,
             "#fb9f3a"
            ],
            [
             0.8888888888888888,
             "#fdca26"
            ],
            [
             1,
             "#f0f921"
            ]
           ],
           "sequentialminus": [
            [
             0,
             "#0d0887"
            ],
            [
             0.1111111111111111,
             "#46039f"
            ],
            [
             0.2222222222222222,
             "#7201a8"
            ],
            [
             0.3333333333333333,
             "#9c179e"
            ],
            [
             0.4444444444444444,
             "#bd3786"
            ],
            [
             0.5555555555555556,
             "#d8576b"
            ],
            [
             0.6666666666666666,
             "#ed7953"
            ],
            [
             0.7777777777777778,
             "#fb9f3a"
            ],
            [
             0.8888888888888888,
             "#fdca26"
            ],
            [
             1,
             "#f0f921"
            ]
           ]
          },
          "colorway": [
           "#636efa",
           "#EF553B",
           "#00cc96",
           "#ab63fa",
           "#FFA15A",
           "#19d3f3",
           "#FF6692",
           "#B6E880",
           "#FF97FF",
           "#FECB52"
          ],
          "font": {
           "color": "#2a3f5f"
          },
          "geo": {
           "bgcolor": "white",
           "lakecolor": "white",
           "landcolor": "#E5ECF6",
           "showlakes": true,
           "showland": true,
           "subunitcolor": "white"
          },
          "hoverlabel": {
           "align": "left"
          },
          "hovermode": "closest",
          "mapbox": {
           "style": "light"
          },
          "paper_bgcolor": "white",
          "plot_bgcolor": "#E5ECF6",
          "polar": {
           "angularaxis": {
            "gridcolor": "white",
            "linecolor": "white",
            "ticks": ""
           },
           "bgcolor": "#E5ECF6",
           "radialaxis": {
            "gridcolor": "white",
            "linecolor": "white",
            "ticks": ""
           }
          },
          "scene": {
           "xaxis": {
            "backgroundcolor": "#E5ECF6",
            "gridcolor": "white",
            "gridwidth": 2,
            "linecolor": "white",
            "showbackground": true,
            "ticks": "",
            "zerolinecolor": "white"
           },
           "yaxis": {
            "backgroundcolor": "#E5ECF6",
            "gridcolor": "white",
            "gridwidth": 2,
            "linecolor": "white",
            "showbackground": true,
            "ticks": "",
            "zerolinecolor": "white"
           },
           "zaxis": {
            "backgroundcolor": "#E5ECF6",
            "gridcolor": "white",
            "gridwidth": 2,
            "linecolor": "white",
            "showbackground": true,
            "ticks": "",
            "zerolinecolor": "white"
           }
          },
          "shapedefaults": {
           "line": {
            "color": "#2a3f5f"
           }
          },
          "ternary": {
           "aaxis": {
            "gridcolor": "white",
            "linecolor": "white",
            "ticks": ""
           },
           "baxis": {
            "gridcolor": "white",
            "linecolor": "white",
            "ticks": ""
           },
           "bgcolor": "#E5ECF6",
           "caxis": {
            "gridcolor": "white",
            "linecolor": "white",
            "ticks": ""
           }
          },
          "title": {
           "x": 0.05
          },
          "xaxis": {
           "automargin": true,
           "gridcolor": "white",
           "linecolor": "white",
           "ticks": "",
           "title": {
            "standoff": 15
           },
           "zerolinecolor": "white",
           "zerolinewidth": 2
          },
          "yaxis": {
           "automargin": true,
           "gridcolor": "white",
           "linecolor": "white",
           "ticks": "",
           "title": {
            "standoff": 15
           },
           "zerolinecolor": "white",
           "zerolinewidth": 2
          }
         }
        },
        "xaxis": {
         "anchor": "y",
         "domain": [
          0,
          1
         ],
         "title": {
          "text": "year"
         }
        },
        "yaxis": {
         "anchor": "x",
         "domain": [
          0,
          1
         ],
         "title": {
          "text": "value"
         }
        }
       }
      }
     },
     "metadata": {},
     "output_type": "display_data"
    }
   ],
   "source": [
    "sound_features = ['acousticness', 'danceability', 'energy', 'instrumentalness', 'liveness', 'valence']\n",
    "fig = px.line(year_data, x='year', y=sound_features)\n",
    "fig.show()"
   ]
  },
  {
   "cell_type": "markdown",
   "id": "3adfb685931ed9a1",
   "metadata": {},
   "source": [
    "1. La baisse de l'acousticness** (bleu foncé)**\n",
    "La musique était très acoustique jusqu'aux années 1960-1970, puis on observe une forte diminution.\n",
    "Cela correspond à l'essor de l'électronique, du rock amplifié, et des synthétiseurs dans la production musicale.\n",
    "Depuis les années 2000, le niveau reste relativement bas.\n",
    "👉 Interprétation : Le passage des instruments traditionnels vers des productions plus électroniques et digitales.\n",
    "\n",
    "2. L'augmentation de l'energy** (vert) et de la danceability (rouge)**\n",
    "L'énergie musicale a augmenté progressivement depuis les années 1950.\n",
    "La danceability suit une tendance similaire, particulièrement après les années 2000.\n",
    "Cela peut être lié à l’essor des musiques électroniques, pop et hip-hop, qui favorisent des rythmes plus entraînants.\n",
    "👉 Interprétation : Les musiques modernes sont plus énergiques et plus dansantes, ce qui correspond à une demande plus forte pour des musiques adaptées aux clubs, festivals et plateformes de streaming.\n",
    "\n",
    "3. La chute de l'instrumentalness** (violet)**\n",
    "On remarque que les morceaux instrumentaux étaient beaucoup plus fréquents avant 1950.\n",
    "Depuis, cette caractéristique diminue, ce qui peut être dû à l’augmentation de la musique populaire chantée et à la domination des morceaux avec paroles.\n",
    "On voit cependant une légère augmentation vers 2010, ce qui pourrait correspondre à l’essor des genres comme le lo-fi, l’ambient, et la musique instrumentale en streaming.\n",
    "👉 Interprétation : La musique moderne met davantage l'accent sur les voix et les paroles.\n",
    "\n",
    "4. Stabilité de la liveness (orange)\n",
    "La liveness (présence d’un enregistrement live) est restée relativement stable.\n",
    "Peu d'évolution notable, ce qui signifie que la majorité des productions sont studio-based, avec peu d'enregistrements en direct.\n",
    "👉 Interprétation : L'industrie musicale est toujours très axée sur les productions en studio.\n",
    "\n",
    "5. La courbe de la valence (cyan)\n",
    "La valence (positivité de la musique) était plus élevée avant les années 1950, puis a légèrement chuté.\n",
    "Elle reste assez stable mais semble remonter après 2010.\n",
    "Cela pourrait indiquer une tendance vers des musiques plus \"sombres\" et émotionnelles, en lien avec l'évolution des thèmes abordés dans les paroles et les styles musicaux dominants (rap, pop mélancolique).\n",
    "👉 Interprétation : La musique est devenue plus émotionnelle et parfois plus sombre au fil du temps."
   ]
  },
  {
   "cell_type": "code",
   "execution_count": 53,
   "id": "72dfe4a5f3291656",
   "metadata": {
    "ExecuteTime": {
     "end_time": "2025-02-08T19:11:54.571645100Z",
     "start_time": "2025-02-08T19:11:54.196698600Z"
    }
   },
   "outputs": [
    {
     "data": {
      "application/vnd.plotly.v1+json": {
       "config": {
        "plotlyServerURL": "https://plot.ly"
       },
       "data": [
        {
         "alignmentgroup": "True",
         "hovertemplate": "variable=valence<br>genres=%{x}<br>value=%{y}<extra></extra>",
         "legendgroup": "valence",
         "marker": {
          "color": "#636efa",
          "pattern": {
           "shape": ""
          }
         },
         "name": "valence",
         "offsetgroup": "valence",
         "orientation": "v",
         "showlegend": true,
         "textposition": "auto",
         "type": "bar",
         "x": [
          "basshall",
          "south african house",
          "trap venezolano",
          "turkish edm",
          "alberta hip hop",
          "chinese electropop",
          "afroswing",
          "afro soul",
          "circuit",
          "guaracha"
         ],
         "xaxis": "x",
         "y": {
          "bdata": "cIQyelvW4j+AI5TR27LqP2Q730+Nl+Y/sp3vp8ZL1z+WQ4ts5/vtP0a28/3UeMk/9P3UeOmm5T8tsp3vp8bnP5huEoPAyuE/mG4Sg8DK4T8=",
          "dtype": "f8"
         },
         "yaxis": "y"
        },
        {
         "alignmentgroup": "True",
         "hovertemplate": "variable=energy<br>genres=%{x}<br>value=%{y}<extra></extra>",
         "legendgroup": "energy",
         "marker": {
          "color": "#EF553B",
          "pattern": {
           "shape": ""
          }
         },
         "name": "energy",
         "offsetgroup": "energy",
         "orientation": "v",
         "showlegend": true,
         "textposition": "auto",
         "type": "bar",
         "x": [
          "basshall",
          "south african house",
          "trap venezolano",
          "turkish edm",
          "alberta hip hop",
          "chinese electropop",
          "afroswing",
          "afro soul",
          "circuit",
          "guaracha"
         ],
         "xaxis": "x",
         "y": {
          "bdata": "+JoLSVMq5D8xwYN5ov7hP3e+nxov3eg/Nl66SQwC5z/sUbgehevlP8l2vp8aL+k/N4lBYOWQ4j9WDi2yne/rP7TIdr6fGu8/tMh2vp8a7z8=",
          "dtype": "f8"
         },
         "yaxis": "y"
        },
        {
         "alignmentgroup": "True",
         "hovertemplate": "variable=danceability<br>genres=%{x}<br>value=%{y}<extra></extra>",
         "legendgroup": "danceability",
         "marker": {
          "color": "#00cc96",
          "pattern": {
           "shape": ""
          }
         },
         "name": "danceability",
         "offsetgroup": "danceability",
         "orientation": "v",
         "showlegend": true,
         "textposition": "auto",
         "type": "bar",
         "x": [
          "basshall",
          "south african house",
          "trap venezolano",
          "turkish edm",
          "alberta hip hop",
          "chinese electropop",
          "afroswing",
          "afro soul",
          "circuit",
          "guaracha"
         ],
         "xaxis": "x",
         "y": {
          "bdata": "lBgEVg4t6j+0yHa+nxrrP6rx0k1iEOw/vHSTGARW5j9SuB6F61HsPx+F61G4HuU/LbKd76fG5j9PjZduEoPoP9ejcD0K1+c/16NwPQrX5z8=",
          "dtype": "f8"
         },
         "yaxis": "y"
        },
        {
         "alignmentgroup": "True",
         "hovertemplate": "variable=acousticness<br>genres=%{x}<br>value=%{y}<extra></extra>",
         "legendgroup": "acousticness",
         "marker": {
          "color": "#ab63fa",
          "pattern": {
           "shape": ""
          }
         },
         "name": "acousticness",
         "offsetgroup": "acousticness",
         "orientation": "v",
         "showlegend": true,
         "textposition": "auto",
         "type": "bar",
         "x": [
          "basshall",
          "south african house",
          "trap venezolano",
          "turkish edm",
          "alberta hip hop",
          "chinese electropop",
          "afroswing",
          "afro soul",
          "circuit",
          "guaracha"
         ],
         "xaxis": "x",
         "y": {
          "bdata": "EyD3mgtJyz/TXEiaUnGmP4SezarP1aY/tRoS91j6gD8fhetRuB7VP1lMbD6uDWU/GlHaG3xh1D8DfSJPkq55P8qJdhVSfoI/yol2FVJ+gj8=",
          "dtype": "f8"
         },
         "yaxis": "y"
        }
       ],
       "layout": {
        "barmode": "group",
        "legend": {
         "title": {
          "text": "variable"
         },
         "tracegroupgap": 0
        },
        "margin": {
         "t": 60
        },
        "template": {
         "data": {
          "bar": [
           {
            "error_x": {
             "color": "#2a3f5f"
            },
            "error_y": {
             "color": "#2a3f5f"
            },
            "marker": {
             "line": {
              "color": "#E5ECF6",
              "width": 0.5
             },
             "pattern": {
              "fillmode": "overlay",
              "size": 10,
              "solidity": 0.2
             }
            },
            "type": "bar"
           }
          ],
          "barpolar": [
           {
            "marker": {
             "line": {
              "color": "#E5ECF6",
              "width": 0.5
             },
             "pattern": {
              "fillmode": "overlay",
              "size": 10,
              "solidity": 0.2
             }
            },
            "type": "barpolar"
           }
          ],
          "carpet": [
           {
            "aaxis": {
             "endlinecolor": "#2a3f5f",
             "gridcolor": "white",
             "linecolor": "white",
             "minorgridcolor": "white",
             "startlinecolor": "#2a3f5f"
            },
            "baxis": {
             "endlinecolor": "#2a3f5f",
             "gridcolor": "white",
             "linecolor": "white",
             "minorgridcolor": "white",
             "startlinecolor": "#2a3f5f"
            },
            "type": "carpet"
           }
          ],
          "choropleth": [
           {
            "colorbar": {
             "outlinewidth": 0,
             "ticks": ""
            },
            "type": "choropleth"
           }
          ],
          "contour": [
           {
            "colorbar": {
             "outlinewidth": 0,
             "ticks": ""
            },
            "colorscale": [
             [
              0,
              "#0d0887"
             ],
             [
              0.1111111111111111,
              "#46039f"
             ],
             [
              0.2222222222222222,
              "#7201a8"
             ],
             [
              0.3333333333333333,
              "#9c179e"
             ],
             [
              0.4444444444444444,
              "#bd3786"
             ],
             [
              0.5555555555555556,
              "#d8576b"
             ],
             [
              0.6666666666666666,
              "#ed7953"
             ],
             [
              0.7777777777777778,
              "#fb9f3a"
             ],
             [
              0.8888888888888888,
              "#fdca26"
             ],
             [
              1,
              "#f0f921"
             ]
            ],
            "type": "contour"
           }
          ],
          "contourcarpet": [
           {
            "colorbar": {
             "outlinewidth": 0,
             "ticks": ""
            },
            "type": "contourcarpet"
           }
          ],
          "heatmap": [
           {
            "colorbar": {
             "outlinewidth": 0,
             "ticks": ""
            },
            "colorscale": [
             [
              0,
              "#0d0887"
             ],
             [
              0.1111111111111111,
              "#46039f"
             ],
             [
              0.2222222222222222,
              "#7201a8"
             ],
             [
              0.3333333333333333,
              "#9c179e"
             ],
             [
              0.4444444444444444,
              "#bd3786"
             ],
             [
              0.5555555555555556,
              "#d8576b"
             ],
             [
              0.6666666666666666,
              "#ed7953"
             ],
             [
              0.7777777777777778,
              "#fb9f3a"
             ],
             [
              0.8888888888888888,
              "#fdca26"
             ],
             [
              1,
              "#f0f921"
             ]
            ],
            "type": "heatmap"
           }
          ],
          "histogram": [
           {
            "marker": {
             "pattern": {
              "fillmode": "overlay",
              "size": 10,
              "solidity": 0.2
             }
            },
            "type": "histogram"
           }
          ],
          "histogram2d": [
           {
            "colorbar": {
             "outlinewidth": 0,
             "ticks": ""
            },
            "colorscale": [
             [
              0,
              "#0d0887"
             ],
             [
              0.1111111111111111,
              "#46039f"
             ],
             [
              0.2222222222222222,
              "#7201a8"
             ],
             [
              0.3333333333333333,
              "#9c179e"
             ],
             [
              0.4444444444444444,
              "#bd3786"
             ],
             [
              0.5555555555555556,
              "#d8576b"
             ],
             [
              0.6666666666666666,
              "#ed7953"
             ],
             [
              0.7777777777777778,
              "#fb9f3a"
             ],
             [
              0.8888888888888888,
              "#fdca26"
             ],
             [
              1,
              "#f0f921"
             ]
            ],
            "type": "histogram2d"
           }
          ],
          "histogram2dcontour": [
           {
            "colorbar": {
             "outlinewidth": 0,
             "ticks": ""
            },
            "colorscale": [
             [
              0,
              "#0d0887"
             ],
             [
              0.1111111111111111,
              "#46039f"
             ],
             [
              0.2222222222222222,
              "#7201a8"
             ],
             [
              0.3333333333333333,
              "#9c179e"
             ],
             [
              0.4444444444444444,
              "#bd3786"
             ],
             [
              0.5555555555555556,
              "#d8576b"
             ],
             [
              0.6666666666666666,
              "#ed7953"
             ],
             [
              0.7777777777777778,
              "#fb9f3a"
             ],
             [
              0.8888888888888888,
              "#fdca26"
             ],
             [
              1,
              "#f0f921"
             ]
            ],
            "type": "histogram2dcontour"
           }
          ],
          "mesh3d": [
           {
            "colorbar": {
             "outlinewidth": 0,
             "ticks": ""
            },
            "type": "mesh3d"
           }
          ],
          "parcoords": [
           {
            "line": {
             "colorbar": {
              "outlinewidth": 0,
              "ticks": ""
             }
            },
            "type": "parcoords"
           }
          ],
          "pie": [
           {
            "automargin": true,
            "type": "pie"
           }
          ],
          "scatter": [
           {
            "fillpattern": {
             "fillmode": "overlay",
             "size": 10,
             "solidity": 0.2
            },
            "type": "scatter"
           }
          ],
          "scatter3d": [
           {
            "line": {
             "colorbar": {
              "outlinewidth": 0,
              "ticks": ""
             }
            },
            "marker": {
             "colorbar": {
              "outlinewidth": 0,
              "ticks": ""
             }
            },
            "type": "scatter3d"
           }
          ],
          "scattercarpet": [
           {
            "marker": {
             "colorbar": {
              "outlinewidth": 0,
              "ticks": ""
             }
            },
            "type": "scattercarpet"
           }
          ],
          "scattergeo": [
           {
            "marker": {
             "colorbar": {
              "outlinewidth": 0,
              "ticks": ""
             }
            },
            "type": "scattergeo"
           }
          ],
          "scattergl": [
           {
            "marker": {
             "colorbar": {
              "outlinewidth": 0,
              "ticks": ""
             }
            },
            "type": "scattergl"
           }
          ],
          "scattermap": [
           {
            "marker": {
             "colorbar": {
              "outlinewidth": 0,
              "ticks": ""
             }
            },
            "type": "scattermap"
           }
          ],
          "scattermapbox": [
           {
            "marker": {
             "colorbar": {
              "outlinewidth": 0,
              "ticks": ""
             }
            },
            "type": "scattermapbox"
           }
          ],
          "scatterpolar": [
           {
            "marker": {
             "colorbar": {
              "outlinewidth": 0,
              "ticks": ""
             }
            },
            "type": "scatterpolar"
           }
          ],
          "scatterpolargl": [
           {
            "marker": {
             "colorbar": {
              "outlinewidth": 0,
              "ticks": ""
             }
            },
            "type": "scatterpolargl"
           }
          ],
          "scatterternary": [
           {
            "marker": {
             "colorbar": {
              "outlinewidth": 0,
              "ticks": ""
             }
            },
            "type": "scatterternary"
           }
          ],
          "surface": [
           {
            "colorbar": {
             "outlinewidth": 0,
             "ticks": ""
            },
            "colorscale": [
             [
              0,
              "#0d0887"
             ],
             [
              0.1111111111111111,
              "#46039f"
             ],
             [
              0.2222222222222222,
              "#7201a8"
             ],
             [
              0.3333333333333333,
              "#9c179e"
             ],
             [
              0.4444444444444444,
              "#bd3786"
             ],
             [
              0.5555555555555556,
              "#d8576b"
             ],
             [
              0.6666666666666666,
              "#ed7953"
             ],
             [
              0.7777777777777778,
              "#fb9f3a"
             ],
             [
              0.8888888888888888,
              "#fdca26"
             ],
             [
              1,
              "#f0f921"
             ]
            ],
            "type": "surface"
           }
          ],
          "table": [
           {
            "cells": {
             "fill": {
              "color": "#EBF0F8"
             },
             "line": {
              "color": "white"
             }
            },
            "header": {
             "fill": {
              "color": "#C8D4E3"
             },
             "line": {
              "color": "white"
             }
            },
            "type": "table"
           }
          ]
         },
         "layout": {
          "annotationdefaults": {
           "arrowcolor": "#2a3f5f",
           "arrowhead": 0,
           "arrowwidth": 1
          },
          "autotypenumbers": "strict",
          "coloraxis": {
           "colorbar": {
            "outlinewidth": 0,
            "ticks": ""
           }
          },
          "colorscale": {
           "diverging": [
            [
             0,
             "#8e0152"
            ],
            [
             0.1,
             "#c51b7d"
            ],
            [
             0.2,
             "#de77ae"
            ],
            [
             0.3,
             "#f1b6da"
            ],
            [
             0.4,
             "#fde0ef"
            ],
            [
             0.5,
             "#f7f7f7"
            ],
            [
             0.6,
             "#e6f5d0"
            ],
            [
             0.7,
             "#b8e186"
            ],
            [
             0.8,
             "#7fbc41"
            ],
            [
             0.9,
             "#4d9221"
            ],
            [
             1,
             "#276419"
            ]
           ],
           "sequential": [
            [
             0,
             "#0d0887"
            ],
            [
             0.1111111111111111,
             "#46039f"
            ],
            [
             0.2222222222222222,
             "#7201a8"
            ],
            [
             0.3333333333333333,
             "#9c179e"
            ],
            [
             0.4444444444444444,
             "#bd3786"
            ],
            [
             0.5555555555555556,
             "#d8576b"
            ],
            [
             0.6666666666666666,
             "#ed7953"
            ],
            [
             0.7777777777777778,
             "#fb9f3a"
            ],
            [
             0.8888888888888888,
             "#fdca26"
            ],
            [
             1,
             "#f0f921"
            ]
           ],
           "sequentialminus": [
            [
             0,
             "#0d0887"
            ],
            [
             0.1111111111111111,
             "#46039f"
            ],
            [
             0.2222222222222222,
             "#7201a8"
            ],
            [
             0.3333333333333333,
             "#9c179e"
            ],
            [
             0.4444444444444444,
             "#bd3786"
            ],
            [
             0.5555555555555556,
             "#d8576b"
            ],
            [
             0.6666666666666666,
             "#ed7953"
            ],
            [
             0.7777777777777778,
             "#fb9f3a"
            ],
            [
             0.8888888888888888,
             "#fdca26"
            ],
            [
             1,
             "#f0f921"
            ]
           ]
          },
          "colorway": [
           "#636efa",
           "#EF553B",
           "#00cc96",
           "#ab63fa",
           "#FFA15A",
           "#19d3f3",
           "#FF6692",
           "#B6E880",
           "#FF97FF",
           "#FECB52"
          ],
          "font": {
           "color": "#2a3f5f"
          },
          "geo": {
           "bgcolor": "white",
           "lakecolor": "white",
           "landcolor": "#E5ECF6",
           "showlakes": true,
           "showland": true,
           "subunitcolor": "white"
          },
          "hoverlabel": {
           "align": "left"
          },
          "hovermode": "closest",
          "mapbox": {
           "style": "light"
          },
          "paper_bgcolor": "white",
          "plot_bgcolor": "#E5ECF6",
          "polar": {
           "angularaxis": {
            "gridcolor": "white",
            "linecolor": "white",
            "ticks": ""
           },
           "bgcolor": "#E5ECF6",
           "radialaxis": {
            "gridcolor": "white",
            "linecolor": "white",
            "ticks": ""
           }
          },
          "scene": {
           "xaxis": {
            "backgroundcolor": "#E5ECF6",
            "gridcolor": "white",
            "gridwidth": 2,
            "linecolor": "white",
            "showbackground": true,
            "ticks": "",
            "zerolinecolor": "white"
           },
           "yaxis": {
            "backgroundcolor": "#E5ECF6",
            "gridcolor": "white",
            "gridwidth": 2,
            "linecolor": "white",
            "showbackground": true,
            "ticks": "",
            "zerolinecolor": "white"
           },
           "zaxis": {
            "backgroundcolor": "#E5ECF6",
            "gridcolor": "white",
            "gridwidth": 2,
            "linecolor": "white",
            "showbackground": true,
            "ticks": "",
            "zerolinecolor": "white"
           }
          },
          "shapedefaults": {
           "line": {
            "color": "#2a3f5f"
           }
          },
          "ternary": {
           "aaxis": {
            "gridcolor": "white",
            "linecolor": "white",
            "ticks": ""
           },
           "baxis": {
            "gridcolor": "white",
            "linecolor": "white",
            "ticks": ""
           },
           "bgcolor": "#E5ECF6",
           "caxis": {
            "gridcolor": "white",
            "linecolor": "white",
            "ticks": ""
           }
          },
          "title": {
           "x": 0.05
          },
          "xaxis": {
           "automargin": true,
           "gridcolor": "white",
           "linecolor": "white",
           "ticks": "",
           "title": {
            "standoff": 15
           },
           "zerolinecolor": "white",
           "zerolinewidth": 2
          },
          "yaxis": {
           "automargin": true,
           "gridcolor": "white",
           "linecolor": "white",
           "ticks": "",
           "title": {
            "standoff": 15
           },
           "zerolinecolor": "white",
           "zerolinewidth": 2
          }
         }
        },
        "xaxis": {
         "anchor": "y",
         "domain": [
          0,
          1
         ],
         "title": {
          "text": "genres"
         }
        },
        "yaxis": {
         "anchor": "x",
         "domain": [
          0,
          1
         ],
         "title": {
          "text": "value"
         }
        }
       }
      }
     },
     "metadata": {},
     "output_type": "display_data"
    }
   ],
   "source": [
    "top10_genres = genre_data.nlargest(10, 'popularity')\n",
    "\n",
    "fig = px.bar(top10_genres, x='genres', y=['valence', 'energy', 'danceability', 'acousticness'], barmode='group')\n",
    "fig.show()"
   ]
  },
  {
   "cell_type": "markdown",
   "id": "2c268825695f2bb1",
   "metadata": {},
   "source": [
    "## Objectif de l'Analyse\n",
    "Nous avons sélectionné les **10 genres musicaux les plus populaires** et analysé plusieurs de leurs caractéristiques musicales :\n",
    "- **`valence`** → Niveau d'émotion positive (joie, bonheur).\n",
    "- **`energy`** → Intensité et excitation d'un morceau.\n",
    "- **`danceability`** → Potentiel dansant d'un morceau.\n",
    "- **`acousticness`** → Degré d'acoustique (opposé à électronique).\n",
    "\n",
    "Nous avons visualisé ces données sous forme de **graphique en barres groupées**, où chaque barre représente une caractéristique musicale pour un genre donné.\n",
    "\n",
    "\n",
    "## Résultats et Observations\n",
    "\n",
    "### **1. Les genres les plus énergiques (`energy` élevé)**\n",
    "- **`circuit`** et **`guaracha`** ont les niveaux d’**énergie** les plus élevés.\n",
    "- Ces genres sont souvent **très rythmés et festifs**, ce qui explique cette caractéristique.\n",
    "\n",
    "### **2. Les genres les plus dansants (`danceability` élevé)**\n",
    "- **`trap venezolano`**, **`basshall`** et **`guaracha`** sont les plus dansants.\n",
    "- À l’inverse, **`alberta hip hop`** semble légèrement moins adapté à la danse.\n",
    "\n",
    "### **3. Les genres les plus acoustiques (`acousticness` élevé)**\n",
    "- **`afroswing`** et **`afro soul`** affichent des niveaux **d’acousticness** plus élevés.\n",
    "- **`circuit`** et **`guaracha`** ont des valeurs presque nulles, indiquant une prédominance **électronique**.\n",
    "\n",
    "### **4. Les genres les plus joyeux (`valence` élevé)**\n",
    "- **`afro soul`** et **`afroswing`** sont les genres les plus **positifs émotionnellement**.\n",
    "- Les autres genres varient selon leur nature (ex : le **trap** est souvent plus sombre).\n",
    "\n",
    "\n",
    "## **Pourquoi ces résultats ?**\n",
    "- **Genres électroniques (`circuit`, `guaracha`)** → Très **énergiques**, peu **acoustiques**, parfaits pour les clubs.\n",
    "- **Genres urbains (`trap venezolano`, `hip hop`)** → Bonne **danceability**, mais énergie et valence varient selon les sous-genres.\n",
    "- **Genres afro (`afro soul`, `afroswing`)** → Plus **acoustiques** et souvent **associés à des émotions positives**."
   ]
  },
  {
   "cell_type": "code",
   "execution_count": 54,
   "id": "aed5affc7188c113",
   "metadata": {
    "ExecuteTime": {
     "end_time": "2025-02-08T19:11:54.575710800Z",
     "start_time": "2025-02-08T19:11:54.254171600Z"
    }
   },
   "outputs": [],
   "source": [
    "from sklearn.cluster import KMeans\n",
    "from sklearn.preprocessing import StandardScaler\n",
    "from sklearn.pipeline import Pipeline\n",
    "import numpy as np\n",
    "\n",
    "# Création du pipeline de clustering sans n_jobs\n",
    "cluster_pipeline = Pipeline([\n",
    "\t('scaler', StandardScaler()),\n",
    "\t('kmeans', KMeans(n_clusters=10, n_init=10))  # Remplace n_jobs par n_init\n",
    "])\n",
    "\n",
    "# Sélection des colonnes numériques\n",
    "X = genre_data.select_dtypes(np.number)\n",
    "\n",
    "# Entraînement du pipeline\n",
    "cluster_pipeline.fit(X)\n",
    "\n",
    "# Ajout des prédictions de cluster\n",
    "genre_data['cluster'] = cluster_pipeline.predict(X)\n"
   ]
  },
  {
   "cell_type": "markdown",
   "id": "9daf3634b94b5ecd",
   "metadata": {},
   "source": [
    "Ce code effectue un clustering des genres musicaux en utilisant l'algorithme K-Means.\n",
    "\n",
    "Normalisation des données : Avant d’appliquer le clustering, les valeurs numériques sont mises à l’échelle pour éviter qu’une feature comme la durée d’un morceau n’ait trop d’impact par rapport à des variables comme l’énergie ou la dansabilité.\n",
    "\n",
    "Application de K-Means : L’algorithme divise les genres en 10 clusters basés sur leurs caractéristiques musicales. Il est entraîné avec plusieurs initialisations pour garantir un bon résultat.\n",
    "\n",
    "Assignation des clusters : Une fois le modèle entraîné, chaque genre est associé à un cluster spécifique, permettant de détecter des similarités entre différents styles musicaux.\n",
    "\n",
    "On fait ca pour :\n",
    "\n",
    "Identifier des groupes de genres ayant des propriétés musicales proches.\n",
    "Mieux comprendre les tendances musicales.\n",
    "Explorer comment différents genres se regroupent naturellement en fonction de leurs caractéristiques."
   ]
  },
  {
   "cell_type": "code",
   "execution_count": 55,
   "id": "4b916ea9bcb0d049",
   "metadata": {
    "ExecuteTime": {
     "end_time": "2025-02-08T19:11:59.781076900Z",
     "start_time": "2025-02-08T19:11:54.399651900Z"
    }
   },
   "outputs": [
    {
     "name": "stdout",
     "output_type": "stream",
     "text": [
      "[t-SNE] Computing 31 nearest neighbors...\n",
      "[t-SNE] Indexed 2973 samples in 0.002s...\n",
      "[t-SNE] Computed neighbors for 2973 samples in 0.079s...\n",
      "[t-SNE] Computed conditional probabilities for sample 1000 / 2973\n",
      "[t-SNE] Computed conditional probabilities for sample 2000 / 2973\n",
      "[t-SNE] Computed conditional probabilities for sample 2973 / 2973\n",
      "[t-SNE] Mean sigma: 0.565623\n",
      "[t-SNE] KL divergence after 250 iterations with early exaggeration: 84.095085\n",
      "[t-SNE] KL divergence after 2000 iterations: 1.352378\n"
     ]
    },
    {
     "data": {
      "application/vnd.plotly.v1+json": {
       "config": {
        "plotlyServerURL": "https://plot.ly"
       },
       "data": [
        {
         "customdata": [
          [
           "21st century classical"
          ],
          [
           "432hz"
          ],
          [
           "8-bit"
          ],
          [
           "[]"
          ],
          [
           "a cappella"
          ],
          [
           "abstract"
          ],
          [
           "abstract beats"
          ],
          [
           "abstract hip hop"
          ],
          [
           "accordeon"
          ],
          [
           "accordion"
          ],
          [
           "acid house"
          ],
          [
           "acid rock"
          ],
          [
           "acid trance"
          ],
          [
           "acousmatic"
          ],
          [
           "acoustic blues"
          ],
          [
           "acoustic pop"
          ],
          [
           "acoustic punk"
          ],
          [
           "acoustic rock"
          ],
          [
           "action rock"
          ],
          [
           "adoracion"
          ],
          [
           "adult standards"
          ],
          [
           "adventista"
          ],
          [
           "afghan pop"
          ],
          [
           "afghan traditional"
          ],
          [
           "african percussion"
          ],
          [
           "african reggae"
          ],
          [
           "african rock"
          ],
          [
           "african-american classical"
          ],
          [
           "afro dancehall"
          ],
          [
           "afro house"
          ],
          [
           "afro psych"
          ],
          [
           "afro soul"
          ],
          [
           "afro-funk"
          ],
          [
           "afrobeat"
          ],
          [
           "afrofuturism"
          ],
          [
           "afrofuturismo brasileiro"
          ],
          [
           "afropop"
          ],
          [
           "afroswing"
          ],
          [
           "aggrotech"
          ],
          [
           "alabama indie"
          ],
          [
           "alabama metal"
          ],
          [
           "alabama rap"
          ],
          [
           "alaska indie"
          ],
          [
           "albanian pop"
          ],
          [
           "albany ny indie"
          ],
          [
           "alberta country"
          ],
          [
           "alberta hip hop"
          ],
          [
           "album rock"
          ],
          [
           "albuquerque indie"
          ],
          [
           "alt-idol"
          ],
          [
           "alte"
          ],
          [
           "alternative americana"
          ],
          [
           "alternative country"
          ],
          [
           "alternative dance"
          ],
          [
           "alternative emo"
          ],
          [
           "alternative hip hop"
          ],
          [
           "alternative metal"
          ],
          [
           "alternative pop"
          ],
          [
           "alternative pop rock"
          ],
          [
           "alternative r&b"
          ],
          [
           "alternative rock"
          ],
          [
           "alternative roots rock"
          ],
          [
           "ambeat"
          ],
          [
           "ambient"
          ],
          [
           "ambient black metal"
          ],
          [
           "ambient folk"
          ],
          [
           "ambient house"
          ],
          [
           "ambient idm"
          ],
          [
           "ambient industrial"
          ],
          [
           "ambient pop"
          ],
          [
           "ambient techno"
          ],
          [
           "ambient worship"
          ],
          [
           "american 21st century classical"
          ],
          [
           "american choir"
          ],
          [
           "american classical piano"
          ],
          [
           "american contemporary classical"
          ],
          [
           "american early music"
          ],
          [
           "american folk revival"
          ],
          [
           "american metalcore"
          ],
          [
           "american modern classical"
          ],
          [
           "american oi"
          ],
          [
           "american orchestra"
          ],
          [
           "american post-rock"
          ],
          [
           "american primitive"
          ],
          [
           "american romanticism"
          ],
          [
           "american shoegaze"
          ],
          [
           "anadolu rock"
          ],
          [
           "anarcho-punk"
          ],
          [
           "anglican liturgy"
          ],
          [
           "animal singing"
          ],
          [
           "anime"
          ],
          [
           "anime latino"
          ],
          [
           "anime rock"
          ],
          [
           "anime score"
          ],
          [
           "ann arbor indie"
          ],
          [
           "anthem emo"
          ],
          [
           "anthem worship"
          ],
          [
           "anti-folk"
          ],
          [
           "antilliaanse folklore"
          ],
          [
           "antiviral pop"
          ],
          [
           "appalachian folk"
          ],
          [
           "arab folk"
          ],
          [
           "arab groove"
          ],
          [
           "arab pop"
          ],
          [
           "arabesk"
          ],
          [
           "arabic hip hop"
          ],
          [
           "arabic jazz"
          ],
          [
           "argentine ambient"
          ],
          [
           "argentine hardcore"
          ],
          [
           "argentine heavy metal"
          ],
          [
           "argentine hip hop"
          ],
          [
           "argentine indie"
          ],
          [
           "argentine metal"
          ],
          [
           "argentine punk"
          ],
          [
           "argentine reggae"
          ],
          [
           "argentine rock"
          ],
          [
           "argentine telepop"
          ],
          [
           "arizona punk"
          ],
          [
           "arkansas country"
          ],
          [
           "arkansas hip hop"
          ],
          [
           "arkansas indie"
          ],
          [
           "armenian folk"
          ],
          [
           "art pop"
          ],
          [
           "art punk"
          ],
          [
           "art rock"
          ],
          [
           "art song"
          ],
          [
           "asbury park indie"
          ],
          [
           "asheville indie"
          ],
          [
           "asian american hip hop"
          ],
          [
           "asmr"
          ],
          [
           "athens indie"
          ],
          [
           "atl hip hop"
          ],
          [
           "atl trap"
          ],
          [
           "atlanta indie"
          ],
          [
           "atlanta metal"
          ],
          [
           "atlanta punk"
          ],
          [
           "atmosphere"
          ],
          [
           "atmospheric black metal"
          ],
          [
           "atmospheric dnb"
          ],
          [
           "atmospheric post-metal"
          ],
          [
           "atmospheric post-rock"
          ],
          [
           "atmospheric sludge"
          ],
          [
           "auckland indie"
          ],
          [
           "audiophile vocal"
          ],
          [
           "aussietronica"
          ],
          [
           "austin americana"
          ],
          [
           "austin singer-songwriter"
          ],
          [
           "austindie"
          ],
          [
           "australian alternative pop"
          ],
          [
           "australian alternative rock"
          ],
          [
           "australian ambient"
          ],
          [
           "australian children's music"
          ],
          [
           "australian choir"
          ],
          [
           "australian classical"
          ],
          [
           "australian classical piano"
          ],
          [
           "australian country"
          ],
          [
           "australian dance"
          ],
          [
           "australian electropop"
          ],
          [
           "australian garage punk"
          ],
          [
           "australian hip hop"
          ],
          [
           "australian house"
          ],
          [
           "australian indie"
          ],
          [
           "australian indie folk"
          ],
          [
           "australian indie rock"
          ],
          [
           "australian indigenous"
          ],
          [
           "australian metal"
          ],
          [
           "australian metalcore"
          ],
          [
           "australian pop"
          ],
          [
           "australian post-hardcore"
          ],
          [
           "australian post-punk"
          ],
          [
           "australian psych"
          ],
          [
           "australian r&b"
          ],
          [
           "australian reggae fusion"
          ],
          [
           "australian rock"
          ],
          [
           "australian singer-songwriter"
          ],
          [
           "australian ska"
          ],
          [
           "australian talent show"
          ],
          [
           "australian trap"
          ],
          [
           "australian underground hip hop"
          ],
          [
           "austrian choir"
          ],
          [
           "austrian classical piano"
          ],
          [
           "austrian orchestra"
          ],
          [
           "austrian pop"
          ],
          [
           "austro-german modernism"
          ],
          [
           "austropop"
          ],
          [
           "autoharp"
          ],
          [
           "autonomous black metal"
          ],
          [
           "avant-garde"
          ],
          [
           "avant-garde jazz"
          ],
          [
           "avant-garde metal"
          ],
          [
           "axe"
          ],
          [
           "azeri traditional"
          ],
          [
           "azonto"
          ],
          [
           "azontobeats"
          ],
          [
           "bachata"
          ],
          [
           "bachata dominicana"
          ],
          [
           "background music"
          ],
          [
           "background piano"
          ],
          [
           "baglama"
          ],
          [
           "bahai"
          ],
          [
           "bahamian folk"
          ],
          [
           "bahamian pop"
          ],
          [
           "baiao"
          ],
          [
           "bajki"
          ],
          [
           "bakersfield sound"
          ],
          [
           "balearic"
          ],
          [
           "balkan brass"
          ],
          [
           "balkan classical piano"
          ],
          [
           "ballet class"
          ],
          [
           "ballroom"
          ],
          [
           "baltic classical"
          ],
          [
           "baltimore hip hop"
          ],
          [
           "baltimore indie"
          ],
          [
           "banda"
          ],
          [
           "banda caliente"
          ],
          [
           "banda carnavalera"
          ],
          [
           "bandinhas"
          ],
          [
           "bandolim"
          ],
          [
           "bandoneon"
          ],
          [
           "bangla"
          ],
          [
           "banjo"
          ],
          [
           "bansuri"
          ],
          [
           "barbadian pop"
          ],
          [
           "barbershop"
          ],
          [
           "bard"
          ],
          [
           "barnmusik"
          ],
          [
           "barockinterpreten"
          ],
          [
           "baroque"
          ],
          [
           "baroque brass"
          ],
          [
           "baroque ensemble"
          ],
          [
           "baroque pop"
          ],
          [
           "baroque singing"
          ],
          [
           "baroque violin"
          ],
          [
           "baroque woodwind"
          ],
          [
           "bass house"
          ],
          [
           "bass music"
          ],
          [
           "bass trap"
          ],
          [
           "basshall"
          ],
          [
           "bassline"
          ],
          [
           "bath indie"
          ],
          [
           "baton rouge indie"
          ],
          [
           "baton rouge rap"
          ],
          [
           "battle rap"
          ],
          [
           "bay area hip hop"
          ],
          [
           "bay area indie"
          ],
          [
           "bboy"
          ],
          [
           "bc underground hip hop"
          ],
          [
           "beach music"
          ],
          [
           "beat italiano"
          ],
          [
           "beat poetry"
          ],
          [
           "beatboxing"
          ],
          [
           "beatlesque"
          ],
          [
           "bebop"
          ],
          [
           "bedroom pop"
          ],
          [
           "bedroom soul"
          ],
          [
           "belarusian indie"
          ],
          [
           "belarusian pop"
          ],
          [
           "belarusian rock"
          ],
          [
           "belgian classical piano"
          ],
          [
           "belgian contemporary classical"
          ],
          [
           "belgian dance"
          ],
          [
           "belgian edm"
          ],
          [
           "belgian hardcore"
          ],
          [
           "belgian indie"
          ],
          [
           "belgian indie rock"
          ],
          [
           "belgian jazz"
          ],
          [
           "belgian new wave"
          ],
          [
           "belgian pop"
          ],
          [
           "belgian rock"
          ],
          [
           "belgian singer-songwriter"
          ],
          [
           "belgian techno"
          ],
          [
           "belly dance"
          ],
          [
           "bengali folk"
          ],
          [
           "beninese pop"
          ],
          [
           "bergen indie"
          ],
          [
           "berlin minimal techno"
          ],
          [
           "berlin school"
          ],
          [
           "bhajan"
          ],
          [
           "bhangra"
          ],
          [
           "bible"
          ],
          [
           "big band"
          ],
          [
           "big beat"
          ],
          [
           "big room"
          ],
          [
           "binaural"
          ],
          [
           "birdsong"
          ],
          [
           "birmingham grime"
          ],
          [
           "birmingham hip hop"
          ],
          [
           "birmingham metal"
          ],
          [
           "bitpop"
          ],
          [
           "black 'n' roll"
          ],
          [
           "black comedy"
          ],
          [
           "black metal"
          ],
          [
           "black punk"
          ],
          [
           "black thrash"
          ],
          [
           "blackened crust"
          ],
          [
           "blackgaze"
          ],
          [
           "bleep techno"
          ],
          [
           "bluegrass"
          ],
          [
           "bluegrass fiddle"
          ],
          [
           "bluegrass gospel"
          ],
          [
           "blues"
          ],
          [
           "blues latinoamericano"
          ],
          [
           "blues mexicano"
          ],
          [
           "blues rock"
          ],
          [
           "bmore"
          ],
          [
           "bolero"
          ],
          [
           "bolero cubano"
          ],
          [
           "boogaloo"
          ],
          [
           "boogie"
          ],
          [
           "boogie-woogie"
          ],
          [
           "boom bap"
          ],
          [
           "boom bap brasileiro"
          ],
          [
           "bossa nova"
          ],
          [
           "bossa nova jazz"
          ],
          [
           "boston folk"
          ],
          [
           "boston hardcore"
          ],
          [
           "boston hip hop"
          ],
          [
           "boston indie"
          ],
          [
           "boston metal"
          ],
          [
           "boston punk"
          ],
          [
           "boston rock"
          ],
          [
           "bounce"
          ],
          [
           "bouncy house"
          ],
          [
           "bouzouki"
          ],
          [
           "bow pop"
          ],
          [
           "boy band"
          ],
          [
           "boy pop"
          ],
          [
           "boy soprano"
          ],
          [
           "brain waves"
          ],
          [
           "braindance"
          ],
          [
           "brass band"
          ],
          [
           "brass ensemble"
          ],
          [
           "brass quintet"
          ],
          [
           "brazilian boogie"
          ],
          [
           "brazilian classical"
          ],
          [
           "brazilian classical piano"
          ],
          [
           "brazilian contemporary classical"
          ],
          [
           "brazilian edm"
          ],
          [
           "brazilian groove metal"
          ],
          [
           "brazilian hip hop"
          ],
          [
           "brazilian indie"
          ],
          [
           "brazilian jazz"
          ],
          [
           "brazilian metal"
          ],
          [
           "brazilian modern jazz"
          ],
          [
           "brazilian percussion"
          ],
          [
           "brazilian punk"
          ],
          [
           "brazilian reggae"
          ],
          [
           "brazilian rock"
          ],
          [
           "brazilian ska"
          ],
          [
           "brazilian soul"
          ],
          [
           "brazilian thrash metal"
          ],
          [
           "breakbeat"
          ],
          [
           "breakcore"
          ],
          [
           "brega"
          ],
          [
           "breton folk"
          ],
          [
           "brighton indie"
          ],
          [
           "brill building pop"
          ],
          [
           "brisbane indie"
          ],
          [
           "bristol electronic"
          ],
          [
           "bristol indie"
          ],
          [
           "brit funk"
          ],
          [
           "british alternative rock"
          ],
          [
           "british black metal"
          ],
          [
           "british blues"
          ],
          [
           "british children's music"
          ],
          [
           "british choir"
          ],
          [
           "british classical piano"
          ],
          [
           "british comedy"
          ],
          [
           "british contemporary classical"
          ],
          [
           "british dance band"
          ],
          [
           "british death metal"
          ],
          [
           "british experimental"
          ],
          [
           "british folk"
          ],
          [
           "british grindcore"
          ],
          [
           "british indie rock"
          ],
          [
           "british industrial"
          ],
          [
           "british invasion"
          ],
          [
           "british jazz"
          ],
          [
           "british modern classical"
          ],
          [
           "british orchestra"
          ],
          [
           "british post-rock"
          ],
          [
           "british power metal"
          ],
          [
           "british singer-songwriter"
          ],
          [
           "british soul"
          ],
          [
           "british soundtrack"
          ],
          [
           "britpop"
          ],
          [
           "broadway"
          ],
          [
           "broken beat"
          ],
          [
           "bronx hip hop"
          ],
          [
           "brooklyn drill"
          ],
          [
           "brooklyn indie"
          ],
          [
           "brostep"
          ],
          [
           "brutal death metal"
          ],
          [
           "brutal deathcore"
          ],
          [
           "bubble trance"
          ],
          [
           "bubblegrunge"
          ],
          [
           "bubblegum dance"
          ],
          [
           "bubblegum pop"
          ],
          [
           "buffalo hip hop"
          ],
          [
           "buffalo ny indie"
          ],
          [
           "buffalo ny metal"
          ],
          [
           "bulgarian experimental"
          ],
          [
           "burmese traditional"
          ],
          [
           "bush ballad"
          ],
          [
           "c-pop"
          ],
          [
           "c86"
          ],
          [
           "cabaret"
          ],
          [
           "cajun"
          ],
          [
           "calgary indie"
          ],
          [
           "cali rap"
          ],
          [
           "calming instrumental"
          ],
          [
           "calypso"
          ],
          [
           "cambodian rock"
          ],
          [
           "cambridge choir"
          ],
          [
           "cambridgeshire indie"
          ],
          [
           "cameroonian pop"
          ],
          [
           "canadian americana"
          ],
          [
           "canadian blues"
          ],
          [
           "canadian ccm"
          ],
          [
           "canadian celtic"
          ],
          [
           "canadian children's music"
          ],
          [
           "canadian choir"
          ],
          [
           "canadian classical"
          ],
          [
           "canadian classical piano"
          ],
          [
           "canadian comedy"
          ],
          [
           "canadian contemporary country"
          ],
          [
           "canadian contemporary r&b"
          ],
          [
           "canadian country"
          ],
          [
           "canadian electronic"
          ],
          [
           "canadian electropop"
          ],
          [
           "canadian experimental"
          ],
          [
           "canadian folk"
          ],
          [
           "canadian hardcore"
          ],
          [
           "canadian hip hop"
          ],
          [
           "canadian house"
          ],
          [
           "canadian indie"
          ],
          [
           "canadian indie folk"
          ],
          [
           "canadian indigenous"
          ],
          [
           "canadian indigenous hip hop"
          ],
          [
           "canadian latin"
          ],
          [
           "canadian metal"
          ],
          [
           "canadian metalcore"
          ],
          [
           "canadian modern jazz"
          ],
          [
           "canadian pop"
          ],
          [
           "canadian pop punk"
          ],
          [
           "canadian post-hardcore"
          ],
          [
           "canadian post-rock"
          ],
          [
           "canadian psychedelic"
          ],
          [
           "canadian punk"
          ],
          [
           "canadian rock"
          ],
          [
           "canadian rockabilly"
          ],
          [
           "canadian singer-songwriter"
          ],
          [
           "canadian soundtrack"
          ],
          [
           "cancion melodica"
          ],
          [
           "candy pop"
          ],
          [
           "cantautor"
          ],
          [
           "cante flamenco"
          ],
          [
           "canterbury scene"
          ],
          [
           "canto popular uruguayo"
          ],
          [
           "cantopop"
          ],
          [
           "canzone d'autore"
          ],
          [
           "canzone genovese"
          ],
          [
           "canzone napoletana"
          ],
          [
           "cape town indie"
          ],
          [
           "cape verdean folk"
          ],
          [
           "capoeira"
          ],
          [
           "caracas indie"
          ],
          [
           "carnatic"
          ],
          [
           "carnatic instrumental"
          ],
          [
           "carnatic vocal"
          ],
          [
           "cartoon"
          ],
          [
           "cathedral choir"
          ],
          [
           "caucasian classical"
          ],
          [
           "caucasian classical piano"
          ],
          [
           "ccm"
          ],
          [
           "cedm"
          ],
          [
           "cello"
          ],
          [
           "celtic"
          ],
          [
           "celtic harp"
          ],
          [
           "celtic metal"
          ],
          [
           "celtic punk"
          ],
          [
           "celtic rock"
          ],
          [
           "cha-cha-cha"
          ],
          [
           "chakra"
          ],
          [
           "chamame"
          ],
          [
           "chamber choir"
          ],
          [
           "chamber ensemble"
          ],
          [
           "chamber folk"
          ],
          [
           "chamber orchestra"
          ],
          [
           "chamber pop"
          ],
          [
           "chamber psych"
          ],
          [
           "champeta"
          ],
          [
           "channel islands indie"
          ],
          [
           "channel pop"
          ],
          [
           "chanson"
          ],
          [
           "chanson paillarde"
          ],
          [
           "chaotic hardcore"
          ],
          [
           "charanga"
          ],
          [
           "charango"
          ],
          [
           "charlotte nc indie"
          ],
          [
           "charlottesville indie"
          ],
          [
           "chattanooga indie"
          ],
          [
           "chicago blues"
          ],
          [
           "chicago drill"
          ],
          [
           "chicago hardcore"
          ],
          [
           "chicago house"
          ],
          [
           "chicago indie"
          ],
          [
           "chicago pop punk"
          ],
          [
           "chicago punk"
          ],
          [
           "chicago rap"
          ],
          [
           "chicago soul"
          ],
          [
           "chicano punk"
          ],
          [
           "chicano rap"
          ],
          [
           "chicha"
          ],
          [
           "chihuahua indie"
          ],
          [
           "children's choir"
          ],
          [
           "children's folk"
          ],
          [
           "children's music"
          ],
          [
           "children's story"
          ],
          [
           "chilean hardcore"
          ],
          [
           "chilean indie"
          ],
          [
           "chilean rock"
          ],
          [
           "chilena"
          ],
          [
           "chill beats"
          ],
          [
           "chill guitar"
          ],
          [
           "chill lounge"
          ],
          [
           "chill out"
          ],
          [
           "chill pop"
          ],
          [
           "chill r&b"
          ],
          [
           "chillhop"
          ],
          [
           "chillstep"
          ],
          [
           "chillwave"
          ],
          [
           "chinese audiophile"
          ],
          [
           "chinese classical"
          ],
          [
           "chinese classical performance"
          ],
          [
           "chinese classical piano"
          ],
          [
           "chinese electropop"
          ],
          [
           "chinese hip hop"
          ],
          [
           "chinese idol pop"
          ],
          [
           "chinese indie"
          ],
          [
           "chinese indie rock"
          ],
          [
           "chinese instrumental"
          ],
          [
           "chinese jazz"
          ],
          [
           "chinese r&b"
          ],
          [
           "chinese soundtrack"
          ],
          [
           "chinese traditional"
          ],
          [
           "chiptune"
          ],
          [
           "chopped and screwed"
          ],
          [
           "choral"
          ],
          [
           "choro"
          ],
          [
           "christchurch indie"
          ],
          [
           "christelijk"
          ],
          [
           "christian a cappella"
          ],
          [
           "christian alternative rock"
          ],
          [
           "christian dance"
          ],
          [
           "christian hard rock"
          ],
          [
           "christian hardcore"
          ],
          [
           "christian hip hop"
          ],
          [
           "christian indie"
          ],
          [
           "christian metal"
          ],
          [
           "christian metalcore"
          ],
          [
           "christian music"
          ],
          [
           "christian pop"
          ],
          [
           "christian power metal"
          ],
          [
           "christian punk"
          ],
          [
           "christian relaxative"
          ],
          [
           "christian rock"
          ],
          [
           "christian trap"
          ],
          [
           "christian uplift"
          ],
          [
           "christmas instrumental"
          ],
          [
           "christmas product"
          ],
          [
           "chunchaca"
          ],
          [
           "chutney"
          ],
          [
           "cincinnati rap"
          ],
          [
           "cinematic post-rock"
          ],
          [
           "circuit"
          ],
          [
           "circus"
          ],
          [
           "classic afrobeat"
          ],
          [
           "classic arab pop"
          ],
          [
           "classic australian country"
          ],
          [
           "classic belgian pop"
          ],
          [
           "classic bhangra"
          ],
          [
           "classic bollywood"
          ],
          [
           "classic canadian rock"
          ],
          [
           "classic cantopop"
          ],
          [
           "classic colombian pop"
          ],
          [
           "classic country pop"
          ],
          [
           "classic czech pop"
          ],
          [
           "classic danish pop"
          ],
          [
           "classic dubstep"
          ],
          [
           "classic eurovision"
          ],
          [
           "classic finnish pop"
          ],
          [
           "classic french pop"
          ],
          [
           "classic garage rock"
          ],
          [
           "classic girl group"
          ],
          [
           "classic greek pop"
          ],
          [
           "classic hardstyle"
          ],
          [
           "classic icelandic pop"
          ],
          [
           "classic indo pop"
          ],
          [
           "classic iskelma"
          ],
          [
           "classic israeli pop"
          ],
          [
           "classic italian folk pop"
          ],
          [
           "classic italian pop"
          ],
          [
           "classic j-rock"
          ],
          [
           "classic japanese jazz"
          ],
          [
           "classic korean pop"
          ],
          [
           "classic latvian pop"
          ],
          [
           "classic mandopop"
          ],
          [
           "classic norwegian pop"
          ],
          [
           "classic opm"
          ],
          [
           "classic pakistani pop"
          ],
          [
           "classic persian pop"
          ],
          [
           "classic peruvian pop"
          ],
          [
           "classic polish pop"
          ],
          [
           "classic praise"
          ],
          [
           "classic psychedelic rock"
          ],
          [
           "classic punjabi pop"
          ],
          [
           "classic rock"
          ],
          [
           "classic russian pop"
          ],
          [
           "classic russian rock"
          ],
          [
           "classic schlager"
          ],
          [
           "classic soul"
          ],
          [
           "classic soundtrack"
          ],
          [
           "classic swedish pop"
          ],
          [
           "classic thai pop"
          ],
          [
           "classic tunisian pop"
          ],
          [
           "classic turkish pop"
          ],
          [
           "classic uk pop"
          ],
          [
           "classic venezuelan pop"
          ],
          [
           "classical"
          ],
          [
           "classical accordion"
          ],
          [
           "classical baritone"
          ],
          [
           "classical bass"
          ],
          [
           "classical cello"
          ],
          [
           "classical clarinet"
          ],
          [
           "classical contralto"
          ],
          [
           "classical countertenor"
          ],
          [
           "classical era"
          ],
          [
           "classical flute"
          ],
          [
           "classical guitar"
          ],
          [
           "classical harp"
          ],
          [
           "classical horn"
          ],
          [
           "classical mandolin"
          ],
          [
           "classical mezzo-soprano"
          ],
          [
           "classical oboe"
          ],
          [
           "classical organ"
          ],
          [
           "classical performance"
          ],
          [
           "classical piano"
          ],
          [
           "classical piano duo"
          ],
          [
           "classical piano trio"
          ],
          [
           "classical saxophone"
          ],
          [
           "classical soprano"
          ],
          [
           "classical tenor"
          ],
          [
           "classical trumpet"
          ],
          [
           "classify"
          ],
          [
           "clawhammer banjo"
          ],
          [
           "clean comedy"
          ],
          [
           "cleveland metal"
          ],
          [
           "coco"
          ],
          [
           "collage pop"
          ],
          [
           "college a cappella"
          ],
          [
           "colombian hip hop"
          ],
          [
           "colombian pop"
          ],
          [
           "colombian rock"
          ],
          [
           "columbus ohio indie"
          ],
          [
           "comedy"
          ],
          [
           "comedy rap"
          ],
          [
           "comedy rock"
          ],
          [
           "comic"
          ],
          [
           "comic metal"
          ],
          [
           "commons"
          ],
          [
           "complextro"
          ],
          [
           "compositional ambient"
          ],
          [
           "concepcion indie"
          ],
          [
           "concert band"
          ],
          [
           "connecticut hardcore"
          ],
          [
           "connecticut indie"
          ],
          [
           "conscious hip hop"
          ],
          [
           "contemporary choir"
          ],
          [
           "contemporary classical"
          ],
          [
           "contemporary classical piano"
          ],
          [
           "contemporary country"
          ],
          [
           "contemporary folk"
          ],
          [
           "contemporary gospel"
          ],
          [
           "contemporary jazz"
          ],
          [
           "contemporary post-bop"
          ],
          [
           "contemporary vocal jazz"
          ],
          [
           "contrabass"
          ],
          [
           "cool jazz"
          ],
          [
           "copla"
          ],
          [
           "cornish folk"
          ],
          [
           "cornwall indie"
          ],
          [
           "corrido"
          ],
          [
           "corridos cristianos"
          ],
          [
           "corridos tumbados"
          ],
          [
           "corrosion"
          ],
          [
           "cosmic american"
          ],
          [
           "cosmic post-rock"
          ],
          [
           "country"
          ],
          [
           "country blues"
          ],
          [
           "country boogie"
          ],
          [
           "country dawn"
          ],
          [
           "country gospel"
          ],
          [
           "country pop"
          ],
          [
           "country rap"
          ],
          [
           "country road"
          ],
          [
           "country rock"
          ],
          [
           "coverchill"
          ],
          [
           "cowboy western"
          ],
          [
           "cowpunk"
          ],
          [
           "crack rock steady"
          ],
          [
           "croatian folk"
          ],
          [
           "croatian pop"
          ],
          [
           "croatian rock"
          ],
          [
           "crossover thrash"
          ],
          [
           "crunk"
          ],
          [
           "crust punk"
          ],
          [
           "cuarteto"
          ],
          [
           "cuatro venezolano"
          ],
          [
           "cuban alternative"
          ],
          [
           "cuban rumba"
          ],
          [
           "cubaton"
          ],
          [
           "cumbia"
          ],
          [
           "cumbia andina mexicana"
          ],
          [
           "cumbia chilena"
          ],
          [
           "cumbia colombiana regia"
          ],
          [
           "cumbia ecuatoriana"
          ],
          [
           "cumbia funk"
          ],
          [
           "cumbia lagunera"
          ],
          [
           "cumbia paraguaya"
          ],
          [
           "cumbia peruana"
          ],
          [
           "cumbia pop"
          ],
          [
           "cumbia ranchera"
          ],
          [
           "cumbia salvadorena"
          ],
          [
           "cumbia santafesina"
          ],
          [
           "cumbia sonidera"
          ],
          [
           "cumbia villera"
          ],
          [
           "cyberpunk"
          ],
          [
           "cymraeg"
          ],
          [
           "cypriot pop"
          ],
          [
           "czech classical"
          ],
          [
           "czech classical piano"
          ],
          [
           "czech contemporary classical"
          ],
          [
           "d-beat"
          ],
          [
           "dabke"
          ],
          [
           "dakke dak"
          ],
          [
           "dallas indie"
          ],
          [
           "dance pop"
          ],
          [
           "dance rock"
          ],
          [
           "dance-punk"
          ],
          [
           "dancehall"
          ],
          [
           "dangdut"
          ],
          [
           "danish alternative rock"
          ],
          [
           "danish classical"
          ],
          [
           "danish electronic"
          ],
          [
           "danish electropop"
          ],
          [
           "danish hip hop"
          ],
          [
           "danish jazz"
          ],
          [
           "danish metal"
          ],
          [
           "danish pop"
          ],
          [
           "danish pop rock"
          ],
          [
           "danish post-punk"
          ],
          [
           "danish punk"
          ],
          [
           "danish rock"
          ],
          [
           "danish singer-songwriter"
          ],
          [
           "dansband"
          ],
          [
           "danseband"
          ],
          [
           "dansktop"
          ],
          [
           "danspunk"
          ],
          [
           "dark cabaret"
          ],
          [
           "dark clubbing"
          ],
          [
           "dark disco"
          ],
          [
           "dark hardcore"
          ],
          [
           "dark jazz"
          ],
          [
           "dark minimal techno"
          ],
          [
           "dark post-punk"
          ],
          [
           "dark techno"
          ],
          [
           "dark trap"
          ],
          [
           "dark wave"
          ],
          [
           "darksynth"
          ],
          [
           "dayton indie"
          ],
          [
           "dc hardcore"
          ],
          [
           "dc indie"
          ],
          [
           "death 'n' roll"
          ],
          [
           "death metal"
          ],
          [
           "deathcore"
          ],
          [
           "deathgrass"
          ],
          [
           "deathgrind"
          ],
          [
           "deathrash"
          ],
          [
           "deathrock"
          ],
          [
           "deathstep"
          ],
          [
           "deep acoustic pop"
          ],
          [
           "deep adult standards"
          ],
          [
           "deep big room"
          ],
          [
           "deep ccm"
          ],
          [
           "deep christian rock"
          ],
          [
           "deep classic garage rock"
          ],
          [
           "deep comedy"
          ],
          [
           "deep contemporary country"
          ],
          [
           "deep dance pop"
          ],
          [
           "deep delta blues"
          ],
          [
           "deep disco"
          ],
          [
           "deep disco house"
          ],
          [
           "deep dnb"
          ],
          [
           "deep east coast hip hop"
          ],
          [
           "deep euro house"
          ],
          [
           "deep flow"
          ],
          [
           "deep free jazz"
          ],
          [
           "deep freestyle"
          ],
          [
           "deep full on"
          ],
          [
           "deep funk"
          ],
          [
           "deep g funk"
          ],
          [
           "deep gothic post-punk"
          ],
          [
           "deep groove house"
          ],
          [
           "deep house"
          ],
          [
           "deep idm"
          ],
          [
           "deep indian pop"
          ],
          [
           "deep indie singer-songwriter"
          ],
          [
           "deep latin alternative"
          ],
          [
           "deep latin christian"
          ],
          [
           "deep melodic metalcore"
          ],
          [
           "deep minimal techno"
          ],
          [
           "deep motown"
          ],
          [
           "deep new americana"
          ],
          [
           "deep new wave"
          ],
          [
           "deep norteno"
          ],
          [
           "deep northern soul"
          ],
          [
           "deep pop edm"
          ],
          [
           "deep progressive house"
          ],
          [
           "deep psychobilly"
          ],
          [
           "deep punk rock"
          ],
          [
           "deep r&b"
          ],
          [
           "deep ragga"
          ],
          [
           "deep regional mexican"
          ],
          [
           "deep smooth jazz"
          ],
          [
           "deep soft rock"
          ],
          [
           "deep soul house"
          ],
          [
           "deep soundtrack"
          ],
          [
           "deep southern soul"
          ],
          [
           "deep southern trap"
          ],
          [
           "deep space rock"
          ],
          [
           "deep talent show"
          ],
          [
           "deep tech house"
          ],
          [
           "deep techno"
          ],
          [
           "deep tropical house"
          ],
          [
           "deep underground hip hop"
          ],
          [
           "deep uplifting trance"
          ],
          [
           "delta blues"
          ],
          [
           "dembow"
          ],
          [
           "denpa-kei"
          ],
          [
           "denton tx indie"
          ],
          [
           "denver indie"
          ],
          [
           "depressive black metal"
          ],
          [
           "derby indie"
          ],
          [
           "desert blues"
          ],
          [
           "desi hip hop"
          ],
          [
           "desi pop"
          ],
          [
           "destroy techno"
          ],
          [
           "detroit hip hop"
          ],
          [
           "detroit house"
          ],
          [
           "detroit techno"
          ],
          [
           "detroit trap"
          ],
          [
           "detske pisnicky"
          ],
          [
           "detskie pesni"
          ],
          [
           "devon indie"
          ],
          [
           "dfw rap"
          ],
          [
           "dhrupad"
          ],
          [
           "digital hardcore"
          ],
          [
           "dinner jazz"
          ],
          [
           "dirty south rap"
          ],
          [
           "dirty texas rap"
          ],
          [
           "disco"
          ],
          [
           "disco house"
          ],
          [
           "disney"
          ],
          [
           "diva house"
          ],
          [
           "dixieland"
          ],
          [
           "diy emo"
          ],
          [
           "djent"
          ],
          [
           "dmv rap"
          ],
          [
           "dominican pop"
          ],
          [
           "dong-yo"
          ],
          [
           "doo-wop"
          ],
          [
           "doom metal"
          ],
          [
           "double drumming"
          ],
          [
           "downtempo"
          ],
          [
           "drama"
          ],
          [
           "dream pop"
          ],
          [
           "dream trance"
          ],
          [
           "dreamgaze"
          ],
          [
           "dreamo"
          ],
          [
           "drift"
          ],
          [
           "drill"
          ],
          [
           "drill and bass"
          ],
          [
           "drone"
          ],
          [
           "drone folk"
          ],
          [
           "drone metal"
          ],
          [
           "drum and bass"
          ],
          [
           "dub"
          ],
          [
           "dub metal"
          ],
          [
           "dub poetry"
          ],
          [
           "dub techno"
          ],
          [
           "dubstep"
          ],
          [
           "dubsteppe"
          ],
          [
           "duduk"
          ],
          [
           "duluth indie"
          ],
          [
           "dunedin indie"
          ],
          [
           "dunedin sound"
          ],
          [
           "dungeon synth"
          ],
          [
           "duranguense"
          ],
          [
           "dusseldorf electronic"
          ],
          [
           "dutch blues"
          ],
          [
           "dutch cabaret"
          ],
          [
           "dutch classical piano"
          ],
          [
           "dutch death metal"
          ],
          [
           "dutch dnb"
          ],
          [
           "dutch edm"
          ],
          [
           "dutch folk"
          ],
          [
           "dutch hip hop"
          ],
          [
           "dutch house"
          ],
          [
           "dutch indie"
          ],
          [
           "dutch jazz"
          ],
          [
           "dutch metal"
          ],
          [
           "dutch pop"
          ],
          [
           "dutch prog"
          ],
          [
           "dutch rap pop"
          ],
          [
           "dutch rock"
          ],
          [
           "dutch trance"
          ],
          [
           "e6fi"
          ],
          [
           "early american folk"
          ],
          [
           "early avant garde"
          ],
          [
           "early modern classical"
          ],
          [
           "early music"
          ],
          [
           "early music choir"
          ],
          [
           "early music ensemble"
          ],
          [
           "early reggae"
          ],
          [
           "early romantic era"
          ],
          [
           "early synthpop"
          ],
          [
           "early us punk"
          ],
          [
           "east coast hip hop"
          ],
          [
           "east coast reggae"
          ],
          [
           "eastern bloc groove"
          ],
          [
           "easy listening"
          ],
          [
           "easycore"
          ],
          [
           "eau claire indie"
          ],
          [
           "ebm"
          ],
          [
           "ecm-style jazz"
          ],
          [
           "ectofolk"
          ],
          [
           "ecuadorian pop"
          ],
          [
           "edm"
          ],
          [
           "edmonton indie"
          ],
          [
           "egyptian pop"
          ],
          [
           "egyptian traditional"
          ],
          [
           "el paso indie"
          ],
          [
           "electra"
          ],
          [
           "electric bass"
          ],
          [
           "electric blues"
          ],
          [
           "electro"
          ],
          [
           "electro house"
          ],
          [
           "electro jazz"
          ],
          [
           "electro latino"
          ],
          [
           "electro swing"
          ],
          [
           "electro-industrial"
          ],
          [
           "electro-pop francais"
          ],
          [
           "electroclash"
          ],
          [
           "electrofox"
          ],
          [
           "electronic djent"
          ],
          [
           "electronic rock"
          ],
          [
           "electronic trap"
          ],
          [
           "electronica"
          ],
          [
           "electronica argentina"
          ],
          [
           "electropop"
          ],
          [
           "electropowerpop"
          ],
          [
           "emo"
          ],
          [
           "emo mexicano"
          ],
          [
           "emo punk"
          ],
          [
           "emo rap"
          ],
          [
           "emocore"
          ],
          [
           "english baroque"
          ],
          [
           "english indie rock"
          ],
          [
           "english renaissance"
          ],
          [
           "enka"
          ],
          [
           "entehno"
          ],
          [
           "environmental"
          ],
          [
           "epic doom"
          ],
          [
           "epicore"
          ],
          [
           "erhu"
          ],
          [
           "escape room"
          ],
          [
           "esperanto"
          ],
          [
           "essex indie"
          ],
          [
           "estonian hip hop"
          ],
          [
           "estonian pop"
          ],
          [
           "ethereal wave"
          ],
          [
           "etherpop"
          ],
          [
           "ethio-jazz"
          ],
          [
           "ethiopian pop"
          ],
          [
           "ethnomusicology"
          ],
          [
           "ethnotronica"
          ],
          [
           "eugene indie"
          ],
          [
           "euphoric hardstyle"
          ],
          [
           "eurobeat"
          ],
          [
           "eurodance"
          ],
          [
           "europop"
          ],
          [
           "euroska"
          ],
          [
           "eurovision"
          ],
          [
           "exotica"
          ],
          [
           "experimental"
          ],
          [
           "experimental ambient"
          ],
          [
           "experimental big band"
          ],
          [
           "experimental dub"
          ],
          [
           "experimental folk"
          ],
          [
           "experimental guitar"
          ],
          [
           "experimental hip hop"
          ],
          [
           "experimental house"
          ],
          [
           "experimental indie"
          ],
          [
           "experimental jazz"
          ],
          [
           "experimental pop"
          ],
          [
           "experimental rock"
          ],
          [
           "experimental vocal"
          ],
          [
           "fado"
          ],
          [
           "family gospel"
          ],
          [
           "faroese pop"
          ],
          [
           "fast melodic punk"
          ],
          [
           "fidget house"
          ],
          [
           "filmi"
          ],
          [
           "filter house"
          ],
          [
           "filthstep"
          ],
          [
           "final fantasy"
          ],
          [
           "fingerstyle"
          ],
          [
           "finnish alternative rock"
          ],
          [
           "finnish classical"
          ],
          [
           "finnish contemporary classical"
          ],
          [
           "finnish death metal"
          ],
          [
           "finnish edm"
          ],
          [
           "finnish hard rock"
          ],
          [
           "finnish heavy metal"
          ],
          [
           "finnish metal"
          ],
          [
           "finnish power metal"
          ],
          [
           "finnish soul"
          ],
          [
           "flamenco"
          ],
          [
           "flamenco guitar"
          ],
          [
           "flick hop"
          ],
          [
           "flint hip hop"
          ],
          [
           "float house"
          ],
          [
           "florida death metal"
          ],
          [
           "florida rap"
          ],
          [
           "fluxwork"
          ],
          [
           "fo jing"
          ],
          [
           "focus"
          ],
          [
           "focus beats"
          ],
          [
           "focus trance"
          ],
          [
           "folclor afrocolombiano"
          ],
          [
           "folclor colombiano"
          ],
          [
           "folclore extremeno"
          ],
          [
           "folclore jujeno"
          ],
          [
           "folclore navarra"
          ],
          [
           "folclore salteno"
          ],
          [
           "folclore tucumano"
          ],
          [
           "folk"
          ],
          [
           "folk metal"
          ],
          [
           "folk punk"
          ],
          [
           "folk rock"
          ],
          [
           "folk rock italiano"
          ],
          [
           "folk-pop"
          ],
          [
           "folklore argentino"
          ],
          [
           "folklore boliviano"
          ],
          [
           "folklore chileno"
          ],
          [
           "folklore ecuatoriano"
          ],
          [
           "folklore peruano"
          ],
          [
           "folklore venezolano"
          ],
          [
           "folklore veracruzano"
          ],
          [
           "folkmusik"
          ],
          [
           "folktronica"
          ],
          [
           "footwork"
          ],
          [
           "forro"
          ],
          [
           "forro tradicional"
          ],
          [
           "fort worth indie"
          ],
          [
           "fourth world"
          ],
          [
           "francoton"
          ],
          [
           "freak folk"
          ],
          [
           "freakbeat"
          ],
          [
           "free folk"
          ],
          [
           "free improvisation"
          ],
          [
           "free jazz"
          ],
          [
           "freestyle"
          ],
          [
           "french baroque"
          ],
          [
           "french classical piano"
          ],
          [
           "french contemporary classical"
          ],
          [
           "french death metal"
          ],
          [
           "french dnb"
          ],
          [
           "french hip hop"
          ],
          [
           "french indie folk"
          ],
          [
           "french indie pop"
          ],
          [
           "french indietronica"
          ],
          [
           "french jazz"
          ],
          [
           "french metal"
          ],
          [
           "french movie tunes"
          ],
          [
           "french opera"
          ],
          [
           "french orchestra"
          ],
          [
           "french pop"
          ],
          [
           "french post-punk"
          ],
          [
           "french psychedelic"
          ],
          [
           "french reggae"
          ],
          [
           "french rock"
          ],
          [
           "french romanticism"
          ],
          [
           "french shoegaze"
          ],
          [
           "french soundtrack"
          ],
          [
           "french synthpop"
          ],
          [
           "french techno"
          ],
          [
           "frenchcore"
          ],
          [
           "full on"
          ],
          [
           "funana"
          ],
          [
           "funeral doom"
          ],
          [
           "funk"
          ],
          [
           "funk 150 bpm"
          ],
          [
           "funk carioca"
          ],
          [
           "funk das antigas"
          ],
          [
           "funk metal"
          ],
          [
           "funk mexicano"
          ],
          [
           "funk ostentacao"
          ],
          [
           "funk paulista"
          ],
          [
           "funk pop"
          ],
          [
           "funk rock"
          ],
          [
           "funky breaks"
          ],
          [
           "funky tech house"
          ],
          [
           "future bass"
          ],
          [
           "future funk"
          ],
          [
           "future garage"
          ],
          [
           "future house"
          ],
          [
           "future rock"
          ],
          [
           "futurepop"
          ],
          [
           "g funk"
          ],
          [
           "gabba"
          ],
          [
           "gabonese pop"
          ],
          [
           "gaian doom"
          ],
          [
           "gainesville indie"
          ],
          [
           "gaita zuliana"
          ],
          [
           "galante era"
          ],
          [
           "gamelan"
          ],
          [
           "gaming dubstep"
          ],
          [
           "gaming edm"
          ],
          [
           "gangster rap"
          ],
          [
           "garage house"
          ],
          [
           "garage pop"
          ],
          [
           "garage psych"
          ],
          [
           "garage punk"
          ],
          [
           "garage punk blues"
          ],
          [
           "garage rock"
          ],
          [
           "garage rock revival"
          ],
          [
           "gauze pop"
          ],
          [
           "gbvfi"
          ],
          [
           "geek folk"
          ],
          [
           "geek rock"
          ],
          [
           "georgian folk"
          ],
          [
           "german alternative rock"
          ],
          [
           "german baroque"
          ],
          [
           "german choir"
          ],
          [
           "german classical piano"
          ],
          [
           "german country"
          ],
          [
           "german dance"
          ],
          [
           "german hard rock"
          ],
          [
           "german heavy metal"
          ],
          [
           "german house"
          ],
          [
           "german indie"
          ],
          [
           "german jazz"
          ],
          [
           "german literature"
          ],
          [
           "german metal"
          ],
          [
           "german oi"
          ],
          [
           "german opera"
          ],
          [
           "german orchestra"
          ],
          [
           "german pop"
          ],
          [
           "german pop rock"
          ],
          [
           "german post-hardcore"
          ],
          [
           "german power metal"
          ],
          [
           "german punk"
          ],
          [
           "german renaissance"
          ],
          [
           "german rock"
          ],
          [
           "german romanticism"
          ],
          [
           "german show tunes"
          ],
          [
           "german soundtrack"
          ],
          [
           "german techno"
          ],
          [
           "german thrash metal"
          ],
          [
           "german trance"
          ],
          [
           "german underground rap"
          ],
          [
           "ghanaian hip hop"
          ],
          [
           "ghanaian traditional"
          ],
          [
           "ghazal"
          ],
          [
           "ghent indie"
          ],
          [
           "girl group"
          ],
          [
           "glam metal"
          ],
          [
           "glam punk"
          ],
          [
           "glam rock"
          ],
          [
           "glee club"
          ],
          [
           "glitch"
          ],
          [
           "glitch hop"
          ],
          [
           "glitch pop"
          ],
          [
           "glitchcore"
          ],
          [
           "go-go"
          ],
          [
           "goregrind"
          ],
          [
           "gospel"
          ],
          [
           "gospel antigas"
          ],
          [
           "gospel blues"
          ],
          [
           "gospel italiano"
          ],
          [
           "gospel r&b"
          ],
          [
           "gospel rap"
          ],
          [
           "gospel singers"
          ],
          [
           "gospel soul"
          ],
          [
           "gothabilly"
          ],
          [
           "gothenburg indie"
          ],
          [
           "gothenburg metal"
          ],
          [
           "gothic alternative"
          ],
          [
           "gothic americana"
          ],
          [
           "gothic black metal"
          ],
          [
           "gothic metal"
          ],
          [
           "gothic post-punk"
          ],
          [
           "gothic rock"
          ],
          [
           "gothic symphonic metal"
          ],
          [
           "gqom"
          ],
          [
           "grand rapids indie"
          ],
          [
           "grave wave"
          ],
          [
           "greek clarinet"
          ],
          [
           "greek contemporary classical"
          ],
          [
           "greek folk"
          ],
          [
           "greek guitar"
          ],
          [
           "greek house"
          ],
          [
           "greek jazz"
          ],
          [
           "greek pop"
          ],
          [
           "greek swing"
          ],
          [
           "gregorian chant"
          ],
          [
           "grime"
          ],
          [
           "grindcore"
          ],
          [
           "griot"
          ],
          [
           "groove metal"
          ],
          [
           "groove room"
          ],
          [
           "grunge"
          ],
          [
           "grunge pop"
          ],
          [
           "grupera"
          ],
          [
           "gruperas inmortales"
          ],
          [
           "guadalajara indie"
          ],
          [
           "guam indie"
          ],
          [
           "guaracha"
          ],
          [
           "guatemalan pop"
          ],
          [
           "guidance"
          ],
          [
           "guinean pop"
          ],
          [
           "guitarra argentina"
          ],
          [
           "guitarra clasica"
          ],
          [
           "guitarra portuguesa"
          ],
          [
           "gujarati garba"
          ],
          [
           "gujarati pop"
          ],
          [
           "guzheng"
          ],
          [
           "gymcore"
          ],
          [
           "gypsy"
          ],
          [
           "gypsy jazz"
          ],
          [
           "gypsy punk"
          ],
          [
           "haitian traditional"
          ],
          [
           "halifax indie"
          ],
          [
           "halloween"
          ],
          [
           "hamburg electronic"
          ],
          [
           "hammered dulcimer"
          ],
          [
           "hammond organ"
          ],
          [
           "hands up"
          ],
          [
           "hangpan"
          ],
          [
           "happy hardcore"
          ],
          [
           "hard alternative"
          ],
          [
           "hard bop"
          ],
          [
           "hard minimal techno"
          ],
          [
           "hard rock"
          ],
          [
           "hard rock brasileiro"
          ],
          [
           "hardcore"
          ],
          [
           "hardcore hip hop"
          ],
          [
           "hardcore punk"
          ],
          [
           "hardcore techno"
          ],
          [
           "hardstyle"
          ],
          [
           "harlem hip hop"
          ],
          [
           "harlem renaissance"
          ],
          [
           "harmonica blues"
          ],
          [
           "harmonica jazz"
          ],
          [
           "harp"
          ],
          [
           "harpsichord"
          ],
          [
           "haryanvi pop"
          ],
          [
           "hauntology"
          ],
          [
           "hawaiian"
          ],
          [
           "hawaiian hip hop"
          ],
          [
           "hawaiian indie"
          ],
          [
           "healing"
          ],
          [
           "heartland rock"
          ],
          [
           "hi-nrg"
          ],
          [
           "highlife"
          ],
          [
           "hindi hip hop"
          ],
          [
           "hindi indie"
          ],
          [
           "hindustani classical"
          ],
          [
           "hindustani instrumental"
          ],
          [
           "hindustani vocal"
          ],
          [
           "hip hop"
          ],
          [
           "hip hop cubano"
          ],
          [
           "hip house"
          ],
          [
           "hip pop"
          ],
          [
           "hiplife"
          ],
          [
           "histoire pour enfants"
          ],
          [
           "historic classical performance"
          ],
          [
           "historic orchestral performance"
          ],
          [
           "historic piano performance"
          ],
          [
           "historic string quartet"
          ],
          [
           "historical keyboard"
          ],
          [
           "historically informed performance"
          ],
          [
           "hoerspiel"
          ],
          [
           "hokkien pop"
          ],
          [
           "hollywood"
          ],
          [
           "hong kong hip hop"
          ],
          [
           "hong kong indie"
          ],
          [
           "hong kong rock"
          ],
          [
           "honky tonk"
          ],
          [
           "honky-tonk piano"
          ],
          [
           "hopebeat"
          ],
          [
           "horror punk"
          ],
          [
           "horror synth"
          ],
          [
           "horrorcore"
          ],
          [
           "house"
          ],
          [
           "houston rap"
          ],
          [
           "huapango"
          ],
          [
           "huayno"
          ],
          [
           "hula"
          ],
          [
           "humppa"
          ],
          [
           "hungarian choir"
          ],
          [
           "hungarian classical performance"
          ],
          [
           "hungarian classical piano"
          ],
          [
           "hungarian contemporary classical"
          ],
          [
           "hungarian edm"
          ],
          [
           "hungarian folk"
          ],
          [
           "hungarian pop"
          ],
          [
           "hungarian rock"
          ],
          [
           "hungarian techno"
          ],
          [
           "hurdy-gurdy"
          ],
          [
           "hyperpop"
          ],
          [
           "hyphy"
          ],
          [
           "icelandic classical"
          ],
          [
           "icelandic electronic"
          ],
          [
           "icelandic experimental"
          ],
          [
           "icelandic folk"
          ],
          [
           "icelandic indie"
          ],
          [
           "icelandic jazz"
          ],
          [
           "icelandic pop"
          ],
          [
           "icelandic rock"
          ],
          [
           "idaho indie"
          ],
          [
           "idol"
          ],
          [
           "idol rock"
          ],
          [
           "ilahiler"
          ],
          [
           "ilocano pop"
          ],
          [
           "impressionism"
          ],
          [
           "indian classical"
          ],
          [
           "indian edm"
          ],
          [
           "indian folk"
          ],
          [
           "indian fusion"
          ],
          [
           "indian indie"
          ],
          [
           "indian instrumental"
          ],
          [
           "indian jazz"
          ],
          [
           "indiana hip hop"
          ],
          [
           "indie anthem-folk"
          ],
          [
           "indie cafe pop"
          ],
          [
           "indie deutschrap"
          ],
          [
           "indie dream pop"
          ],
          [
           "indie electronica"
          ],
          [
           "indie electropop"
          ],
          [
           "indie folk"
          ],
          [
           "indie game soundtrack"
          ],
          [
           "indie garage rock"
          ],
          [
           "indie hip hop"
          ],
          [
           "indie jazz"
          ],
          [
           "indie pop"
          ],
          [
           "indie pop rap"
          ],
          [
           "indie poptimism"
          ],
          [
           "indie psych-pop"
          ],
          [
           "indie punk"
          ],
          [
           "indie quebecois"
          ],
          [
           "indie r&b"
          ],
          [
           "indie rock"
          ],
          [
           "indie rock mexicano"
          ],
          [
           "indie rockism"
          ],
          [
           "indie shoegaze"
          ],
          [
           "indie singer-songwriter"
          ],
          [
           "indie soul"
          ],
          [
           "indie surf"
          ],
          [
           "indie triste"
          ],
          [
           "indiecoustica"
          ],
          [
           "indietronica"
          ],
          [
           "indonesian hip hop"
          ],
          [
           "indonesian indie"
          ],
          [
           "indonesian pop"
          ],
          [
           "indonesian r&b"
          ],
          [
           "indonesian worship"
          ],
          [
           "industrial"
          ],
          [
           "industrial hardcore"
          ],
          [
           "industrial hip hop"
          ],
          [
           "industrial metal"
          ],
          [
           "industrial rock"
          ],
          [
           "indy indie"
          ],
          [
           "instrumental acoustic guitar"
          ],
          [
           "instrumental bluegrass"
          ],
          [
           "instrumental funk"
          ],
          [
           "instrumental grime"
          ],
          [
           "instrumental math rock"
          ],
          [
           "instrumental post-rock"
          ],
          [
           "instrumental progressive metal"
          ],
          [
           "instrumental rock"
          ],
          [
           "instrumental soul"
          ],
          [
           "instrumental stoner rock"
          ],
          [
           "instrumental surf"
          ],
          [
           "intelligent dance music"
          ],
          [
           "iowa hip hop"
          ],
          [
           "irish accordion"
          ],
          [
           "irish ballad"
          ],
          [
           "irish banjo"
          ],
          [
           "irish classical"
          ],
          [
           "irish country"
          ],
          [
           "irish dance"
          ],
          [
           "irish fiddle"
          ],
          [
           "irish folk"
          ],
          [
           "irish hip hop"
          ],
          [
           "irish indie"
          ],
          [
           "irish metal"
          ],
          [
           "irish pop"
          ],
          [
           "irish pub song"
          ],
          [
           "irish rock"
          ],
          [
           "irish singer-songwriter"
          ],
          [
           "iskelma"
          ],
          [
           "islamic recitation"
          ],
          [
           "isle of wight indie"
          ],
          [
           "israeli classical"
          ],
          [
           "israeli classical piano"
          ],
          [
           "israeli folk"
          ],
          [
           "israeli hip hop"
          ],
          [
           "israeli mediterranean"
          ],
          [
           "israeli pop"
          ],
          [
           "israeli rock"
          ],
          [
           "israeli singer-songwriter"
          ],
          [
           "israeli techno"
          ],
          [
           "italian adult pop"
          ],
          [
           "italian baritone"
          ],
          [
           "italian baroque"
          ],
          [
           "italian baroque ensemble"
          ],
          [
           "italian bass"
          ],
          [
           "italian blues"
          ],
          [
           "italian classical guitar"
          ],
          [
           "italian classical piano"
          ],
          [
           "italian contemporary jazz"
          ],
          [
           "italian disco"
          ],
          [
           "italian gothic"
          ],
          [
           "italian gothic metal"
          ],
          [
           "italian indie pop"
          ],
          [
           "italian jazz"
          ],
          [
           "italian library music"
          ],
          [
           "italian mandolin"
          ],
          [
           "italian metal"
          ],
          [
           "italian mezzo-soprano"
          ],
          [
           "italian modern prog"
          ],
          [
           "italian opera"
          ],
          [
           "italian orchestra"
          ],
          [
           "italian pop rock"
          ],
          [
           "italian power metal"
          ],
          [
           "italian progressive metal"
          ],
          [
           "italian progressive rock"
          ],
          [
           "italian renaissance"
          ],
          [
           "italian romanticism"
          ],
          [
           "italian soprano"
          ],
          [
           "italian soundtrack"
          ],
          [
           "italian techno"
          ],
          [
           "italian tenor"
          ],
          [
           "italian violin"
          ],
          [
           "italo dance"
          ],
          [
           "italo house"
          ],
          [
           "j-acoustic"
          ],
          [
           "j-ambient"
          ],
          [
           "j-dance"
          ],
          [
           "j-division"
          ],
          [
           "j-idol"
          ],
          [
           "j-metal"
          ],
          [
           "j-pixie"
          ],
          [
           "j-pop"
          ],
          [
           "j-pop girl group"
          ],
          [
           "j-poprock"
          ],
          [
           "j-punk"
          ],
          [
           "j-reggae"
          ],
          [
           "j-rock"
          ],
          [
           "jacksonville indie"
          ],
          [
           "jam band"
          ],
          [
           "jamgrass"
          ],
          [
           "jamtronica"
          ],
          [
           "jangle pop"
          ],
          [
           "japanese alternative rock"
          ],
          [
           "japanese chillhop"
          ],
          [
           "japanese city pop"
          ],
          [
           "japanese classical"
          ],
          [
           "japanese classical performance"
          ],
          [
           "japanese classical piano"
          ],
          [
           "japanese concert band"
          ],
          [
           "japanese dream pop"
          ],
          [
           "japanese electronic"
          ],
          [
           "japanese electropop"
          ],
          [
           "japanese emo"
          ],
          [
           "japanese experimental"
          ],
          [
           "japanese folk"
          ],
          [
           "japanese garage rock"
          ],
          [
           "japanese girl punk"
          ],
          [
           "japanese heavy metal"
          ],
          [
           "japanese idm"
          ],
          [
           "japanese indie folk"
          ],
          [
           "japanese indie rock"
          ],
          [
           "japanese instrumental"
          ],
          [
           "japanese jazz"
          ],
          [
           "japanese jazz fusion"
          ],
          [
           "japanese jazztronica"
          ],
          [
           "japanese metalcore"
          ],
          [
           "japanese new wave"
          ],
          [
           "japanese piano"
          ],
          [
           "japanese pop punk"
          ],
          [
           "japanese post-hardcore"
          ],
          [
           "japanese power metal"
          ],
          [
           "japanese prog"
          ],
          [
           "japanese psychedelic"
          ],
          [
           "japanese punk rock"
          ],
          [
           "japanese r&b"
          ],
          [
           "japanese rockabilly"
          ],
          [
           "japanese singer-songwriter"
          ],
          [
           "japanese soundtrack"
          ],
          [
           "japanese traditional"
          ],
          [
           "japanese vgm"
          ],
          [
           "japanese vocal jazz"
          ],
          [
           "jawaiian"
          ],
          [
           "jazz"
          ],
          [
           "jazz accordion"
          ],
          [
           "jazz blues"
          ],
          [
           "jazz boom bap"
          ],
          [
           "jazz brass"
          ],
          [
           "jazz chileno"
          ],
          [
           "jazz clarinet"
          ],
          [
           "jazz colombiano"
          ],
          [
           "jazz cubano"
          ],
          [
           "jazz double bass"
          ],
          [
           "jazz drums"
          ],
          [
           "jazz flute"
          ],
          [
           "jazz funk"
          ],
          [
           "jazz fusion"
          ],
          [
           "jazz guitar"
          ],
          [
           "jazz harp"
          ],
          [
           "jazz metal"
          ],
          [
           "jazz mexicano"
          ],
          [
           "jazz orchestra"
          ],
          [
           "jazz organ"
          ],
          [
           "jazz piano"
          ],
          [
           "jazz pop"
          ],
          [
           "jazz quartet"
          ],
          [
           "jazz rap"
          ],
          [
           "jazz rock"
          ],
          [
           "jazz saxophone"
          ],
          [
           "jazz trio"
          ],
          [
           "jazz trombone"
          ],
          [
           "jazz trumpet"
          ],
          [
           "jazz tuba"
          ],
          [
           "jazz venezolano"
          ],
          [
           "jazz vibraphone"
          ],
          [
           "jazz violin"
          ],
          [
           "jazztronica"
          ],
          [
           "jewish cantorial"
          ],
          [
           "jewish hip hop"
          ],
          [
           "jig and reel"
          ],
          [
           "jordanian pop"
          ],
          [
           "joropo"
          ],
          [
           "jovem guarda"
          ],
          [
           "jug band"
          ],
          [
           "juju"
          ],
          [
           "jump blues"
          ],
          [
           "jump up"
          ],
          [
           "k-indie"
          ],
          [
           "k-pop"
          ],
          [
           "k-pop boy group"
          ],
          [
           "k-pop girl group"
          ],
          [
           "k-rap"
          ],
          [
           "kabarett"
          ],
          [
           "kabyle"
          ],
          [
           "kaneka"
          ],
          [
           "kannada bhava geethe"
          ],
          [
           "kansas city hip hop"
          ],
          [
           "kashmiri pop"
          ],
          [
           "kawaii future bass"
          ],
          [
           "kawaii metal"
          ],
          [
           "kayokyoku"
          ],
          [
           "kc indie"
          ],
          [
           "kent indie"
          ],
          [
           "kentucky hip hop"
          ],
          [
           "kentucky indie"
          ],
          [
           "kentucky metal"
          ],
          [
           "kentucky mountain folk"
          ],
          [
           "kentucky punk"
          ],
          [
           "kentucky roots"
          ],
          [
           "keroncong"
          ],
          [
           "khaleeji iraqi"
          ],
          [
           "khmer"
          ],
          [
           "kids dance party"
          ],
          [
           "kindie rock"
          ],
          [
           "kingston on indie"
          ],
          [
           "kirtan"
          ],
          [
           "kiwi rock"
          ],
          [
           "kizomba antigas"
          ],
          [
           "kleine hoerspiel"
          ],
          [
           "klezmer"
          ],
          [
           "knoxville indie"
          ],
          [
           "kodomo no ongaku"
          ],
          [
           "kolsche karneval"
          ],
          [
           "komedi"
          ],
          [
           "kompa"
          ],
          [
           "kora"
          ],
          [
           "korean classical performance"
          ],
          [
           "korean classical piano"
          ],
          [
           "korean indie rock"
          ],
          [
           "korean mask singer"
          ],
          [
           "korean pop"
          ],
          [
           "korean r&b"
          ],
          [
           "korean trap"
          ],
          [
           "koto"
          ],
          [
           "krautrock"
          ],
          [
           "kundiman"
          ],
          [
           "la indie"
          ],
          [
           "la pop"
          ],
          [
           "laboratorio"
          ],
          [
           "lafayette indie"
          ],
          [
           "laiko"
          ],
          [
           "lancashire indie"
          ],
          [
           "lancaster pa indie"
          ],
          [
           "late romantic era"
          ],
          [
           "latin"
          ],
          [
           "latin afrobeat"
          ],
          [
           "latin alternative"
          ],
          [
           "latin american classical piano"
          ],
          [
           "latin arena pop"
          ],
          [
           "latin christian"
          ],
          [
           "latin classical"
          ],
          [
           "latin funk"
          ],
          [
           "latin hip hop"
          ],
          [
           "latin house"
          ],
          [
           "latin jazz"
          ],
          [
           "latin metal"
          ],
          [
           "latin pop"
          ],
          [
           "latin rock"
          ],
          [
           "latin ska"
          ],
          [
           "latin soundtrack"
          ],
          [
           "latin talent show"
          ],
          [
           "latin tech house"
          ],
          [
           "latin viral pop"
          ],
          [
           "latin worship"
          ],
          [
           "latincore"
          ],
          [
           "latino comedy"
          ],
          [
           "latintronica"
          ],
          [
           "latinx alternative"
          ],
          [
           "latvian pop"
          ],
          [
           "lds"
          ],
          [
           "lds youth"
          ],
          [
           "lebanese pop"
          ],
          [
           "leicester indie"
          ],
          [
           "lexington ky indie"
          ],
          [
           "lgbtq+ hip hop"
          ],
          [
           "library music"
          ],
          [
           "liedermacher"
          ],
          [
           "light music"
          ],
          [
           "lilith"
          ],
          [
           "liquid funk"
          ],
          [
           "lithuanian electronic"
          ],
          [
           "liverpool indie"
          ],
          [
           "livetronica"
          ],
          [
           "lldm"
          ],
          [
           "lo star"
          ],
          [
           "lo-fi"
          ],
          [
           "lo-fi beats"
          ],
          [
           "lo-fi brasileiro"
          ],
          [
           "lo-fi chill"
          ],
          [
           "lo-fi cover"
          ],
          [
           "lo-fi emo"
          ],
          [
           "lo-fi house"
          ],
          [
           "lo-fi indie"
          ],
          [
           "lo-fi vgm"
          ],
          [
           "london rap"
          ],
          [
           "louisiana blues"
          ],
          [
           "louisiana metal"
          ],
          [
           "louisville indie"
          ],
          [
           "louisville underground"
          ],
          [
           "lounge"
          ],
          [
           "louvor"
          ],
          [
           "lovers rock"
          ],
          [
           "lullaby"
          ],
          [
           "lund indie"
          ],
          [
           "lute"
          ],
          [
           "macedonian folk"
          ],
          [
           "madchester"
          ],
          [
           "madrigal"
          ],
          [
           "magyar alternative"
          ],
          [
           "maine hip hop"
          ],
          [
           "maine indie"
          ],
          [
           "mainland chinese pop"
          ],
          [
           "makossa"
          ],
          [
           "malaysian mandopop"
          ],
          [
           "malaysian pop"
          ],
          [
           "malian blues"
          ],
          [
           "mallet"
          ],
          [
           "malmo indie"
          ],
          [
           "mambo"
          ],
          [
           "manchester hip hop"
          ],
          [
           "manchester indie"
          ],
          [
           "mande pop"
          ],
          [
           "mandolin"
          ],
          [
           "mandopop"
          ],
          [
           "manguebeat"
          ],
          [
           "manila sound"
          ],
          [
           "manitoba indie"
          ],
          [
           "mantra"
          ],
          [
           "marathi pop"
          ],
          [
           "marathi traditional"
          ],
          [
           "marching band"
          ],
          [
           "mariachi"
          ],
          [
           "mariachi cristiano"
          ],
          [
           "marimba orquesta"
          ],
          [
           "martial industrial"
          ],
          [
           "mashup"
          ],
          [
           "math rock"
          ],
          [
           "mathcore"
          ],
          [
           "mbalax"
          ],
          [
           "medieval"
          ],
          [
           "medieval folk"
          ],
          [
           "medieval rock"
          ],
          [
           "meditation"
          ],
          [
           "melancholia"
          ],
          [
           "melbourne bounce"
          ],
          [
           "melbourne bounce international"
          ],
          [
           "melbourne indie"
          ],
          [
           "mellow gold"
          ],
          [
           "melodic death metal"
          ],
          [
           "melodic deathcore"
          ],
          [
           "melodic dubstep"
          ],
          [
           "melodic groove metal"
          ],
          [
           "melodic hard rock"
          ],
          [
           "melodic hardcore"
          ],
          [
           "melodic metal"
          ],
          [
           "melodic metalcore"
          ],
          [
           "melodic power metal"
          ],
          [
           "melodic rap"
          ],
          [
           "melodic thrash"
          ],
          [
           "meme rap"
          ],
          [
           "memphis americana"
          ],
          [
           "memphis blues"
          ],
          [
           "memphis hip hop"
          ],
          [
           "memphis indie"
          ],
          [
           "memphis soul"
          ],
          [
           "mento"
          ],
          [
           "merengue"
          ],
          [
           "merengue tipico"
          ],
          [
           "merseybeat"
          ],
          [
           "messianic praise"
          ],
          [
           "metal"
          ],
          [
           "metal guitar"
          ],
          [
           "metal mineiro"
          ],
          [
           "metalcore"
          ],
          [
           "metropopolis"
          ],
          [
           "mexican classic rock"
          ],
          [
           "mexican classical"
          ],
          [
           "mexican hip hop"
          ],
          [
           "mexican indie"
          ],
          [
           "mexican pop"
          ],
          [
           "mexican pop punk"
          ],
          [
           "mexican rock"
          ],
          [
           "mexican rock-and-roll"
          ],
          [
           "mexican son"
          ],
          [
           "mexican traditional"
          ],
          [
           "miami bass"
          ],
          [
           "miami hip hop"
          ],
          [
           "miami indie"
          ],
          [
           "miami metal"
          ],
          [
           "michigan indie"
          ],
          [
           "microhouse"
          ],
          [
           "microtonal"
          ],
          [
           "middle earth"
          ],
          [
           "middle east hip hop"
          ],
          [
           "middle eastern traditional"
          ],
          [
           "midwest americana"
          ],
          [
           "midwest emo"
          ],
          [
           "military cadence"
          ],
          [
           "military rap"
          ],
          [
           "milwaukee indie"
          ],
          [
           "mindfulness"
          ],
          [
           "minecraft"
          ],
          [
           "minimal melodic techno"
          ],
          [
           "minimal tech house"
          ],
          [
           "minimal techno"
          ],
          [
           "minimal wave"
          ],
          [
           "minimalism"
          ],
          [
           "minneapolis indie"
          ],
          [
           "minneapolis metal"
          ],
          [
           "minneapolis punk"
          ],
          [
           "minneapolis sound"
          ],
          [
           "minnesota hip hop"
          ],
          [
           "mississippi hip hop"
          ],
          [
           "mississippi indie"
          ],
          [
           "mizrahi"
          ],
          [
           "mod revival"
          ],
          [
           "modern alternative pop"
          ],
          [
           "modern alternative rock"
          ],
          [
           "modern big band"
          ],
          [
           "modern blues"
          ],
          [
           "modern blues rock"
          ],
          [
           "modern bollywood"
          ],
          [
           "modern country rock"
          ],
          [
           "modern dream pop"
          ],
          [
           "modern folk rock"
          ],
          [
           "modern funk"
          ],
          [
           "modern hard rock"
          ],
          [
           "modern indie pop"
          ],
          [
           "modern jazz piano"
          ],
          [
           "modern jazz trio"
          ],
          [
           "modern old-time"
          ],
          [
           "modern performance"
          ],
          [
           "modern power pop"
          ],
          [
           "modern psychedelic folk"
          ],
          [
           "modern reggae"
          ],
          [
           "modern rock"
          ],
          [
           "modern salsa"
          ],
          [
           "modern ska punk"
          ],
          [
           "modern southern rock"
          ],
          [
           "modern string quartet"
          ],
          [
           "modern swing"
          ],
          [
           "modern uplift"
          ],
          [
           "modular synth"
          ],
          [
           "moldovan pop"
          ],
          [
           "mollywood"
          ],
          [
           "mongolian hip hop"
          ],
          [
           "mongolian pop"
          ],
          [
           "monterrey indie"
          ],
          [
           "montreal indie"
          ],
          [
           "moog"
          ],
          [
           "moombahton"
          ],
          [
           "morna"
          ],
          [
           "motivation"
          ],
          [
           "motown"
          ],
          [
           "mountain dulcimer"
          ],
          [
           "movie tunes"
          ],
          [
           "mpb"
          ],
          [
           "music box"
          ],
          [
           "music hall"
          ],
          [
           "musica afroperuana"
          ],
          [
           "musica alagoana"
          ],
          [
           "musica andina"
          ],
          [
           "musica andina colombiana"
          ],
          [
           "musica antigua"
          ],
          [
           "musica aragonesa"
          ],
          [
           "musica ayacuchana"
          ],
          [
           "musica canaria"
          ],
          [
           "musica costarricense"
          ],
          [
           "musica costena"
          ],
          [
           "musica cristiana guatemalteca"
          ],
          [
           "musica de fondo"
          ],
          [
           "musica gaucha tradicionalista"
          ],
          [
           "musica hondurena"
          ],
          [
           "musica infantil"
          ],
          [
           "musica jibara"
          ],
          [
           "musica juiz-forana"
          ],
          [
           "musica llanera"
          ],
          [
           "musica nicaraguense"
          ],
          [
           "musica para criancas"
          ],
          [
           "musica para ninos"
          ],
          [
           "musica paraibana"
          ],
          [
           "musica piemonteisa"
          ],
          [
           "musica popular colombiana"
          ],
          [
           "musica popular mineira"
          ],
          [
           "musica popular paraense"
          ],
          [
           "musica potosina"
          ],
          [
           "musica prehispanica"
          ],
          [
           "musica sarda"
          ],
          [
           "musica tradicional cubana"
          ],
          [
           "musica tropical guatemalteca"
          ],
          [
           "musical advocacy"
          ],
          [
           "musikkorps"
          ],
          [
           "musique concrete"
          ],
          [
           "musique peule"
          ],
          [
           "musique pour enfant quebecois"
          ],
          [
           "musique pour enfants"
          ],
          [
           "musique touareg"
          ],
          [
           "muzica populara"
          ],
          [
           "muzika l'yeladim"
          ],
          [
           "naija worship"
          ],
          [
           "nantes indie"
          ],
          [
           "narodna muzika"
          ],
          [
           "nashville americana"
          ],
          [
           "nashville hip hop"
          ],
          [
           "nashville indie"
          ],
          [
           "nashville singer-songwriter"
          ],
          [
           "nashville sound"
          ],
          [
           "native american"
          ],
          [
           "native american contemporary"
          ],
          [
           "native american flute"
          ],
          [
           "native american hip hop"
          ],
          [
           "native american spiritual"
          ],
          [
           "navajo"
          ],
          [
           "nederlandse hardstyle"
          ],
          [
           "nederpop"
          ],
          [
           "neo classical metal"
          ],
          [
           "neo kyma"
          ],
          [
           "neo mellow"
          ],
          [
           "neo r&b"
          ],
          [
           "neo soul"
          ],
          [
           "neo-classical"
          ],
          [
           "neo-kraut"
          ],
          [
           "neo-pagan"
          ],
          [
           "neo-progressive"
          ],
          [
           "neo-psychedelic"
          ],
          [
           "neo-rockabilly"
          ],
          [
           "neo-singer-songwriter"
          ],
          [
           "neo-synthpop"
          ],
          [
           "neo-trad metal"
          ],
          [
           "neo-traditional bluegrass"
          ],
          [
           "neo-traditional country"
          ],
          [
           "neoclassical darkwave"
          ],
          [
           "neoclassicism"
          ],
          [
           "neofolk"
          ],
          [
           "neon pop punk"
          ],
          [
           "neotango"
          ],
          [
           "nepali indie"
          ],
          [
           "nepali pop"
          ],
          [
           "nerdcore"
          ],
          [
           "neue deutsche harte"
          ],
          [
           "neue deutsche todeskunst"
          ],
          [
           "neue deutsche welle"
          ],
          [
           "neurofunk"
          ],
          [
           "new age"
          ],
          [
           "new age piano"
          ],
          [
           "new americana"
          ],
          [
           "new beat"
          ],
          [
           "new comedy"
          ],
          [
           "new england americana"
          ],
          [
           "new england emo"
          ],
          [
           "new french touch"
          ],
          [
           "new isolationism"
          ],
          [
           "new jack swing"
          ],
          [
           "new jersey hardcore"
          ],
          [
           "new jersey indie"
          ],
          [
           "new jersey punk"
          ],
          [
           "new jersey rap"
          ],
          [
           "new mexico music"
          ],
          [
           "new orleans blues"
          ],
          [
           "new orleans funk"
          ],
          [
           "new orleans indie"
          ],
          [
           "new orleans jazz"
          ],
          [
           "new orleans rap"
          ],
          [
           "new rave"
          ],
          [
           "new romantic"
          ],
          [
           "new tribe"
          ],
          [
           "new wave"
          ],
          [
           "new wave of thrash metal"
          ],
          [
           "new wave pop"
          ],
          [
           "new weird america"
          ],
          [
           "new york death metal"
          ],
          [
           "new york drill"
          ],
          [
           "new zealand classical"
          ],
          [
           "newcastle indie"
          ],
          [
           "newcastle nsw indie"
          ],
          [
           "nigerian hip hop"
          ],
          [
           "nigerian pop"
          ],
          [
           "nightcore"
          ],
          [
           "nightrun"
          ],
          [
           "ninja"
          ],
          [
           "nintendocore"
          ],
          [
           "nisiotika"
          ],
          [
           "nl folk"
          ],
          [
           "no wave"
          ],
          [
           "noise pop"
          ],
          [
           "noise punk"
          ],
          [
           "noise rock"
          ],
          [
           "nordic classical piano"
          ],
          [
           "nordic contemporary classical"
          ],
          [
           "nordic folk"
          ],
          [
           "nordic house"
          ],
          [
           "nordic orchestra"
          ],
          [
           "nordic post-rock"
          ],
          [
           "nordic soundtrack"
          ],
          [
           "norman ok indie"
          ],
          [
           "norsk lovsang"
          ],
          [
           "norteno"
          ],
          [
           "norteno-sax"
          ],
          [
           "north carolina emo"
          ],
          [
           "north carolina hip hop"
          ],
          [
           "north carolina indie"
          ],
          [
           "north carolina metal"
          ],
          [
           "north carolina roots"
          ],
          [
           "north east england indie"
          ],
          [
           "northern irish indie"
          ],
          [
           "northern irish punk"
          ],
          [
           "northern soul"
          ],
          [
           "norwegian black metal"
          ],
          [
           "norwegian choir"
          ],
          [
           "norwegian classical"
          ],
          [
           "norwegian contemporary jazz"
          ],
          [
           "norwegian death metal"
          ],
          [
           "norwegian experimental"
          ],
          [
           "norwegian hip hop"
          ],
          [
           "norwegian indie"
          ],
          [
           "norwegian jazz"
          ],
          [
           "norwegian metal"
          ],
          [
           "norwegian pop"
          ],
          [
           "norwegian pop rap"
          ],
          [
           "norwegian punk rock"
          ],
          [
           "norwegian rock"
          ],
          [
           "norwegian singer-songwriter"
          ],
          [
           "norwegian space disco"
          ],
          [
           "nottingham indie"
          ],
          [
           "nouvelle chanson francaise"
          ],
          [
           "nova canco"
          ],
          [
           "nova mpb"
          ],
          [
           "nova musica pernambucana"
          ],
          [
           "novelty"
          ],
          [
           "nu age"
          ],
          [
           "nu disco"
          ],
          [
           "nu gaze"
          ],
          [
           "nu jazz"
          ],
          [
           "nu metal"
          ],
          [
           "nu skool breaks"
          ],
          [
           "nu-cumbia"
          ],
          [
           "nu-metalcore"
          ],
          [
           "nubian traditional"
          ],
          [
           "nueva cancion"
          ],
          [
           "nueva ola chilena"
          ],
          [
           "nueva ola peruana"
          ],
          [
           "nuevo flamenco"
          ],
          [
           "nuevo folklore mexicano"
          ],
          [
           "nuevo regional mexicano"
          ],
          [
           "nuevo tango"
          ],
          [
           "nursery"
          ],
          [
           "nwobhm"
          ],
          [
           "nwothm"
          ],
          [
           "ny roots"
          ],
          [
           "nyc pop"
          ],
          [
           "nyc rap"
          ],
          [
           "nyhc"
          ],
          [
           "nz christian"
          ],
          [
           "nz folk"
          ],
          [
           "nz hardcore"
          ],
          [
           "nz indie"
          ],
          [
           "nz pop"
          ],
          [
           "nz punk"
          ],
          [
           "nz reggae"
          ],
          [
           "nz singer-songwriter"
          ],
          [
           "oakland hip hop"
          ],
          [
           "oakland indie"
          ],
          [
           "oc indie"
          ],
          [
           "oc rap"
          ],
          [
           "oceania soundtrack"
          ],
          [
           "ohio hip hop"
          ],
          [
           "ohio indie"
          ],
          [
           "oi"
          ],
          [
           "ok indie"
          ],
          [
           "okc indie"
          ],
          [
           "okinawan pop"
          ],
          [
           "oklahoma country"
          ],
          [
           "old school dancehall"
          ],
          [
           "old school hip hop"
          ],
          [
           "old school rap francais"
          ],
          [
           "old school thrash"
          ],
          [
           "old school uk hip hop"
          ],
          [
           "old west"
          ],
          [
           "old-time"
          ],
          [
           "old-time fiddle"
          ],
          [
           "olympia wa indie"
          ],
          [
           "omaha indie"
          ],
          [
           "one-person band"
          ],
          [
           "ontario indie"
          ],
          [
           "opera"
          ],
          [
           "opera chorus"
          ],
          [
           "opera metal"
          ],
          [
           "operatic pop"
          ],
          [
           "operetta"
          ],
          [
           "opm"
          ],
          [
           "oratory"
          ],
          [
           "orchestra"
          ],
          [
           "orchestral performance"
          ],
          [
           "orebro indie"
          ],
          [
           "organic ambient"
          ],
          [
           "organic electronic"
          ],
          [
           "organic house"
          ],
          [
           "orgcore"
          ],
          [
           "oriental classical"
          ],
          [
           "orkney and shetland folk"
          ],
          [
           "orlando indie"
          ],
          [
           "orquesta tipica"
          ],
          [
           "orthodox chant"
          ],
          [
           "oshare kei"
          ],
          [
           "otacore"
          ],
          [
           "oth indie"
          ],
          [
           "ottawa indie"
          ],
          [
           "ottawa rap"
          ],
          [
           "oud"
          ],
          [
           "outer hip hop"
          ],
          [
           "outlaw country"
          ],
          [
           "outsider"
          ],
          [
           "outsider house"
          ],
          [
           "oxford choir"
          ],
          [
           "oxford indie"
          ],
          [
           "p funk"
          ],
          [
           "pagan black metal"
          ],
          [
           "pagode"
          ],
          [
           "pagode baiano"
          ],
          [
           "paisley underground"
          ],
          [
           "pakistani folk"
          ],
          [
           "pakistani hip hop"
          ],
          [
           "pakistani pop"
          ],
          [
           "palestinian pop"
          ],
          [
           "palm desert scene"
          ],
          [
           "panamanian pop"
          ],
          [
           "panamanian rock"
          ],
          [
           "panpipe"
          ],
          [
           "papuri"
          ],
          [
           "parody"
          ],
          [
           "partido alto"
          ],
          [
           "partyschlager"
          ],
          [
           "pei indie"
          ],
          [
           "permanent wave"
          ],
          [
           "perreo"
          ],
          [
           "persian pop"
          ],
          [
           "persian traditional"
          ],
          [
           "perth indie"
          ],
          [
           "peruvian hip hop"
          ],
          [
           "peruvian rock"
          ],
          [
           "pet calming"
          ],
          [
           "philly indie"
          ],
          [
           "philly rap"
          ],
          [
           "philly soul"
          ],
          [
           "phoenix indie"
          ],
          [
           "phonk"
          ],
          [
           "pianissimo"
          ],
          [
           "piano blues"
          ],
          [
           "piano cover"
          ],
          [
           "piano mpb"
          ],
          [
           "piano rock"
          ],
          [
           "pibroch"
          ],
          [
           "piedmont blues"
          ],
          [
           "pinoy hip hop"
          ],
          [
           "pinoy indie"
          ],
          [
           "pinoy pop punk"
          ],
          [
           "pinoy praise"
          ],
          [
           "pinoy r&b"
          ],
          [
           "pinoy reggae"
          ],
          [
           "pinoy rock"
          ],
          [
           "pinoy traditional"
          ],
          [
           "pinoy trap"
          ],
          [
           "pirate"
          ],
          [
           "pittsburgh indie"
          ],
          [
           "pittsburgh rap"
          ],
          [
           "pittsburgh rock"
          ],
          [
           "pixie"
          ],
          [
           "plunderphonics"
          ],
          [
           "poetry"
          ],
          [
           "polca paraguaya"
          ],
          [
           "polish blues"
          ],
          [
           "polish classical"
          ],
          [
           "polish classical piano"
          ],
          [
           "polish contemporary classical"
          ],
          [
           "polish jazz"
          ],
          [
           "polish modern jazz"
          ],
          [
           "polish pop"
          ],
          [
           "polish post-rock"
          ],
          [
           "polish reggae"
          ],
          [
           "polish rock"
          ],
          [
           "political hip hop"
          ],
          [
           "polka"
          ],
          [
           "polynesian hip hop"
          ],
          [
           "polynesian pop"
          ],
          [
           "polyphony"
          ],
          [
           "pony"
          ],
          [
           "pop"
          ],
          [
           "pop argentino"
          ],
          [
           "pop chileno"
          ],
          [
           "pop dance"
          ],
          [
           "pop edm"
          ],
          [
           "pop electronico"
          ],
          [
           "pop emo"
          ],
          [
           "pop flamenco"
          ],
          [
           "pop folk"
          ],
          [
           "pop house"
          ],
          [
           "pop nacional"
          ],
          [
           "pop nacional antigas"
          ],
          [
           "pop peruano"
          ],
          [
           "pop punk"
          ],
          [
           "pop quebecois"
          ],
          [
           "pop r&b"
          ],
          [
           "pop rap"
          ],
          [
           "pop reggaeton"
          ],
          [
           "pop rock"
          ],
          [
           "pop rock brasileiro"
          ],
          [
           "pop romantico"
          ],
          [
           "pop soul"
          ],
          [
           "pop venezolano"
          ],
          [
           "pop violin"
          ],
          [
           "popgaze"
          ],
          [
           "popping"
          ],
          [
           "pops orchestra"
          ],
          [
           "popwave"
          ],
          [
           "pornogrind"
          ],
          [
           "porro"
          ],
          [
           "portland hip hop"
          ],
          [
           "portland indie"
          ],
          [
           "portland metal"
          ],
          [
           "portland punk"
          ],
          [
           "portuguese early music"
          ],
          [
           "post-disco"
          ],
          [
           "post-disco soul"
          ],
          [
           "post-doom metal"
          ],
          [
           "post-grunge"
          ],
          [
           "post-hardcore"
          ],
          [
           "post-metal"
          ],
          [
           "post-minimalism"
          ],
          [
           "post-post-hardcore"
          ],
          [
           "post-punk"
          ],
          [
           "post-punk argentina"
          ],
          [
           "post-rock"
          ],
          [
           "post-romantic era"
          ],
          [
           "post-screamo"
          ],
          [
           "post-teen pop"
          ],
          [
           "power metal"
          ],
          [
           "power pop"
          ],
          [
           "power thrash"
          ],
          [
           "power-pop punk"
          ],
          [
           "praise"
          ],
          [
           "prepared piano"
          ],
          [
           "preschool children's music"
          ],
          [
           "prog quebec"
          ],
          [
           "progressive alternative"
          ],
          [
           "progressive bluegrass"
          ],
          [
           "progressive deathcore"
          ],
          [
           "progressive electro house"
          ],
          [
           "progressive groove metal"
          ],
          [
           "progressive house"
          ],
          [
           "progressive jazz fusion"
          ],
          [
           "progressive metal"
          ],
          [
           "progressive metalcore"
          ],
          [
           "progressive post-hardcore"
          ],
          [
           "progressive power metal"
          ],
          [
           "progressive psytrance"
          ],
          [
           "progressive rock"
          ],
          [
           "progressive sludge"
          ],
          [
           "progressive trance"
          ],
          [
           "progressive trance house"
          ],
          [
           "progressive uplifting trance"
          ],
          [
           "proto-rap"
          ],
          [
           "proto-techno"
          ],
          [
           "protopunk"
          ],
          [
           "psalmen"
          ],
          [
           "psicodelia brasileira"
          ],
          [
           "psybass"
          ],
          [
           "psychedelic blues-rock"
          ],
          [
           "psychedelic doom"
          ],
          [
           "psychedelic folk"
          ],
          [
           "psychedelic folk rock"
          ],
          [
           "psychedelic hip hop"
          ],
          [
           "psychedelic pop"
          ],
          [
           "psychedelic punk"
          ],
          [
           "psychedelic rock"
          ],
          [
           "psychedelic soul"
          ],
          [
           "psychedelic trance"
          ],
          [
           "psychill"
          ],
          [
           "psychobilly"
          ],
          [
           "pub rock"
          ],
          [
           "puerto rican folk"
          ],
          [
           "puerto rican pop"
          ],
          [
           "puerto rican rock"
          ],
          [
           "punjabi folk"
          ],
          [
           "punjabi hip hop"
          ],
          [
           "punjabi pop"
          ],
          [
           "punk"
          ],
          [
           "punk 'n' roll"
          ],
          [
           "punk blues"
          ],
          [
           "punk rock italiano"
          ],
          [
           "punk rock mexicano"
          ],
          [
           "punta"
          ],
          [
           "purple sound"
          ],
          [
           "qawwali"
          ],
          [
           "quartetto d'archi"
          ],
          [
           "quatuor a cordes"
          ],
          [
           "quebec death metal"
          ],
          [
           "quebec indie"
          ],
          [
           "queens hip hop"
          ],
          [
           "queer country"
          ],
          [
           "queercore"
          ],
          [
           "quiet storm"
          ],
          [
           "quran"
          ],
          [
           "r&b"
          ],
          [
           "r&b en espanol"
          ],
          [
           "rabindra sangeet"
          ],
          [
           "radio symphony"
          ],
          [
           "ragtime"
          ],
          [
           "rai"
          ],
          [
           "ranchera"
          ],
          [
           "rap"
          ],
          [
           "rap chileno"
          ],
          [
           "rap conciencia"
          ],
          [
           "rap conscient"
          ],
          [
           "rap cristiano"
          ],
          [
           "rap dominicano"
          ],
          [
           "rap kreyol"
          ],
          [
           "rap latina"
          ],
          [
           "rap metal"
          ],
          [
           "rap nacional antigo"
          ],
          [
           "rap napoletano"
          ],
          [
           "rap rock"
          ],
          [
           "rap underground mexicano"
          ],
          [
           "rare groove"
          ],
          [
           "rave"
          ],
          [
           "rawstyle"
          ],
          [
           "reading"
          ],
          [
           "reading indie"
          ],
          [
           "rebel blues"
          ],
          [
           "rebetiko"
          ],
          [
           "recorder"
          ],
          [
           "red dirt"
          ],
          [
           "redneck"
          ],
          [
           "reggae"
          ],
          [
           "reggae en espanol"
          ],
          [
           "reggae fusion"
          ],
          [
           "reggae rock"
          ],
          [
           "reggaeton"
          ],
          [
           "reggaeton colombiano"
          ],
          [
           "reggaeton cristiano"
          ],
          [
           "reggaeton flow"
          ],
          [
           "reggaeton mexicano"
          ],
          [
           "regional mexican"
          ],
          [
           "relaxative"
          ],
          [
           "renaissance"
          ],
          [
           "rennes indie"
          ],
          [
           "retro metal"
          ],
          [
           "retro soul"
          ],
          [
           "rhode island indie"
          ],
          [
           "rhode island rap"
          ],
          [
           "rhythm and blues"
          ],
          [
           "riddim"
          ],
          [
           "rif"
          ],
          [
           "riot grrrl"
          ],
          [
           "ritmo kombina"
          ],
          [
           "rochester mn indie"
          ],
          [
           "rochester ny indie"
          ],
          [
           "rock"
          ],
          [
           "rock alternatif francais"
          ],
          [
           "rock alternativo brasileiro"
          ],
          [
           "rock andaluz"
          ],
          [
           "rock baiano"
          ],
          [
           "rock brasiliense"
          ],
          [
           "rock chapin"
          ],
          [
           "rock cristiano"
          ],
          [
           "rock drums"
          ],
          [
           "rock en espanol"
          ],
          [
           "rock gaucho"
          ],
          [
           "rock independant francais"
          ],
          [
           "rock kapak"
          ],
          [
           "rock keyboard"
          ],
          [
           "rock nacional"
          ],
          [
           "rock nacional brasileiro"
          ],
          [
           "rock pernambucano"
          ],
          [
           "rock progressif francais"
          ],
          [
           "rock steady"
          ],
          [
           "rock urbano mexicano"
          ],
          [
           "rock-and-roll"
          ],
          [
           "rockabilly"
          ],
          [
           "rockabilly en espanol"
          ],
          [
           "roda de samba"
          ],
          [
           "romanian classical piano"
          ],
          [
           "romanian electronic"
          ],
          [
           "romanian folk"
          ],
          [
           "romanian pop"
          ],
          [
           "romanian rock"
          ],
          [
           "romantico"
          ],
          [
           "roots americana"
          ],
          [
           "roots reggae"
          ],
          [
           "roots rock"
          ],
          [
           "roots worship"
          ],
          [
           "rosary"
          ],
          [
           "rumba"
          ],
          [
           "rumba congolaise"
          ],
          [
           "rune folk"
          ],
          [
           "russian alternative rock"
          ],
          [
           "russian ccm"
          ],
          [
           "russian chanson"
          ],
          [
           "russian choir"
          ],
          [
           "russian classical piano"
          ],
          [
           "russian dance"
          ],
          [
           "russian edm"
          ],
          [
           "russian folk"
          ],
          [
           "russian folk rock"
          ],
          [
           "russian jazz"
          ],
          [
           "russian metal"
          ],
          [
           "russian metalcore"
          ],
          [
           "russian modern classical"
          ],
          [
           "russian orchestra"
          ],
          [
           "russian pop"
          ],
          [
           "russian post-punk"
          ],
          [
           "russian punk"
          ],
          [
           "russian rock"
          ],
          [
           "russian romanticism"
          ],
          [
           "russian shoegaze"
          ],
          [
           "russian trance"
          ],
          [
           "rva indie"
          ],
          [
           "rwandan traditional"
          ],
          [
           "ryukyu ongaku"
          ],
          [
           "sacramento hip hop"
          ],
          [
           "sacramento indie"
          ],
          [
           "sacred steel"
          ],
          [
           "sad rap"
          ],
          [
           "salsa"
          ],
          [
           "salsa choke"
          ],
          [
           "salsa colombiana"
          ],
          [
           "salsa cubana"
          ],
          [
           "salsa international"
          ],
          [
           "salsa peruana"
          ],
          [
           "salsa puertorriquena"
          ],
          [
           "salsa venezolana"
          ],
          [
           "samba"
          ],
          [
           "samba de roda"
          ],
          [
           "samba moderno"
          ],
          [
           "samba-enredo"
          ],
          [
           "samba-jazz"
          ],
          [
           "samba-rock"
          ],
          [
           "san antonio rap"
          ],
          [
           "san diego indie"
          ],
          [
           "san diego rap"
          ],
          [
           "san marcos tx indie"
          ],
          [
           "sandalwood"
          ],
          [
           "sarod"
          ],
          [
           "saskatchewan indie"
          ],
          [
           "scam rap"
          ],
          [
           "scandinavian r&b"
          ],
          [
           "scandipop"
          ],
          [
           "schlager"
          ],
          [
           "scorecore"
          ],
          [
           "scottish electronic"
          ],
          [
           "scottish fiddle"
          ],
          [
           "scottish folk"
          ],
          [
           "scottish hip hop"
          ],
          [
           "scottish indie"
          ],
          [
           "scottish jazz"
          ],
          [
           "scottish metal"
          ],
          [
           "scottish new wave"
          ],
          [
           "scottish rock"
          ],
          [
           "scottish singer-songwriter"
          ],
          [
           "scratch"
          ],
          [
           "scream rap"
          ],
          [
           "screamo"
          ],
          [
           "seattle hip hop"
          ],
          [
           "seattle indie"
          ],
          [
           "second line"
          ],
          [
           "sefardi"
          ],
          [
           "serbian electronic"
          ],
          [
           "serialism"
          ],
          [
           "sertanejo"
          ],
          [
           "sertanejo pop"
          ],
          [
           "sertanejo tradicional"
          ],
          [
           "sertanejo universitario"
          ],
          [
           "sevdah"
          ],
          [
           "sevillanas"
          ],
          [
           "shaabi"
          ],
          [
           "shabad"
          ],
          [
           "shakuhachi"
          ],
          [
           "shamanic"
          ],
          [
           "shanty"
          ],
          [
           "sheffield indie"
          ],
          [
           "shibuya-kei"
          ],
          [
           "shimmer pop"
          ],
          [
           "shimmer psych"
          ],
          [
           "shiver pop"
          ],
          [
           "shoegaze"
          ],
          [
           "show tunes"
          ],
          [
           "shred"
          ],
          [
           "shush"
          ],
          [
           "sierreno"
          ],
          [
           "singaporean mandopop"
          ],
          [
           "singaporean pop"
          ],
          [
           "singaporean singer-songwriter"
          ],
          [
           "singer-songwriter"
          ],
          [
           "singing bowl"
          ],
          [
           "sitar"
          ],
          [
           "ska"
          ],
          [
           "ska argentino"
          ],
          [
           "ska chileno"
          ],
          [
           "ska jazz"
          ],
          [
           "ska mexicano"
          ],
          [
           "ska punk"
          ],
          [
           "ska revival"
          ],
          [
           "skate punk"
          ],
          [
           "skiffle"
          ],
          [
           "skramz"
          ],
          [
           "sky room"
          ],
          [
           "slack-key guitar"
          ],
          [
           "slam poetry"
          ],
          [
           "slamming deathcore"
          ],
          [
           "slavic folk metal"
          ],
          [
           "slayer"
          ],
          [
           "slc indie"
          ],
          [
           "sleaze rock"
          ],
          [
           "sleep"
          ],
          [
           "slovak electronic"
          ],
          [
           "slovenian electronic"
          ],
          [
           "slovenian metal"
          ],
          [
           "slow game"
          ],
          [
           "slowcore"
          ],
          [
           "sludge metal"
          ],
          [
           "small room"
          ],
          [
           "smooth jazz"
          ],
          [
           "smooth saxophone"
          ],
          [
           "smooth soul"
          ],
          [
           "soca"
          ],
          [
           "socal pop punk"
          ],
          [
           "social media pop"
          ],
          [
           "soda pop"
          ],
          [
           "soft rock"
          ],
          [
           "solipsynthm"
          ],
          [
           "son cubano"
          ],
          [
           "son cubano clasico"
          ],
          [
           "son jarocho"
          ],
          [
           "sophisti-pop"
          ],
          [
           "sotalaulut"
          ],
          [
           "soukous"
          ],
          [
           "soul"
          ],
          [
           "soul blues"
          ],
          [
           "soul flow"
          ],
          [
           "soul jazz"
          ],
          [
           "souldies"
          ],
          [
           "sound"
          ],
          [
           "sound art"
          ],
          [
           "sound effects"
          ],
          [
           "sound team"
          ],
          [
           "soundtrack"
          ],
          [
           "south african alternative"
          ],
          [
           "south african choral"
          ],
          [
           "south african country"
          ],
          [
           "south african hip hop"
          ],
          [
           "south african house"
          ],
          [
           "south african jazz"
          ],
          [
           "south african pop"
          ],
          [
           "south african pop dance"
          ],
          [
           "south african rock"
          ],
          [
           "south carolina hip hop"
          ],
          [
           "south carolina indie"
          ],
          [
           "south carolina metal"
          ],
          [
           "south dakota indie"
          ],
          [
           "southampton indie"
          ],
          [
           "southern americana"
          ],
          [
           "southern gospel"
          ],
          [
           "southern hip hop"
          ],
          [
           "southern metal"
          ],
          [
           "southern rock"
          ],
          [
           "southern soul"
          ],
          [
           "southern soul blues"
          ],
          [
           "soviet synthpop"
          ],
          [
           "sovietwave"
          ],
          [
           "spa"
          ],
          [
           "space age pop"
          ],
          [
           "space ambient"
          ],
          [
           "space rock"
          ],
          [
           "spanish baroque"
          ],
          [
           "spanish classical"
          ],
          [
           "spanish classical piano"
          ],
          [
           "spanish folk metal"
          ],
          [
           "spanish hip hop"
          ],
          [
           "spanish indie pop"
          ],
          [
           "spanish invasion"
          ],
          [
           "spanish metal"
          ],
          [
           "spanish modern rock"
          ],
          [
           "spanish new wave"
          ],
          [
           "spanish noise pop"
          ],
          [
           "spanish pop"
          ],
          [
           "spanish pop rock"
          ],
          [
           "spanish renaissance"
          ],
          [
           "spanish rock"
          ],
          [
           "spanish synthpop"
          ],
          [
           "spanish techno"
          ],
          [
           "speed garage"
          ],
          [
           "speed metal"
          ],
          [
           "speedcore"
          ],
          [
           "spiritual hip hop"
          ],
          [
           "spiritual jazz"
          ],
          [
           "spirituals"
          ],
          [
           "springfield mo indie"
          ],
          [
           "spytrack"
          ],
          [
           "st louis rap"
          ],
          [
           "steampunk"
          ],
          [
           "steel guitar"
          ],
          [
           "steelpan"
          ],
          [
           "stl indie"
          ],
          [
           "stomp and flutter"
          ],
          [
           "stomp and holler"
          ],
          [
           "stomp and whittle"
          ],
          [
           "stomp pop"
          ],
          [
           "stoner metal"
          ],
          [
           "stoner rock"
          ],
          [
           "straight edge"
          ],
          [
           "straight-ahead jazz"
          ],
          [
           "street band"
          ],
          [
           "street punk"
          ],
          [
           "streichquartett"
          ],
          [
           "stride"
          ],
          [
           "string band"
          ],
          [
           "string folk"
          ],
          [
           "string orchestra"
          ],
          [
           "string quartet"
          ],
          [
           "strut"
          ],
          [
           "substep"
          ],
          [
           "sudanese pop"
          ],
          [
           "sufi"
          ],
          [
           "sufi chant"
          ],
          [
           "sunshine pop"
          ],
          [
           "supergroup"
          ],
          [
           "surf music"
          ],
          [
           "surf punk"
          ],
          [
           "svensk progg"
          ],
          [
           "swamp blues"
          ],
          [
           "swamp pop"
          ],
          [
           "swamp rock"
          ],
          [
           "swancore"
          ],
          [
           "swedish alternative rock"
          ],
          [
           "swedish americana"
          ],
          [
           "swedish black metal"
          ],
          [
           "swedish choir"
          ],
          [
           "swedish country"
          ],
          [
           "swedish dancehall"
          ],
          [
           "swedish death metal"
          ],
          [
           "swedish doom metal"
          ],
          [
           "swedish electronic"
          ],
          [
           "swedish electropop"
          ],
          [
           "swedish eurodance"
          ],
          [
           "swedish garage rock"
          ],
          [
           "swedish hard rock"
          ],
          [
           "swedish hardcore"
          ],
          [
           "swedish heavy metal"
          ],
          [
           "swedish house"
          ],
          [
           "swedish idol pop"
          ],
          [
           "swedish indie folk"
          ],
          [
           "swedish indie pop"
          ],
          [
           "swedish indie rock"
          ],
          [
           "swedish jazz"
          ],
          [
           "swedish jazz orkester"
          ],
          [
           "swedish melodic rock"
          ],
          [
           "swedish metal"
          ],
          [
           "swedish metalcore"
          ],
          [
           "swedish pop"
          ],
          [
           "swedish post-hardcore"
          ],
          [
           "swedish power metal"
          ],
          [
           "swedish prog"
          ],
          [
           "swedish progressive metal"
          ],
          [
           "swedish rock-and-roll"
          ],
          [
           "swedish singer-songwriter"
          ],
          [
           "swedish soul"
          ],
          [
           "swedish stoner rock"
          ],
          [
           "swedish synth"
          ],
          [
           "swedish synthpop"
          ],
          [
           "swedish tropical house"
          ],
          [
           "swedish underground rap"
          ],
          [
           "swing"
          ],
          [
           "swing italiano"
          ],
          [
           "swing revival"
          ],
          [
           "swiss black metal"
          ],
          [
           "swiss classical piano"
          ],
          [
           "swiss country"
          ],
          [
           "swiss metal"
          ],
          [
           "swiss pop"
          ],
          [
           "swiss rock"
          ],
          [
           "swiss worship"
          ],
          [
           "sydney indie"
          ],
          [
           "symphonic black metal"
          ],
          [
           "symphonic metal"
          ],
          [
           "symphonic rock"
          ],
          [
           "synth funk"
          ],
          [
           "synthpop"
          ],
          [
           "synthwave"
          ],
          [
           "syrian pop"
          ],
          [
           "tabla"
          ],
          [
           "tagalog rap"
          ],
          [
           "tagalog worship"
          ],
          [
           "taiwan campus folk"
          ],
          [
           "taiwan classical performance"
          ],
          [
           "taiwan hip hop"
          ],
          [
           "taiwan indie"
          ],
          [
           "taiwan pop"
          ],
          [
           "taiwan singer-songwriter"
          ],
          [
           "tajik pop"
          ],
          [
           "talent show"
          ],
          [
           "tamaulipas indie"
          ],
          [
           "tamaulipas rap"
          ],
          [
           "tamborazo"
          ],
          [
           "tamil hip hop"
          ],
          [
           "tamil pop"
          ],
          [
           "tamil worship"
          ],
          [
           "tampa indie"
          ],
          [
           "tango"
          ],
          [
           "tango cancion"
          ],
          [
           "tape club"
          ],
          [
           "tech house"
          ],
          [
           "technical death metal"
          ],
          [
           "technical deathcore"
          ],
          [
           "technical groove metal"
          ],
          [
           "technical melodic death metal"
          ],
          [
           "technical thrash"
          ],
          [
           "techno"
          ],
          [
           "techno kayo"
          ],
          [
           "tecnobanda"
          ],
          [
           "teen pop"
          ],
          [
           "tejano"
          ],
          [
           "tempe indie"
          ],
          [
           "tennessee hip hop"
          ],
          [
           "tennessee metal"
          ],
          [
           "tex-mex"
          ],
          [
           "texas blues"
          ],
          [
           "texas country"
          ],
          [
           "texas latin rap"
          ],
          [
           "texas pop punk"
          ],
          [
           "texas punk"
          ],
          [
           "thai folk"
          ],
          [
           "thai folk rock"
          ],
          [
           "thai idol"
          ],
          [
           "thai indie rock"
          ],
          [
           "thai pop"
          ],
          [
           "thall"
          ],
          [
           "theme"
          ],
          [
           "theremin"
          ],
          [
           "thrash core"
          ],
          [
           "thrash metal"
          ],
          [
           "timba"
          ],
          [
           "tin pan alley"
          ],
          [
           "tipico"
          ],
          [
           "tolkien metal"
          ],
          [
           "tollywood"
          ],
          [
           "tone"
          ],
          [
           "torch song"
          ],
          [
           "toronto indie"
          ],
          [
           "toronto rap"
          ],
          [
           "trad jazz catala"
          ],
          [
           "traditional bluegrass"
          ],
          [
           "traditional blues"
          ],
          [
           "traditional british folk"
          ],
          [
           "traditional country"
          ],
          [
           "traditional folk"
          ],
          [
           "traditional funk"
          ],
          [
           "traditional rockabilly"
          ],
          [
           "traditional ska"
          ],
          [
           "traditional soul"
          ],
          [
           "trance"
          ],
          [
           "trance mexicano"
          ],
          [
           "trancecore"
          ],
          [
           "transpop"
          ],
          [
           "trap"
          ],
          [
           "trap argentino"
          ],
          [
           "trap chileno"
          ],
          [
           "trap dominicano"
          ],
          [
           "trap latino"
          ],
          [
           "trap mexicano"
          ],
          [
           "trap queen"
          ],
          [
           "trap soul"
          ],
          [
           "trap triste"
          ],
          [
           "trap venezolano"
          ],
          [
           "traprun"
          ],
          [
           "trash rock"
          ],
          [
           "triangle indie"
          ],
          [
           "tribal house"
          ],
          [
           "trinidadian reggae"
          ],
          [
           "trio cubano"
          ],
          [
           "trip hop"
          ],
          [
           "trival"
          ],
          [
           "tropical"
          ],
          [
           "tropical house"
          ],
          [
           "tropicalia"
          ],
          [
           "trova"
          ],
          [
           "trova mexicana"
          ],
          [
           "truck-driving country"
          ],
          [
           "tuareg guitar"
          ],
          [
           "tucson indie"
          ],
          [
           "tulsa indie"
          ],
          [
           "tuna estudiantil"
          ],
          [
           "tunisian pop"
          ],
          [
           "turbo folk"
          ],
          [
           "turkish classical"
          ],
          [
           "turkish classical performance"
          ],
          [
           "turkish edm"
          ],
          [
           "turkish experimental"
          ],
          [
           "turkish folk"
          ],
          [
           "turkish jazz"
          ],
          [
           "turkish modern jazz"
          ],
          [
           "turkish pop"
          ],
          [
           "turkish psych"
          ],
          [
           "turkish trap"
          ],
          [
           "turkish trap pop"
          ],
          [
           "turntablism"
          ],
          [
           "twee pop"
          ],
          [
           "twoubadou"
          ],
          [
           "tzadik"
          ],
          [
           "ugandan pop"
          ],
          [
           "uilleann pipes"
          ],
          [
           "uk alternative hip hop"
          ],
          [
           "uk alternative pop"
          ],
          [
           "uk americana"
          ],
          [
           "uk contemporary jazz"
          ],
          [
           "uk contemporary r&b"
          ],
          [
           "uk dance"
          ],
          [
           "uk dancehall"
          ],
          [
           "uk diy punk"
          ],
          [
           "uk dnb"
          ],
          [
           "uk doom metal"
          ],
          [
           "uk dub"
          ],
          [
           "uk experimental electronic"
          ],
          [
           "uk funky"
          ],
          [
           "uk garage"
          ],
          [
           "uk hip hop"
          ],
          [
           "uk house"
          ],
          [
           "uk metalcore"
          ],
          [
           "uk noise rock"
          ],
          [
           "uk pop"
          ],
          [
           "uk pop punk"
          ],
          [
           "uk post-hardcore"
          ],
          [
           "uk post-punk"
          ],
          [
           "uk reggae"
          ],
          [
           "uk rockabilly"
          ],
          [
           "uk stoner rock"
          ],
          [
           "uk worship"
          ],
          [
           "uk82"
          ],
          [
           "ukrainian choir"
          ],
          [
           "ukrainian classical"
          ],
          [
           "ukrainian classical piano"
          ],
          [
           "ukrainian electronic"
          ],
          [
           "ukrainian pop"
          ],
          [
           "ukulele"
          ],
          [
           "umbanda"
          ],
          [
           "underground hip hop"
          ],
          [
           "underground power pop"
          ],
          [
           "underground rap"
          ],
          [
           "university choir"
          ],
          [
           "uplifting trance"
          ],
          [
           "uptempo hardcore"
          ],
          [
           "urban contemporary"
          ],
          [
           "urbano espanol"
          ],
          [
           "us power metal"
          ],
          [
           "utah indie"
          ],
          [
           "uzbek pop"
          ],
          [
           "uzbek traditional"
          ],
          [
           "v-pop"
          ],
          [
           "vallenato"
          ],
          [
           "vallenato moderno"
          ],
          [
           "vancouver indie"
          ],
          [
           "vancouver metal"
          ],
          [
           "vancouver punk"
          ],
          [
           "vapor pop"
          ],
          [
           "vapor soul"
          ],
          [
           "vapor trap"
          ],
          [
           "vapor twitch"
          ],
          [
           "vaporwave"
          ],
          [
           "variete francaise"
          ],
          [
           "vaudeville"
          ],
          [
           "vbs"
          ],
          [
           "veena"
          ],
          [
           "vegan straight edge"
          ],
          [
           "vegas indie"
          ],
          [
           "velha guarda"
          ],
          [
           "venezuelan hip hop"
          ],
          [
           "venezuelan indie"
          ],
          [
           "venezuelan rock"
          ],
          [
           "veracruz indie"
          ],
          [
           "vermont indie"
          ],
          [
           "vgm instrumental"
          ],
          [
           "vgm remix"
          ],
          [
           "victoria bc indie"
          ],
          [
           "victorian britain"
          ],
          [
           "video game music"
          ],
          [
           "vienna indie"
          ],
          [
           "vietnamese bolero"
          ],
          [
           "vietnamese pop"
          ],
          [
           "viking black metal"
          ],
          [
           "viking folk"
          ],
          [
           "viking metal"
          ],
          [
           "villancicos"
          ],
          [
           "vintage chanson"
          ],
          [
           "vintage chinese pop"
          ],
          [
           "vintage classical singing"
          ],
          [
           "vintage country folk"
          ],
          [
           "vintage dutch pop"
          ],
          [
           "vintage french electronic"
          ],
          [
           "vintage gospel"
          ],
          [
           "vintage hollywood"
          ],
          [
           "vintage italian pop"
          ],
          [
           "vintage italian soundtrack"
          ],
          [
           "vintage jazz"
          ],
          [
           "vintage old-time"
          ],
          [
           "vintage rockabilly"
          ],
          [
           "vintage schlager"
          ],
          [
           "vintage spanish pop"
          ],
          [
           "vintage swedish pop"
          ],
          [
           "vintage swing"
          ],
          [
           "vintage tango"
          ],
          [
           "viola"
          ],
          [
           "violao"
          ],
          [
           "violao classico"
          ],
          [
           "violin"
          ],
          [
           "viral pop"
          ],
          [
           "viral rap"
          ],
          [
           "viral trap"
          ],
          [
           "virgin islands reggae"
          ],
          [
           "virginia hip hop"
          ],
          [
           "virginia metal"
          ],
          [
           "virginia punk"
          ],
          [
           "visor"
          ],
          [
           "visual kei"
          ],
          [
           "vocal ensemble"
          ],
          [
           "vocal harmony group"
          ],
          [
           "vocal house"
          ],
          [
           "vocal jazz"
          ],
          [
           "vocal trance"
          ],
          [
           "vocaloid"
          ],
          [
           "vogue"
          ],
          [
           "volksmusik"
          ],
          [
           "warm drone"
          ],
          [
           "washboard"
          ],
          [
           "washington indie"
          ],
          [
           "wassoulou"
          ],
          [
           "water"
          ],
          [
           "wave"
          ],
          [
           "welsh folk"
          ],
          [
           "welsh indie"
          ],
          [
           "welsh metal"
          ],
          [
           "welsh rock"
          ],
          [
           "west african jazz"
          ],
          [
           "west australian hip hop"
          ],
          [
           "west coast rap"
          ],
          [
           "west coast reggae"
          ],
          [
           "west coast trap"
          ],
          [
           "west end"
          ],
          [
           "west virginia indie"
          ],
          [
           "western americana"
          ],
          [
           "western mass indie"
          ],
          [
           "western saharan folk"
          ],
          [
           "western swing"
          ],
          [
           "white noise"
          ],
          [
           "wind ensemble"
          ],
          [
           "wind quintet"
          ],
          [
           "wisconsin indie"
          ],
          [
           "witch house"
          ],
          [
           "women's choir"
          ],
          [
           "women's music"
          ],
          [
           "wonky"
          ],
          [
           "worcester ma indie"
          ],
          [
           "world"
          ],
          [
           "world fusion"
          ],
          [
           "world meditation"
          ],
          [
           "world worship"
          ],
          [
           "worship"
          ],
          [
           "wrestling"
          ],
          [
           "wu fam"
          ],
          [
           "wyoming indie"
          ],
          [
           "wyoming roots"
          ],
          [
           "xhosa"
          ],
          [
           "xtra raw"
          ],
          [
           "yacht rock"
          ],
          [
           "ye ye"
          ],
          [
           "yiddish folk"
          ],
          [
           "yodeling"
          ],
          [
           "yoga"
          ],
          [
           "yoik"
          ],
          [
           "york indie"
          ],
          [
           "yorkshire folk"
          ],
          [
           "yugoslav new wave"
          ],
          [
           "yugoslav rock"
          ],
          [
           "zambian pop"
          ],
          [
           "zeuhl"
          ],
          [
           "zhongguo feng"
          ],
          [
           "zimdancehall"
          ],
          [
           "zolo"
          ],
          [
           "zouglou"
          ],
          [
           "zouk"
          ],
          [
           "zurich indie"
          ],
          [
           "zydeco"
          ]
         ],
         "hovertemplate": "x=%{x}<br>y=%{y}<br>genres=%{customdata[0]}<br>cluster=%{marker.color}<extra></extra>",
         "legendgroup": "",
         "marker": {
          "color": {
           "bdata": "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",
           "dtype": "i4"
          },
          "coloraxis": "coloraxis",
          "symbol": "circle"
         },
         "mode": "markers",
         "name": "",
         "showlegend": false,
         "type": "scattergl",
         "x": {
          "bdata": "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",
          "dtype": "f4"
         },
         "xaxis": "x",
         "y": {
          "bdata": "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",
          "dtype": "f4"
         },
         "yaxis": "y"
        }
       ],
       "layout": {
        "coloraxis": {
         "colorbar": {
          "title": {
           "text": "cluster"
          }
         },
         "colorscale": [
          [
           0,
           "#0d0887"
          ],
          [
           0.1111111111111111,
           "#46039f"
          ],
          [
           0.2222222222222222,
           "#7201a8"
          ],
          [
           0.3333333333333333,
           "#9c179e"
          ],
          [
           0.4444444444444444,
           "#bd3786"
          ],
          [
           0.5555555555555556,
           "#d8576b"
          ],
          [
           0.6666666666666666,
           "#ed7953"
          ],
          [
           0.7777777777777778,
           "#fb9f3a"
          ],
          [
           0.8888888888888888,
           "#fdca26"
          ],
          [
           1,
           "#f0f921"
          ]
         ]
        },
        "legend": {
         "tracegroupgap": 0
        },
        "template": {
         "data": {
          "bar": [
           {
            "error_x": {
             "color": "#2a3f5f"
            },
            "error_y": {
             "color": "#2a3f5f"
            },
            "marker": {
             "line": {
              "color": "#E5ECF6",
              "width": 0.5
             },
             "pattern": {
              "fillmode": "overlay",
              "size": 10,
              "solidity": 0.2
             }
            },
            "type": "bar"
           }
          ],
          "barpolar": [
           {
            "marker": {
             "line": {
              "color": "#E5ECF6",
              "width": 0.5
             },
             "pattern": {
              "fillmode": "overlay",
              "size": 10,
              "solidity": 0.2
             }
            },
            "type": "barpolar"
           }
          ],
          "carpet": [
           {
            "aaxis": {
             "endlinecolor": "#2a3f5f",
             "gridcolor": "white",
             "linecolor": "white",
             "minorgridcolor": "white",
             "startlinecolor": "#2a3f5f"
            },
            "baxis": {
             "endlinecolor": "#2a3f5f",
             "gridcolor": "white",
             "linecolor": "white",
             "minorgridcolor": "white",
             "startlinecolor": "#2a3f5f"
            },
            "type": "carpet"
           }
          ],
          "choropleth": [
           {
            "colorbar": {
             "outlinewidth": 0,
             "ticks": ""
            },
            "type": "choropleth"
           }
          ],
          "contour": [
           {
            "colorbar": {
             "outlinewidth": 0,
             "ticks": ""
            },
            "colorscale": [
             [
              0,
              "#0d0887"
             ],
             [
              0.1111111111111111,
              "#46039f"
             ],
             [
              0.2222222222222222,
              "#7201a8"
             ],
             [
              0.3333333333333333,
              "#9c179e"
             ],
             [
              0.4444444444444444,
              "#bd3786"
             ],
             [
              0.5555555555555556,
              "#d8576b"
             ],
             [
              0.6666666666666666,
              "#ed7953"
             ],
             [
              0.7777777777777778,
              "#fb9f3a"
             ],
             [
              0.8888888888888888,
              "#fdca26"
             ],
             [
              1,
              "#f0f921"
             ]
            ],
            "type": "contour"
           }
          ],
          "contourcarpet": [
           {
            "colorbar": {
             "outlinewidth": 0,
             "ticks": ""
            },
            "type": "contourcarpet"
           }
          ],
          "heatmap": [
           {
            "colorbar": {
             "outlinewidth": 0,
             "ticks": ""
            },
            "colorscale": [
             [
              0,
              "#0d0887"
             ],
             [
              0.1111111111111111,
              "#46039f"
             ],
             [
              0.2222222222222222,
              "#7201a8"
             ],
             [
              0.3333333333333333,
              "#9c179e"
             ],
             [
              0.4444444444444444,
              "#bd3786"
             ],
             [
              0.5555555555555556,
              "#d8576b"
             ],
             [
              0.6666666666666666,
              "#ed7953"
             ],
             [
              0.7777777777777778,
              "#fb9f3a"
             ],
             [
              0.8888888888888888,
              "#fdca26"
             ],
             [
              1,
              "#f0f921"
             ]
            ],
            "type": "heatmap"
           }
          ],
          "histogram": [
           {
            "marker": {
             "pattern": {
              "fillmode": "overlay",
              "size": 10,
              "solidity": 0.2
             }
            },
            "type": "histogram"
           }
          ],
          "histogram2d": [
           {
            "colorbar": {
             "outlinewidth": 0,
             "ticks": ""
            },
            "colorscale": [
             [
              0,
              "#0d0887"
             ],
             [
              0.1111111111111111,
              "#46039f"
             ],
             [
              0.2222222222222222,
              "#7201a8"
             ],
             [
              0.3333333333333333,
              "#9c179e"
             ],
             [
              0.4444444444444444,
              "#bd3786"
             ],
             [
              0.5555555555555556,
              "#d8576b"
             ],
             [
              0.6666666666666666,
              "#ed7953"
             ],
             [
              0.7777777777777778,
              "#fb9f3a"
             ],
             [
              0.8888888888888888,
              "#fdca26"
             ],
             [
              1,
              "#f0f921"
             ]
            ],
            "type": "histogram2d"
           }
          ],
          "histogram2dcontour": [
           {
            "colorbar": {
             "outlinewidth": 0,
             "ticks": ""
            },
            "colorscale": [
             [
              0,
              "#0d0887"
             ],
             [
              0.1111111111111111,
              "#46039f"
             ],
             [
              0.2222222222222222,
              "#7201a8"
             ],
             [
              0.3333333333333333,
              "#9c179e"
             ],
             [
              0.4444444444444444,
              "#bd3786"
             ],
             [
              0.5555555555555556,
              "#d8576b"
             ],
             [
              0.6666666666666666,
              "#ed7953"
             ],
             [
              0.7777777777777778,
              "#fb9f3a"
             ],
             [
              0.8888888888888888,
              "#fdca26"
             ],
             [
              1,
              "#f0f921"
             ]
            ],
            "type": "histogram2dcontour"
           }
          ],
          "mesh3d": [
           {
            "colorbar": {
             "outlinewidth": 0,
             "ticks": ""
            },
            "type": "mesh3d"
           }
          ],
          "parcoords": [
           {
            "line": {
             "colorbar": {
              "outlinewidth": 0,
              "ticks": ""
             }
            },
            "type": "parcoords"
           }
          ],
          "pie": [
           {
            "automargin": true,
            "type": "pie"
           }
          ],
          "scatter": [
           {
            "fillpattern": {
             "fillmode": "overlay",
             "size": 10,
             "solidity": 0.2
            },
            "type": "scatter"
           }
          ],
          "scatter3d": [
           {
            "line": {
             "colorbar": {
              "outlinewidth": 0,
              "ticks": ""
             }
            },
            "marker": {
             "colorbar": {
              "outlinewidth": 0,
              "ticks": ""
             }
            },
            "type": "scatter3d"
           }
          ],
          "scattercarpet": [
           {
            "marker": {
             "colorbar": {
              "outlinewidth": 0,
              "ticks": ""
             }
            },
            "type": "scattercarpet"
           }
          ],
          "scattergeo": [
           {
            "marker": {
             "colorbar": {
              "outlinewidth": 0,
              "ticks": ""
             }
            },
            "type": "scattergeo"
           }
          ],
          "scattergl": [
           {
            "marker": {
             "colorbar": {
              "outlinewidth": 0,
              "ticks": ""
             }
            },
            "type": "scattergl"
           }
          ],
          "scattermap": [
           {
            "marker": {
             "colorbar": {
              "outlinewidth": 0,
              "ticks": ""
             }
            },
            "type": "scattermap"
           }
          ],
          "scattermapbox": [
           {
            "marker": {
             "colorbar": {
              "outlinewidth": 0,
              "ticks": ""
             }
            },
            "type": "scattermapbox"
           }
          ],
          "scatterpolar": [
           {
            "marker": {
             "colorbar": {
              "outlinewidth": 0,
              "ticks": ""
             }
            },
            "type": "scatterpolar"
           }
          ],
          "scatterpolargl": [
           {
            "marker": {
             "colorbar": {
              "outlinewidth": 0,
              "ticks": ""
             }
            },
            "type": "scatterpolargl"
           }
          ],
          "scatterternary": [
           {
            "marker": {
             "colorbar": {
              "outlinewidth": 0,
              "ticks": ""
             }
            },
            "type": "scatterternary"
           }
          ],
          "surface": [
           {
            "colorbar": {
             "outlinewidth": 0,
             "ticks": ""
            },
            "colorscale": [
             [
              0,
              "#0d0887"
             ],
             [
              0.1111111111111111,
              "#46039f"
             ],
             [
              0.2222222222222222,
              "#7201a8"
             ],
             [
              0.3333333333333333,
              "#9c179e"
             ],
             [
              0.4444444444444444,
              "#bd3786"
             ],
             [
              0.5555555555555556,
              "#d8576b"
             ],
             [
              0.6666666666666666,
              "#ed7953"
             ],
             [
              0.7777777777777778,
              "#fb9f3a"
             ],
             [
              0.8888888888888888,
              "#fdca26"
             ],
             [
              1,
              "#f0f921"
             ]
            ],
            "type": "surface"
           }
          ],
          "table": [
           {
            "cells": {
             "fill": {
              "color": "#EBF0F8"
             },
             "line": {
              "color": "white"
             }
            },
            "header": {
             "fill": {
              "color": "#C8D4E3"
             },
             "line": {
              "color": "white"
             }
            },
            "type": "table"
           }
          ]
         },
         "layout": {
          "annotationdefaults": {
           "arrowcolor": "#2a3f5f",
           "arrowhead": 0,
           "arrowwidth": 1
          },
          "autotypenumbers": "strict",
          "coloraxis": {
           "colorbar": {
            "outlinewidth": 0,
            "ticks": ""
           }
          },
          "colorscale": {
           "diverging": [
            [
             0,
             "#8e0152"
            ],
            [
             0.1,
             "#c51b7d"
            ],
            [
             0.2,
             "#de77ae"
            ],
            [
             0.3,
             "#f1b6da"
            ],
            [
             0.4,
             "#fde0ef"
            ],
            [
             0.5,
             "#f7f7f7"
            ],
            [
             0.6,
             "#e6f5d0"
            ],
            [
             0.7,
             "#b8e186"
            ],
            [
             0.8,
             "#7fbc41"
            ],
            [
             0.9,
             "#4d9221"
            ],
            [
             1,
             "#276419"
            ]
           ],
           "sequential": [
            [
             0,
             "#0d0887"
            ],
            [
             0.1111111111111111,
             "#46039f"
            ],
            [
             0.2222222222222222,
             "#7201a8"
            ],
            [
             0.3333333333333333,
             "#9c179e"
            ],
            [
             0.4444444444444444,
             "#bd3786"
            ],
            [
             0.5555555555555556,
             "#d8576b"
            ],
            [
             0.6666666666666666,
             "#ed7953"
            ],
            [
             0.7777777777777778,
             "#fb9f3a"
            ],
            [
             0.8888888888888888,
             "#fdca26"
            ],
            [
             1,
             "#f0f921"
            ]
           ],
           "sequentialminus": [
            [
             0,
             "#0d0887"
            ],
            [
             0.1111111111111111,
             "#46039f"
            ],
            [
             0.2222222222222222,
             "#7201a8"
            ],
            [
             0.3333333333333333,
             "#9c179e"
            ],
            [
             0.4444444444444444,
             "#bd3786"
            ],
            [
             0.5555555555555556,
             "#d8576b"
            ],
            [
             0.6666666666666666,
             "#ed7953"
            ],
            [
             0.7777777777777778,
             "#fb9f3a"
            ],
            [
             0.8888888888888888,
             "#fdca26"
            ],
            [
             1,
             "#f0f921"
            ]
           ]
          },
          "colorway": [
           "#636efa",
           "#EF553B",
           "#00cc96",
           "#ab63fa",
           "#FFA15A",
           "#19d3f3",
           "#FF6692",
           "#B6E880",
           "#FF97FF",
           "#FECB52"
          ],
          "font": {
           "color": "#2a3f5f"
          },
          "geo": {
           "bgcolor": "white",
           "lakecolor": "white",
           "landcolor": "#E5ECF6",
           "showlakes": true,
           "showland": true,
           "subunitcolor": "white"
          },
          "hoverlabel": {
           "align": "left"
          },
          "hovermode": "closest",
          "mapbox": {
           "style": "light"
          },
          "paper_bgcolor": "white",
          "plot_bgcolor": "#E5ECF6",
          "polar": {
           "angularaxis": {
            "gridcolor": "white",
            "linecolor": "white",
            "ticks": ""
           },
           "bgcolor": "#E5ECF6",
           "radialaxis": {
            "gridcolor": "white",
            "linecolor": "white",
            "ticks": ""
           }
          },
          "scene": {
           "xaxis": {
            "backgroundcolor": "#E5ECF6",
            "gridcolor": "white",
            "gridwidth": 2,
            "linecolor": "white",
            "showbackground": true,
            "ticks": "",
            "zerolinecolor": "white"
           },
           "yaxis": {
            "backgroundcolor": "#E5ECF6",
            "gridcolor": "white",
            "gridwidth": 2,
            "linecolor": "white",
            "showbackground": true,
            "ticks": "",
            "zerolinecolor": "white"
           },
           "zaxis": {
            "backgroundcolor": "#E5ECF6",
            "gridcolor": "white",
            "gridwidth": 2,
            "linecolor": "white",
            "showbackground": true,
            "ticks": "",
            "zerolinecolor": "white"
           }
          },
          "shapedefaults": {
           "line": {
            "color": "#2a3f5f"
           }
          },
          "ternary": {
           "aaxis": {
            "gridcolor": "white",
            "linecolor": "white",
            "ticks": ""
           },
           "baxis": {
            "gridcolor": "white",
            "linecolor": "white",
            "ticks": ""
           },
           "bgcolor": "#E5ECF6",
           "caxis": {
            "gridcolor": "white",
            "linecolor": "white",
            "ticks": ""
           }
          },
          "title": {
           "x": 0.05
          },
          "xaxis": {
           "automargin": true,
           "gridcolor": "white",
           "linecolor": "white",
           "ticks": "",
           "title": {
            "standoff": 15
           },
           "zerolinecolor": "white",
           "zerolinewidth": 2
          },
          "yaxis": {
           "automargin": true,
           "gridcolor": "white",
           "linecolor": "white",
           "ticks": "",
           "title": {
            "standoff": 15
           },
           "zerolinecolor": "white",
           "zerolinewidth": 2
          }
         }
        },
        "title": {
         "text": "Visualisation t-SNE des genres musicaux"
        },
        "xaxis": {
         "anchor": "y",
         "domain": [
          0,
          1
         ],
         "title": {
          "text": "x"
         }
        },
        "yaxis": {
         "anchor": "x",
         "domain": [
          0,
          1
         ],
         "title": {
          "text": "y"
         }
        }
       }
      }
     },
     "metadata": {},
     "output_type": "display_data"
    }
   ],
   "source": [
    "import numpy as np\n",
    "import pandas as pd\n",
    "import plotly.express as px\n",
    "from sklearn.decomposition import PCA\n",
    "from sklearn.manifold import TSNE\n",
    "from sklearn.preprocessing import StandardScaler\n",
    "\n",
    "# 🚀 Étape 1 : Normalisation des données\n",
    "scaler = StandardScaler()\n",
    "X_scaled = scaler.fit_transform(X)  # X doit être un DataFrame contenant uniquement des valeurs numériques\n",
    "\n",
    "# 🚀 Étape 2 : Réduction de dimension avec PCA\n",
    "# Trouver automatiquement le meilleur nombre de composantes\n",
    "pca = PCA().fit(X_scaled)\n",
    "cum_variance = np.cumsum(pca.explained_variance_ratio_)\n",
    "optimal_n = np.argmax(cum_variance >= 0.95) + 1  # On garde 95% de la variance\n",
    "\n",
    "# Appliquer PCA avec ce nombre optimal de composantes\n",
    "pca = PCA(n_components=optimal_n)\n",
    "X_pca = pca.fit_transform(X_scaled)\n",
    "\n",
    "# 🚀 Étape 3 : Application de t-SNE\n",
    "tsne = TSNE(n_components=2, perplexity=10, learning_rate=200, n_iter=2000, random_state=42, verbose=1)\n",
    "genre_embedding = tsne.fit_transform(X_pca)\n",
    "\n",
    "# 🚀 Étape 4 : Création du DataFrame pour la visualisation\n",
    "projection = pd.DataFrame(columns=['x', 'y'], data=genre_embedding)\n",
    "projection['genres'] = genre_data['genres']  # Associe les genres aux points t-SNE\n",
    "projection['cluster'] = genre_data['cluster']  # Associe les clusters KMeans\n",
    "\n",
    "# 🚀 Étape 5 : Visualisation avec Plotly\n",
    "fig = px.scatter(\n",
    "\tprojection, x='x', y='y', color='cluster', hover_data=['x', 'y', 'genres'],\n",
    "\ttitle=\"Visualisation t-SNE des genres musicaux\"\n",
    ")\n",
    "fig.show()\n"
   ]
  },
  {
   "cell_type": "markdown",
   "id": "427a3dd61cbd197d",
   "metadata": {},
   "source": [
    "Normalisation des données → Les valeurs sont mises à l’échelle pour éviter que certaines caractéristiques aient trop d’influence sur la suite de l’analyse.\n",
    "\n",
    "Réduction de dimension avec PCA → L’algorithme PCA est utilisé pour compresser les données tout en conservant 95% de l’information. Cela permet de réduire le nombre de variables tout en minimisant la perte d’information.\n",
    "\n",
    "Application de t-SNE → Une seconde réduction de dimension est appliquée, cette fois avec t-SNE, qui permet de projeter les données en 2D pour les visualiser tout en préservant au mieux les relations entre genres.\n",
    "\n",
    "Création d’un DataFrame pour la visualisation → Chaque point de la projection est associé à son genre musical et au cluster déterminé par K-Means.\n",
    "\n",
    "Visualisation avec Plotly → Un graphique interactif est généré où chaque point représente un genre musical, coloré en fonction de son cluster. Cela permet d’observer comment les genres se regroupent et quelles sont leurs similitudes.\n",
    "\n",
    "On fait ca pour :\n",
    "\n",
    "Identifier les groupes de genres similaires.\n",
    "Observer si les clusters formés par K-Means correspondent aux tendances naturelles des données.\n",
    "Comprendre les relations entre les genres musicaux en un coup d'œil."
   ]
  },
  {
   "cell_type": "code",
   "execution_count": 56,
   "id": "e1639bd0a77c3b6f",
   "metadata": {
    "ExecuteTime": {
     "end_time": "2025-02-08T19:11:59.782587900Z",
     "start_time": "2025-02-08T19:11:59.731752700Z"
    }
   },
   "outputs": [
    {
     "ename": "SpotifyOauthError",
     "evalue": "No client_id. Pass it or set a SPOTIPY_CLIENT_ID environment variable.",
     "output_type": "error",
     "traceback": [
      "\u001b[1;31m---------------------------------------------------------------------------\u001b[0m",
      "\u001b[1;31mSpotifyOauthError\u001b[0m                         Traceback (most recent call last)",
      "Cell \u001b[1;32mIn[56], line 10\u001b[0m\n\u001b[0;32m      7\u001b[0m os\u001b[38;5;241m.\u001b[39menviron[\u001b[38;5;124m\"\u001b[39m\u001b[38;5;124mSPOTIFY_CLIENT_ID\u001b[39m\u001b[38;5;124m\"\u001b[39m] \u001b[38;5;241m=\u001b[39m \u001b[38;5;124m\"\u001b[39m\u001b[38;5;124m\"\u001b[39m\n\u001b[0;32m      8\u001b[0m os\u001b[38;5;241m.\u001b[39menviron[\u001b[38;5;124m\"\u001b[39m\u001b[38;5;124mSPOTIFY_CLIENT_SECRET\u001b[39m\u001b[38;5;124m\"\u001b[39m] \u001b[38;5;241m=\u001b[39m \u001b[38;5;124m\"\u001b[39m\u001b[38;5;124m\"\u001b[39m\n\u001b[1;32m---> 10\u001b[0m sp \u001b[38;5;241m=\u001b[39m spotipy\u001b[38;5;241m.\u001b[39mSpotify(auth_manager\u001b[38;5;241m=\u001b[39m\u001b[43mSpotifyClientCredentials\u001b[49m\u001b[43m(\u001b[49m\u001b[43mclient_id\u001b[49m\u001b[38;5;241;43m=\u001b[39;49m\u001b[43mos\u001b[49m\u001b[38;5;241;43m.\u001b[39;49m\u001b[43menviron\u001b[49m\u001b[43m[\u001b[49m\u001b[38;5;124;43m\"\u001b[39;49m\u001b[38;5;124;43mSPOTIFY_CLIENT_ID\u001b[39;49m\u001b[38;5;124;43m\"\u001b[39;49m\u001b[43m]\u001b[49m\u001b[43m,\u001b[49m\n\u001b[0;32m     11\u001b[0m \u001b[43m                                                           \u001b[49m\u001b[43mclient_secret\u001b[49m\u001b[38;5;241;43m=\u001b[39;49m\u001b[43mos\u001b[49m\u001b[38;5;241;43m.\u001b[39;49m\u001b[43menviron\u001b[49m\u001b[43m[\u001b[49m\u001b[38;5;124;43m\"\u001b[39;49m\u001b[38;5;124;43mSPOTIFY_CLIENT_SECRET\u001b[39;49m\u001b[38;5;124;43m\"\u001b[39;49m\u001b[43m]\u001b[49m\u001b[43m)\u001b[49m)\n\u001b[0;32m     14\u001b[0m \u001b[38;5;28;01mdef\u001b[39;00m \u001b[38;5;21mfind_song\u001b[39m(name, year):\n\u001b[0;32m     15\u001b[0m \tsong_data \u001b[38;5;241m=\u001b[39m defaultdict()\n",
      "File \u001b[1;32mc:\\Users\\anta\\PycharmProjects\\uta\\.venv\\Lib\\site-packages\\spotipy\\oauth2.py:170\u001b[0m, in \u001b[0;36mSpotifyClientCredentials.__init__\u001b[1;34m(self, client_id, client_secret, proxies, requests_session, requests_timeout, cache_handler)\u001b[0m\n\u001b[0;32m    141\u001b[0m \u001b[38;5;250m\u001b[39m\u001b[38;5;124;03m\"\"\"\u001b[39;00m\n\u001b[0;32m    142\u001b[0m \u001b[38;5;124;03mCreates a Client Credentials Flow Manager.\u001b[39;00m\n\u001b[0;32m    143\u001b[0m \n\u001b[1;32m   (...)\u001b[0m\n\u001b[0;32m    165\u001b[0m \n\u001b[0;32m    166\u001b[0m \u001b[38;5;124;03m\"\"\"\u001b[39;00m\n\u001b[0;32m    168\u001b[0m \u001b[38;5;28msuper\u001b[39m()\u001b[38;5;241m.\u001b[39m\u001b[38;5;21m__init__\u001b[39m(requests_session)\n\u001b[1;32m--> 170\u001b[0m \u001b[38;5;28;43mself\u001b[39;49m\u001b[38;5;241;43m.\u001b[39;49m\u001b[43mclient_id\u001b[49m \u001b[38;5;241m=\u001b[39m client_id\n\u001b[0;32m    171\u001b[0m \u001b[38;5;28mself\u001b[39m\u001b[38;5;241m.\u001b[39mclient_secret \u001b[38;5;241m=\u001b[39m client_secret\n\u001b[0;32m    172\u001b[0m \u001b[38;5;28mself\u001b[39m\u001b[38;5;241m.\u001b[39mproxies \u001b[38;5;241m=\u001b[39m proxies\n",
      "File \u001b[1;32mc:\\Users\\anta\\PycharmProjects\\uta\\.venv\\Lib\\site-packages\\spotipy\\oauth2.py:65\u001b[0m, in \u001b[0;36mSpotifyAuthBase.client_id\u001b[1;34m(self, val)\u001b[0m\n\u001b[0;32m     63\u001b[0m \u001b[38;5;129m@client_id\u001b[39m\u001b[38;5;241m.\u001b[39msetter\n\u001b[0;32m     64\u001b[0m \u001b[38;5;28;01mdef\u001b[39;00m \u001b[38;5;21mclient_id\u001b[39m(\u001b[38;5;28mself\u001b[39m, val):\n\u001b[1;32m---> 65\u001b[0m     \u001b[38;5;28mself\u001b[39m\u001b[38;5;241m.\u001b[39m_client_id \u001b[38;5;241m=\u001b[39m \u001b[43m_ensure_value\u001b[49m\u001b[43m(\u001b[49m\u001b[43mval\u001b[49m\u001b[43m,\u001b[49m\u001b[43m \u001b[49m\u001b[38;5;124;43m\"\u001b[39;49m\u001b[38;5;124;43mclient_id\u001b[39;49m\u001b[38;5;124;43m\"\u001b[39;49m\u001b[43m)\u001b[49m\n",
      "File \u001b[1;32mc:\\Users\\anta\\PycharmProjects\\uta\\.venv\\Lib\\site-packages\\spotipy\\oauth2.py:41\u001b[0m, in \u001b[0;36m_ensure_value\u001b[1;34m(value, env_key)\u001b[0m\n\u001b[0;32m     39\u001b[0m \u001b[38;5;28;01mif\u001b[39;00m _val \u001b[38;5;129;01mis\u001b[39;00m \u001b[38;5;28;01mNone\u001b[39;00m:\n\u001b[0;32m     40\u001b[0m     msg \u001b[38;5;241m=\u001b[39m \u001b[38;5;124mf\u001b[39m\u001b[38;5;124m\"\u001b[39m\u001b[38;5;124mNo \u001b[39m\u001b[38;5;132;01m{\u001b[39;00menv_key\u001b[38;5;132;01m}\u001b[39;00m\u001b[38;5;124m. Pass it or set a \u001b[39m\u001b[38;5;132;01m{\u001b[39;00menv_val\u001b[38;5;132;01m}\u001b[39;00m\u001b[38;5;124m environment variable.\u001b[39m\u001b[38;5;124m\"\u001b[39m\n\u001b[1;32m---> 41\u001b[0m     \u001b[38;5;28;01mraise\u001b[39;00m SpotifyOauthError(msg)\n\u001b[0;32m     42\u001b[0m \u001b[38;5;28;01mreturn\u001b[39;00m _val\n",
      "\u001b[1;31mSpotifyOauthError\u001b[0m: No client_id. Pass it or set a SPOTIPY_CLIENT_ID environment variable."
     ]
    }
   ],
   "source": [
    "import spotipy\n",
    "from spotipy.oauth2 import SpotifyClientCredentials\n",
    "import os\n",
    "\n",
    "os.environ[\"SPOTIFY_CLIENT_ID\"] = \"\"\n",
    "os.environ[\"SPOTIFY_CLIENT_SECRET\"] = \"\"\n",
    "\n",
    "sp = spotipy.Spotify(auth_manager=SpotifyClientCredentials(client_id=os.environ[\"SPOTIFY_CLIENT_ID\"],\n",
    "                                                           client_secret=os.environ[\"SPOTIFY_CLIENT_SECRET\"]))\n",
    "\n",
    "\n",
    "def find_song(name, year):\n",
    "\tsong_data = defaultdict()\n",
    "\tresults = sp.search(q='track: {} year: {}'.format(name, year), limit=1)\n",
    "\tif not results['tracks']['items']:\n",
    "\t\treturn None\n",
    "\n",
    "\tresults = results['tracks']['items'][0]\n",
    "\ttrack_id = results['id']\n",
    "\taudio_features = sp.audio_features(track_id)[0]\n",
    "\n",
    "\tsong_data['name'] = [name]\n",
    "\tsong_data['year'] = [year]\n",
    "\tsong_data['explicit'] = [int(results['explicit'])]\n",
    "\tsong_data['duration_ms'] = [results['duration_ms']]\n",
    "\tsong_data['popularity'] = [results['popularity']]\n",
    "\n",
    "\tfor key, value in audio_features.items():\n",
    "\t\tsong_data[key] = value\n",
    "\n",
    "\treturn pd.DataFrame(song_data)\n",
    "\n"
   ]
  },
  {
   "cell_type": "markdown",
   "id": "dffee3f8d2f93118",
   "metadata": {},
   "source": [
    "Authentification avec l'API Spotify\n",
    "Les identifiants Client ID et Client Secret sont stockés dans des variables d'environnement pour s’authentifier auprès de Spotify.\n",
    "L’objet SpotifyClientCredentials est utilisé pour se connecter à l’API en mode lecture seule (sans besoin d’authentification utilisateur).\n",
    "Fonction find_song(name, year)\n",
    "Cette fonction permet de retrouver une chanson et d’en extraire des données audio et des métadonnées.\n",
    "\n",
    "🔹 Recherche de la chanson\n",
    "On effectue une recherche avec sp.search(), en précisant le nom du morceau et l’année.\n",
    "Si aucun résultat n’est trouvé, la fonction retourne None.\\\n",
    "🔹 Extraction des informations\n",
    "Si un morceau est trouvé, on récupère :\n",
    "\n",
    "ID Spotify (track_id) → Identifiant unique du morceau.\n",
    "Données générales :\n",
    "Nom, année, durée (duration_ms), popularité, et si le morceau est explicite (explicit).\n",
    "Caractéristiques audio (audio_features) :\n",
    "Spotify fournit des données analytiques sur la chanson (ex : énergie, danceability, tempo, loudness, valence, etc.).\n",
    "Ces valeurs sont récupérées et stockées sous forme de DataFrame pandas pour une analyse plus facile.\n",
    "Retour de la fonction\n",
    "La fonction retourne un DataFrame contenant toutes ces informations.\n",
    "Cela permet d'analyser un morceau spécifique et de l'intégrer à un dataset plus large si besoin.\n",
    "Pourquoi utiliser cette approche ?\n",
    "Accéder aux données de Spotify directement à partir d’un script.\n",
    "Analyser les caractéristiques d’un morceau sans télécharger de fichiers audio.\n",
    "Utiliser ces données pour du machine learning, comme la prédiction de popularité ou le clustering de morceaux."
   ]
  },
  {
   "cell_type": "code",
   "execution_count": 30,
   "id": "58773e32676d444e",
   "metadata": {
    "ExecuteTime": {
     "end_time": "2025-02-08T19:11:59.782587900Z",
     "start_time": "2025-02-08T19:11:59.731752700Z"
    }
   },
   "outputs": [],
   "source": [
    "from collections import defaultdict\n",
    "from scipy.spatial.distance import cdist\n",
    "\n",
    "number_cols = ['valence', 'year', 'acousticness', 'danceability', 'duration_ms', 'energy','instrumentalness', 'key', 'liveness', 'loudness', 'mode', 'popularity', 'speechiness', 'tempo']\n",
    "\n",
    "\n",
    "def get_song_data(song, spotify_data):\n",
    "\ttry:\n",
    "\t\tsong_data = spotify_data[(spotify_data['name'] == song['name'])\n",
    "\t\t                         & (spotify_data['year'] == song['year'])].iloc[0]\n",
    "\t\treturn song_data\n",
    "\n",
    "\texcept IndexError:\n",
    "\t\treturn find_song(song['name'], song['year'])\n",
    "\n",
    "\n",
    "def get_mean_vector(song_list, spotify_data):\n",
    "\tsong_vectors = []\n",
    "\n",
    "\tfor song in song_list:\n",
    "\t\tsong_data = get_song_data(song, spotify_data)\n",
    "\t\tif song_data is None:\n",
    "\t\t\tprint('Warning: {} does not exist in Spotify or in database'.format(song['name']))\n",
    "\t\t\tcontinue\n",
    "\t\tsong_vector = song_data[number_cols].values\n",
    "\t\tsong_vectors.append(song_vector)\n",
    "\n",
    "\tsong_matrix = np.array(list(song_vectors))\n",
    "\treturn np.mean(song_matrix, axis=0)\n",
    "\n",
    "\n",
    "def flatten_dict_list(dict_list):\n",
    "\tflattened_dict = defaultdict()\n",
    "\tfor key in dict_list[0].keys():\n",
    "\t\tflattened_dict[key] = []\n",
    "\n",
    "\tfor dictionary in dict_list:\n",
    "\t\tfor key, value in dictionary.items():\n",
    "\t\t\tflattened_dict[key].append(value)\n",
    "\n",
    "\treturn flattened_dict\n",
    "\n",
    "\n",
    "def recommend_songs(song_list, spotify_data, n_songs=10):\n",
    "    metadata_cols = ['name', 'year', 'artists']\n",
    "    song_dict = flatten_dict_list(song_list)\n",
    "    \n",
    "    song_center = get_mean_vector(song_list, spotify_data)\n",
    "    \n",
    "    # Create and fit the scaler here instead of using undefined cluster_pipeline\n",
    "    scaler = StandardScaler()\n",
    "    scaled_data = scaler.fit_transform(spotify_data[number_cols])\n",
    "    scaled_song_center = scaler.transform(song_center.reshape(1, -1))\n",
    "    \n",
    "    distances = cdist(scaled_song_center, scaled_data, 'cosine')\n",
    "    index = list(np.argsort(distances)[:, :n_songs][0])\n",
    "    \n",
    "    rec_songs = spotify_data.iloc[index]\n",
    "    rec_songs = rec_songs[~rec_songs['name'].isin(song_dict['name'])]\n",
    "    return rec_songs[metadata_cols].to_dict(orient='records')"
   ]
  },
  {
   "cell_type": "markdown",
   "id": "bc852439f5290f5",
   "metadata": {},
   "source": [
    " Définition des colonnes utilisées\n",
    " number_cols contient les caractéristiques audio et métadonnées numériques des morceaux (valence, danceability, tempo, popularity, etc.).\n",
    "Ce sont ces valeurs qui seront comparées pour déterminer la similarité entre les chansons.\n",
    "\n",
    "Fonction get_song_data(song, spotify_data)\n",
    "🔹 Objectif → Retrouver les données d’une chanson dans le dataset spotify_data.\n",
    "\n",
    "On cherche une correspondance exacte entre le nom du morceau et l’année.\n",
    "Si la chanson n’est pas trouvée dans spotify_data, elle est récupérée en appelant find_song(), qui utilise l'API Spotify pour chercher les infos manquantes.\n",
    "Si la chanson n’existe ni dans spotify_data ni sur Spotify, la fonction retourne None.\n",
    "Fonction get_mean_vector(song_list, spotify_data)\n",
    "🔹 Objectif → Calculer un vecteur moyen représentant l’ensemble des chansons de la liste.\n",
    "\n",
    "Pour chaque chanson de song_list, on récupère son vecteur de caractéristiques audio (number_cols).\n",
    "On calcule ensuite la moyenne de tous ces vecteurs pour obtenir un point central qui représente l’essence des morceaux donnés.\n",
    " Cette approche permet de recommander des morceaux proches de l’ensemble des chansons données, plutôt que d’en comparer une seule.\n",
    "\n",
    " Fonction flatten_dict_list(dict_list)\n",
    "🔹 Objectif → Transformer une liste de dictionnaires en un dictionnaire unique regroupant les valeurs par clé.\n",
    "\n",
    "Permet de manipuler plus facilement les informations des morceaux de song_list.\n",
    " Fonction recommend_songs(song_list, spotify_data, n_songs=10)\n",
    "🔹 Objectif → Trouver les 10 chansons les plus similaires à la liste de morceaux donnée.\n",
    "\n",
    "Comment ça fonctionne ?\n",
    "\n",
    "On récupère les métadonnées des morceaux donnés (song_dict)\n",
    "On calcule le vecteur moyen (song_center) → On cherche un point central qui représente la liste des chansons données.\n",
    "On normalise les données (StandardScaler) → Cela permet d’éviter que certaines caractéristiques n’aient trop d’impact sur la distance calculée.\n",
    "On calcule les distances cosinus (cdist) → Mesure de similarité entre song_center et tous les morceaux du dataset.\n",
    "On sélectionne les n_songs morceaux les plus proches → Ces morceaux sont considérés comme les plus similaires aux morceaux donnés.\n",
    "On exclut les chansons déjà présentes dans la playlist d’origine pour éviter les doublons.\n",
    "On retourne la recommandation sous forme d’une liste de dictionnaires contenant les noms, années et artistes des morceaux recommandés.\n",
    "\n",
    "Recommandation musicale personnalisée → On trouve des morceaux similaires en analysant les caractéristiques audio plutôt que des simples associations basées sur les artistes ou genres.\n",
    "Utilisation de la distance cosinus → Plus fiable que la distance euclidienne pour comparer des vecteurs normalisés.\n",
    "Approche basée sur plusieurs morceaux → On ne recommande pas juste des morceaux similaires à une chanson, mais à l’ensemble de la playlist donnée."
   ]
  },
  {
   "cell_type": "code",
   "execution_count": null,
   "id": "d8574389daf417a8",
   "metadata": {
    "ExecuteTime": {
     "end_time": "2025-02-08T19:11:59.783099600Z",
     "start_time": "2025-02-08T19:11:59.731752700Z"
    }
   },
   "outputs": [
    {
     "data": {
      "text/plain": [
       "[{'name': 'Mundo de Piedra', 'year': 2012, 'artists': \"['Canserbero']\"},\n",
       " {'name': 'Abusadora', 'year': 2009, 'artists': \"['Wisin & Yandel']\"},\n",
       " {'name': 'GOOD BOY', 'year': 2014, 'artists': \"['GD X TAEYANG']\"},\n",
       " {'name': 'Why Would I Stop?', 'year': 2020, 'artists': \"['Big Sean']\"},\n",
       " {'name': 'OK Not To Be OK',\n",
       "  'year': 2020,\n",
       "  'artists': \"['Marshmello', 'Demi Lovato']\"},\n",
       " {'name': 'Final Song', 'year': 2016, 'artists': \"['MØ']\"},\n",
       " {'name': 'Guatemala - From Swaecation',\n",
       "  'year': 2018,\n",
       "  'artists': \"['Rae Sremmurd', 'Swae Lee', 'Slim Jxmmi']\"},\n",
       " {'name': 'Time', 'year': 2019, 'artists': \"['NF']\"},\n",
       " {'name': 'Marciano (I Turned Into A Martian)',\n",
       "  'year': 2004,\n",
       "  'artists': \"['Molotov']\"}]"
      ]
     },
     "execution_count": 43,
     "metadata": {},
     "output_type": "execute_result"
    }
   ],
   "source": [
    "# recommend_songs([{'name': 'Stay Away', 'year': 1993, 'name': 'Come As You Are', 'year': 1991, 'name': 'Smells Like Teen Spirit', 'year': 1991, 'name': 'Lithium', 'year': 1992, 'name': 'Perfect', 'year': 2017 }], data)\n",
    "# test with only smells like teen spirit\n",
    "recommend_songs([{'name': 'Turn Down for What', 'year': 2013}], data)"
   ]
  }
 ],
 "metadata": {
  "kernelspec": {
   "display_name": ".venv",
   "language": "python",
   "name": "python3"
  },
  "language_info": {
   "codemirror_mode": {
    "name": "ipython",
    "version": 3
   },
   "file_extension": ".py",
   "mimetype": "text/x-python",
   "name": "python",
   "nbconvert_exporter": "python",
   "pygments_lexer": "ipython3",
   "version": "3.12.0"
  }
 },
 "nbformat": 4,
 "nbformat_minor": 5
}
